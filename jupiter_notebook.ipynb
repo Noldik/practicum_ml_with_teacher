{
 "cells": [
  {
   "cell_type": "markdown",
   "metadata": {
    "toc": true
   },
   "source": [
    "<h1>Содержание<span class=\"tocSkip\"></span></h1>\n",
    "<div class=\"toc\"><ul class=\"toc-item\"><li><span><a href=\"#Подготовка-данных\" data-toc-modified-id=\"Подготовка-данных-1\"><span class=\"toc-item-num\">1&nbsp;&nbsp;</span>Подготовка данных</a></span><ul class=\"toc-item\"><li><span><a href=\"#Обработка-дубликатов\" data-toc-modified-id=\"Обработка-дубликатов-1.1\"><span class=\"toc-item-num\">1.1&nbsp;&nbsp;</span>Обработка дубликатов</a></span></li><li><span><a href=\"#Исследование-пропусков\" data-toc-modified-id=\"Исследование-пропусков-1.2\"><span class=\"toc-item-num\">1.2&nbsp;&nbsp;</span>Исследование пропусков</a></span></li><li><span><a href=\"#Исследование-адекватности-значений\" data-toc-modified-id=\"Исследование-адекватности-значений-1.3\"><span class=\"toc-item-num\">1.3&nbsp;&nbsp;</span>Исследование адекватности значений</a></span></li><li><span><a href=\"#Фильтрация-колонок\" data-toc-modified-id=\"Фильтрация-колонок-1.4\"><span class=\"toc-item-num\">1.4&nbsp;&nbsp;</span>Фильтрация колонок</a></span></li><li><span><a href=\"#Масштабирование-значений\" data-toc-modified-id=\"Масштабирование-значений-1.5\"><span class=\"toc-item-num\">1.5&nbsp;&nbsp;</span>Масштабирование значений</a></span></li></ul></li><li><span><a href=\"#Исследование-задачи\" data-toc-modified-id=\"Исследование-задачи-2\"><span class=\"toc-item-num\">2&nbsp;&nbsp;</span>Исследование задачи</a></span><ul class=\"toc-item\"><li><span><a href=\"#Баланс-классов\" data-toc-modified-id=\"Баланс-классов-2.1\"><span class=\"toc-item-num\">2.1&nbsp;&nbsp;</span>Баланс классов</a></span></li><li><span><a href=\"#Моделирование\" data-toc-modified-id=\"Моделирование-2.2\"><span class=\"toc-item-num\">2.2&nbsp;&nbsp;</span>Моделирование</a></span><ul class=\"toc-item\"><li><span><a href=\"#Дерево-решающих-правил\" data-toc-modified-id=\"Дерево-решающих-правил-2.2.1\"><span class=\"toc-item-num\">2.2.1&nbsp;&nbsp;</span>Дерево решающих правил</a></span></li><li><span><a href=\"#Случайный-лес\" data-toc-modified-id=\"Случайный-лес-2.2.2\"><span class=\"toc-item-num\">2.2.2&nbsp;&nbsp;</span>Случайный лес</a></span></li><li><span><a href=\"#Логистическая-регрессия\" data-toc-modified-id=\"Логистическая-регрессия-2.2.3\"><span class=\"toc-item-num\">2.2.3&nbsp;&nbsp;</span>Логистическая регрессия</a></span></li></ul></li><li><span><a href=\"#Выводы\" data-toc-modified-id=\"Выводы-2.3\"><span class=\"toc-item-num\">2.3&nbsp;&nbsp;</span>Выводы</a></span></li></ul></li><li><span><a href=\"#Борьба-с-дисбалансом\" data-toc-modified-id=\"Борьба-с-дисбалансом-3\"><span class=\"toc-item-num\">3&nbsp;&nbsp;</span>Борьба с дисбалансом</a></span></li><li><span><a href=\"#Тестирование-модели\" data-toc-modified-id=\"Тестирование-модели-4\"><span class=\"toc-item-num\">4&nbsp;&nbsp;</span>Тестирование модели</a></span><ul class=\"toc-item\"><li><span><a href=\"#Тестирование-моделей-на-увеличенной-выборке\" data-toc-modified-id=\"Тестирование-моделей-на-увеличенной-выборке-4.1\"><span class=\"toc-item-num\">4.1&nbsp;&nbsp;</span>Тестирование моделей на увеличенной выборке</a></span><ul class=\"toc-item\"><li><span><a href=\"#Дерево-решающих-правил\" data-toc-modified-id=\"Дерево-решающих-правил-4.1.1\"><span class=\"toc-item-num\">4.1.1&nbsp;&nbsp;</span>Дерево решающих правил</a></span></li><li><span><a href=\"#Случайный-лес\" data-toc-modified-id=\"Случайный-лес-4.1.2\"><span class=\"toc-item-num\">4.1.2&nbsp;&nbsp;</span>Случайный лес</a></span></li><li><span><a href=\"#Логистическая-регрессия\" data-toc-modified-id=\"Логистическая-регрессия-4.1.3\"><span class=\"toc-item-num\">4.1.3&nbsp;&nbsp;</span>Логистическая регрессия</a></span><ul class=\"toc-item\"><li><span><a href=\"#Без-взвешивания-классов\" data-toc-modified-id=\"Без-взвешивания-классов-4.1.3.1\"><span class=\"toc-item-num\">4.1.3.1&nbsp;&nbsp;</span>Без взвешивания классов</a></span></li><li><span><a href=\"#С-взвешиванием-классов\" data-toc-modified-id=\"С-взвешиванием-классов-4.1.3.2\"><span class=\"toc-item-num\">4.1.3.2&nbsp;&nbsp;</span>С взвешиванием классов</a></span></li></ul></li></ul></li><li><span><a href=\"#Тестирование-моделей-на-уменьшенной-выборке\" data-toc-modified-id=\"Тестирование-моделей-на-уменьшенной-выборке-4.2\"><span class=\"toc-item-num\">4.2&nbsp;&nbsp;</span>Тестирование моделей на уменьшенной выборке</a></span><ul class=\"toc-item\"><li><span><a href=\"#Дерево-решающих-правил\" data-toc-modified-id=\"Дерево-решающих-правил-4.2.1\"><span class=\"toc-item-num\">4.2.1&nbsp;&nbsp;</span>Дерево решающих правил</a></span></li><li><span><a href=\"#Случайный-лес\" data-toc-modified-id=\"Случайный-лес-4.2.2\"><span class=\"toc-item-num\">4.2.2&nbsp;&nbsp;</span>Случайный лес</a></span></li><li><span><a href=\"#Логистическая-регрессия\" data-toc-modified-id=\"Логистическая-регрессия-4.2.3\"><span class=\"toc-item-num\">4.2.3&nbsp;&nbsp;</span>Логистическая регрессия</a></span><ul class=\"toc-item\"><li><span><a href=\"#Без-взвешивания-классов\" data-toc-modified-id=\"Без-взвешивания-классов-4.2.3.1\"><span class=\"toc-item-num\">4.2.3.1&nbsp;&nbsp;</span>Без взвешивания классов</a></span></li><li><span><a href=\"#С-взвешиванием-классов\" data-toc-modified-id=\"С-взвешиванием-классов-4.2.3.2\"><span class=\"toc-item-num\">4.2.3.2&nbsp;&nbsp;</span>С взвешиванием классов</a></span></li></ul></li></ul></li><li><span><a href=\"#Выводы\" data-toc-modified-id=\"Выводы-4.3\"><span class=\"toc-item-num\">4.3&nbsp;&nbsp;</span>Выводы</a></span></li></ul></li></ul></div>"
   ]
  },
  {
   "cell_type": "markdown",
   "metadata": {},
   "source": [
    "# Отток клиентов"
   ]
  },
  {
   "cell_type": "markdown",
   "metadata": {},
   "source": [
    "Из «Бета-Банка» стали уходить клиенты. Каждый месяц. Немного, но заметно. Банковские маркетологи посчитали: сохранять текущих клиентов дешевле, чем привлекать новых.\n",
    "\n",
    "Нужно спрогнозировать, уйдёт клиент из банка в ближайшее время или нет. Вам предоставлены исторические данные о поведении клиентов и расторжении договоров с банком. \n",
    "\n",
    "Постройте модель с предельно большим значением *F1*-меры. Чтобы сдать проект успешно, нужно довести метрику до 0.59. Проверьте *F1*-меру на тестовой выборке самостоятельно.\n",
    "\n",
    "Дополнительно измеряйте *AUC-ROC*, сравнивайте её значение с *F1*-мерой.\n",
    "\n",
    "Источник данных: [https://www.kaggle.com/barelydedicated/bank-customer-churn-modeling](https://www.kaggle.com/barelydedicated/bank-customer-churn-modeling)"
   ]
  },
  {
   "cell_type": "markdown",
   "metadata": {},
   "source": [
    "## Подготовка данных"
   ]
  },
  {
   "cell_type": "markdown",
   "metadata": {},
   "source": [
    "Начнем с импорта всех необходимых библиотек. В процессе работы надо проектов все дополнительные библиотеки импортировались в этой же ячейке (это позволит в дальнейшем оценить корректность загрузки тетрадки в **Jupyter Notebook**)"
   ]
  },
  {
   "cell_type": "code",
   "execution_count": 1,
   "metadata": {},
   "outputs": [],
   "source": [
    "import pandas as pd\n",
    "import numpy as np\n",
    "from matplotlib import pyplot as plt\n",
    "from sklearn.metrics import roc_auc_score, f1_score\n",
    "from sklearn.preprocessing import StandardScaler\n",
    "from sklearn.utils import shuffle\n",
    "from sklearn.ensemble import RandomForestClassifier\n",
    "from sklearn.tree import DecisionTreeClassifier\n",
    "from sklearn.linear_model import LogisticRegression\n",
    "from sklearn.model_selection import train_test_split"
   ]
  },
  {
   "cell_type": "markdown",
   "metadata": {},
   "source": [
    "Зачитаем данные из исходного файла в переменную `data`"
   ]
  },
  {
   "cell_type": "code",
   "execution_count": 2,
   "metadata": {},
   "outputs": [],
   "source": [
    "data = pd.read_csv('./datasets/Churn.csv')"
   ]
  },
  {
   "cell_type": "markdown",
   "metadata": {},
   "source": [
    "Ознакомимся с типами данных, набором колонок и наличием пропущенных значений в столбцах"
   ]
  },
  {
   "cell_type": "code",
   "execution_count": 3,
   "metadata": {
    "scrolled": false
   },
   "outputs": [
    {
     "name": "stdout",
     "output_type": "stream",
     "text": [
      "<class 'pandas.core.frame.DataFrame'>\n",
      "RangeIndex: 10000 entries, 0 to 9999\n",
      "Data columns (total 14 columns):\n",
      "RowNumber          10000 non-null int64\n",
      "CustomerId         10000 non-null int64\n",
      "Surname            10000 non-null object\n",
      "CreditScore        10000 non-null int64\n",
      "Geography          10000 non-null object\n",
      "Gender             10000 non-null object\n",
      "Age                10000 non-null int64\n",
      "Tenure             9091 non-null float64\n",
      "Balance            10000 non-null float64\n",
      "NumOfProducts      10000 non-null int64\n",
      "HasCrCard          10000 non-null int64\n",
      "IsActiveMember     10000 non-null int64\n",
      "EstimatedSalary    10000 non-null float64\n",
      "Exited             10000 non-null int64\n",
      "dtypes: float64(3), int64(8), object(3)\n",
      "memory usage: 1.1+ MB\n"
     ]
    }
   ],
   "source": [
    "data.info()"
   ]
  },
  {
   "cell_type": "markdown",
   "metadata": {},
   "source": [
    "Видно, что исходные данные содержат 10 тысяч записей, пропуски только в столбце `Tenure`. Чтобы разобраться в природе данных, приведем перечень столбцов и их описание:"
   ]
  },
  {
   "cell_type": "markdown",
   "metadata": {},
   "source": [
    "Признаки\n",
    "- `RowNumber` — индекс строки в данных\n",
    "\n",
    "- `CustomerId` — уникальный идентификатор клиента\n",
    "- `Surname` — фамилия\n",
    "- `CreditScore` — кредитный рейтинг\n",
    "- `Geography` — страна проживания\n",
    "- `Gender` — пол\n",
    "- `Age` — возраст\n",
    "- `Tenure` — сколько лет человек является клиентом банка\n",
    "- `Balance` — баланс на счёте\n",
    "- `NumOfProducts` — количество продуктов банка, используемых клиентом\n",
    "- `HasCrCard` — наличие кредитной карты\n",
    "- `IsActiveMember` — активность клиента\n",
    "- `EstimatedSalary` — предполагаемая зарплата\n",
    "\n",
    "Целевой признак\n",
    "- `Exited` — факт ухода клиента"
   ]
  },
  {
   "cell_type": "markdown",
   "metadata": {},
   "source": [
    "Ознакомимся с небольшим срезом данных из исходного датафрейма"
   ]
  },
  {
   "cell_type": "code",
   "execution_count": 4,
   "metadata": {},
   "outputs": [
    {
     "data": {
      "text/html": [
       "<div>\n",
       "<style scoped>\n",
       "    .dataframe tbody tr th:only-of-type {\n",
       "        vertical-align: middle;\n",
       "    }\n",
       "\n",
       "    .dataframe tbody tr th {\n",
       "        vertical-align: top;\n",
       "    }\n",
       "\n",
       "    .dataframe thead th {\n",
       "        text-align: right;\n",
       "    }\n",
       "</style>\n",
       "<table border=\"1\" class=\"dataframe\">\n",
       "  <thead>\n",
       "    <tr style=\"text-align: right;\">\n",
       "      <th></th>\n",
       "      <th>RowNumber</th>\n",
       "      <th>CustomerId</th>\n",
       "      <th>Surname</th>\n",
       "      <th>CreditScore</th>\n",
       "      <th>Geography</th>\n",
       "      <th>Gender</th>\n",
       "      <th>Age</th>\n",
       "      <th>Tenure</th>\n",
       "      <th>Balance</th>\n",
       "      <th>NumOfProducts</th>\n",
       "      <th>HasCrCard</th>\n",
       "      <th>IsActiveMember</th>\n",
       "      <th>EstimatedSalary</th>\n",
       "      <th>Exited</th>\n",
       "    </tr>\n",
       "  </thead>\n",
       "  <tbody>\n",
       "    <tr>\n",
       "      <td>0</td>\n",
       "      <td>1</td>\n",
       "      <td>15634602</td>\n",
       "      <td>Hargrave</td>\n",
       "      <td>619</td>\n",
       "      <td>France</td>\n",
       "      <td>Female</td>\n",
       "      <td>42</td>\n",
       "      <td>2.0</td>\n",
       "      <td>0.00</td>\n",
       "      <td>1</td>\n",
       "      <td>1</td>\n",
       "      <td>1</td>\n",
       "      <td>101348.88</td>\n",
       "      <td>1</td>\n",
       "    </tr>\n",
       "    <tr>\n",
       "      <td>1</td>\n",
       "      <td>2</td>\n",
       "      <td>15647311</td>\n",
       "      <td>Hill</td>\n",
       "      <td>608</td>\n",
       "      <td>Spain</td>\n",
       "      <td>Female</td>\n",
       "      <td>41</td>\n",
       "      <td>1.0</td>\n",
       "      <td>83807.86</td>\n",
       "      <td>1</td>\n",
       "      <td>0</td>\n",
       "      <td>1</td>\n",
       "      <td>112542.58</td>\n",
       "      <td>0</td>\n",
       "    </tr>\n",
       "    <tr>\n",
       "      <td>2</td>\n",
       "      <td>3</td>\n",
       "      <td>15619304</td>\n",
       "      <td>Onio</td>\n",
       "      <td>502</td>\n",
       "      <td>France</td>\n",
       "      <td>Female</td>\n",
       "      <td>42</td>\n",
       "      <td>8.0</td>\n",
       "      <td>159660.80</td>\n",
       "      <td>3</td>\n",
       "      <td>1</td>\n",
       "      <td>0</td>\n",
       "      <td>113931.57</td>\n",
       "      <td>1</td>\n",
       "    </tr>\n",
       "    <tr>\n",
       "      <td>3</td>\n",
       "      <td>4</td>\n",
       "      <td>15701354</td>\n",
       "      <td>Boni</td>\n",
       "      <td>699</td>\n",
       "      <td>France</td>\n",
       "      <td>Female</td>\n",
       "      <td>39</td>\n",
       "      <td>1.0</td>\n",
       "      <td>0.00</td>\n",
       "      <td>2</td>\n",
       "      <td>0</td>\n",
       "      <td>0</td>\n",
       "      <td>93826.63</td>\n",
       "      <td>0</td>\n",
       "    </tr>\n",
       "    <tr>\n",
       "      <td>4</td>\n",
       "      <td>5</td>\n",
       "      <td>15737888</td>\n",
       "      <td>Mitchell</td>\n",
       "      <td>850</td>\n",
       "      <td>Spain</td>\n",
       "      <td>Female</td>\n",
       "      <td>43</td>\n",
       "      <td>2.0</td>\n",
       "      <td>125510.82</td>\n",
       "      <td>1</td>\n",
       "      <td>1</td>\n",
       "      <td>1</td>\n",
       "      <td>79084.10</td>\n",
       "      <td>0</td>\n",
       "    </tr>\n",
       "    <tr>\n",
       "      <td>5</td>\n",
       "      <td>6</td>\n",
       "      <td>15574012</td>\n",
       "      <td>Chu</td>\n",
       "      <td>645</td>\n",
       "      <td>Spain</td>\n",
       "      <td>Male</td>\n",
       "      <td>44</td>\n",
       "      <td>8.0</td>\n",
       "      <td>113755.78</td>\n",
       "      <td>2</td>\n",
       "      <td>1</td>\n",
       "      <td>0</td>\n",
       "      <td>149756.71</td>\n",
       "      <td>1</td>\n",
       "    </tr>\n",
       "    <tr>\n",
       "      <td>6</td>\n",
       "      <td>7</td>\n",
       "      <td>15592531</td>\n",
       "      <td>Bartlett</td>\n",
       "      <td>822</td>\n",
       "      <td>France</td>\n",
       "      <td>Male</td>\n",
       "      <td>50</td>\n",
       "      <td>7.0</td>\n",
       "      <td>0.00</td>\n",
       "      <td>2</td>\n",
       "      <td>1</td>\n",
       "      <td>1</td>\n",
       "      <td>10062.80</td>\n",
       "      <td>0</td>\n",
       "    </tr>\n",
       "  </tbody>\n",
       "</table>\n",
       "</div>"
      ],
      "text/plain": [
       "   RowNumber  CustomerId   Surname  CreditScore Geography  Gender  Age  \\\n",
       "0          1    15634602  Hargrave          619    France  Female   42   \n",
       "1          2    15647311      Hill          608     Spain  Female   41   \n",
       "2          3    15619304      Onio          502    France  Female   42   \n",
       "3          4    15701354      Boni          699    France  Female   39   \n",
       "4          5    15737888  Mitchell          850     Spain  Female   43   \n",
       "5          6    15574012       Chu          645     Spain    Male   44   \n",
       "6          7    15592531  Bartlett          822    France    Male   50   \n",
       "\n",
       "   Tenure    Balance  NumOfProducts  HasCrCard  IsActiveMember  \\\n",
       "0     2.0       0.00              1          1               1   \n",
       "1     1.0   83807.86              1          0               1   \n",
       "2     8.0  159660.80              3          1               0   \n",
       "3     1.0       0.00              2          0               0   \n",
       "4     2.0  125510.82              1          1               1   \n",
       "5     8.0  113755.78              2          1               0   \n",
       "6     7.0       0.00              2          1               1   \n",
       "\n",
       "   EstimatedSalary  Exited  \n",
       "0        101348.88       1  \n",
       "1        112542.58       0  \n",
       "2        113931.57       1  \n",
       "3         93826.63       0  \n",
       "4         79084.10       0  \n",
       "5        149756.71       1  \n",
       "6         10062.80       0  "
      ]
     },
     "execution_count": 4,
     "metadata": {},
     "output_type": "execute_result"
    }
   ],
   "source": [
    "# Проверка датафрейма\n",
    "data.head(7)"
   ]
  },
  {
   "cell_type": "markdown",
   "metadata": {},
   "source": [
    "Сразу можно отметить наличие избыточной информации:\n",
    "- Столбец `RowNumber` содержит порядковый номер записи, который отличается на 1 от индекса в датафрейме\n",
    "\n",
    "- Столбец `CustomerId` содержит идентификатор пользователя, данная информация не поможет, а может и наоборот навредить точности прогнозов, и если убедиться в уникальности каждого значения в этом столбце, можно считать этот номер бесполезным\n",
    "- Столбец `Surname` содержит фамилию пользователя, данная информация не поможет, а может и наоборот навредить точности прогнозов\n",
    "- Столбце `IsActiveMember` казалось бы должен содержать информацию об активности пользователя, но как могут считаться активными клиенты, которые расторгли договор с банком? Однако данный признак исключать было бы некорректно, вероятно он будет полезен для прогнозирования"
   ]
  },
  {
   "cell_type": "markdown",
   "metadata": {},
   "source": [
    "Проверим опечатки в названиях столбцов"
   ]
  },
  {
   "cell_type": "code",
   "execution_count": 5,
   "metadata": {
    "scrolled": false
   },
   "outputs": [
    {
     "data": {
      "text/plain": [
       "Index(['RowNumber', 'CustomerId', 'Surname', 'CreditScore', 'Geography',\n",
       "       'Gender', 'Age', 'Tenure', 'Balance', 'NumOfProducts', 'HasCrCard',\n",
       "       'IsActiveMember', 'EstimatedSalary', 'Exited'],\n",
       "      dtype='object')"
      ]
     },
     "execution_count": 5,
     "metadata": {},
     "output_type": "execute_result"
    }
   ],
   "source": [
    "data.columns"
   ]
  },
  {
   "cell_type": "markdown",
   "metadata": {},
   "source": [
    "Названия столбцов проверены, все хорошо.\n",
    "\n",
    "Оценим наборы значений в каждом из столбцов, для этого выведем минимальное, максимальное значения и исследуем количество уникальных значений в столбце"
   ]
  },
  {
   "cell_type": "code",
   "execution_count": 6,
   "metadata": {},
   "outputs": [
    {
     "data": {
      "text/html": [
       "<div>\n",
       "<style scoped>\n",
       "    .dataframe tbody tr th:only-of-type {\n",
       "        vertical-align: middle;\n",
       "    }\n",
       "\n",
       "    .dataframe tbody tr th {\n",
       "        vertical-align: top;\n",
       "    }\n",
       "\n",
       "    .dataframe thead th {\n",
       "        text-align: right;\n",
       "    }\n",
       "</style>\n",
       "<table border=\"1\" class=\"dataframe\">\n",
       "  <thead>\n",
       "    <tr style=\"text-align: right;\">\n",
       "      <th></th>\n",
       "      <th>min</th>\n",
       "      <th>max</th>\n",
       "      <th>заполнено</th>\n",
       "      <th>уникальных</th>\n",
       "    </tr>\n",
       "  </thead>\n",
       "  <tbody>\n",
       "    <tr>\n",
       "      <td>RowNumber</td>\n",
       "      <td>1</td>\n",
       "      <td>10000</td>\n",
       "      <td>10000</td>\n",
       "      <td>10000</td>\n",
       "    </tr>\n",
       "    <tr>\n",
       "      <td>CustomerId</td>\n",
       "      <td>15565701</td>\n",
       "      <td>15815690</td>\n",
       "      <td>10000</td>\n",
       "      <td>10000</td>\n",
       "    </tr>\n",
       "    <tr>\n",
       "      <td>Surname</td>\n",
       "      <td>Abazu</td>\n",
       "      <td>Zuyeva</td>\n",
       "      <td>10000</td>\n",
       "      <td>2932</td>\n",
       "    </tr>\n",
       "    <tr>\n",
       "      <td>CreditScore</td>\n",
       "      <td>350</td>\n",
       "      <td>850</td>\n",
       "      <td>10000</td>\n",
       "      <td>460</td>\n",
       "    </tr>\n",
       "    <tr>\n",
       "      <td>Geography</td>\n",
       "      <td>France</td>\n",
       "      <td>Spain</td>\n",
       "      <td>10000</td>\n",
       "      <td>3</td>\n",
       "    </tr>\n",
       "    <tr>\n",
       "      <td>Gender</td>\n",
       "      <td>Female</td>\n",
       "      <td>Male</td>\n",
       "      <td>10000</td>\n",
       "      <td>2</td>\n",
       "    </tr>\n",
       "    <tr>\n",
       "      <td>Age</td>\n",
       "      <td>18</td>\n",
       "      <td>92</td>\n",
       "      <td>10000</td>\n",
       "      <td>70</td>\n",
       "    </tr>\n",
       "    <tr>\n",
       "      <td>Tenure</td>\n",
       "      <td>0</td>\n",
       "      <td>10</td>\n",
       "      <td>9091</td>\n",
       "      <td>11</td>\n",
       "    </tr>\n",
       "    <tr>\n",
       "      <td>Balance</td>\n",
       "      <td>0</td>\n",
       "      <td>250898</td>\n",
       "      <td>10000</td>\n",
       "      <td>6382</td>\n",
       "    </tr>\n",
       "    <tr>\n",
       "      <td>NumOfProducts</td>\n",
       "      <td>1</td>\n",
       "      <td>4</td>\n",
       "      <td>10000</td>\n",
       "      <td>4</td>\n",
       "    </tr>\n",
       "    <tr>\n",
       "      <td>HasCrCard</td>\n",
       "      <td>0</td>\n",
       "      <td>1</td>\n",
       "      <td>10000</td>\n",
       "      <td>2</td>\n",
       "    </tr>\n",
       "    <tr>\n",
       "      <td>IsActiveMember</td>\n",
       "      <td>0</td>\n",
       "      <td>1</td>\n",
       "      <td>10000</td>\n",
       "      <td>2</td>\n",
       "    </tr>\n",
       "    <tr>\n",
       "      <td>EstimatedSalary</td>\n",
       "      <td>11.58</td>\n",
       "      <td>199992</td>\n",
       "      <td>10000</td>\n",
       "      <td>9999</td>\n",
       "    </tr>\n",
       "    <tr>\n",
       "      <td>Exited</td>\n",
       "      <td>0</td>\n",
       "      <td>1</td>\n",
       "      <td>10000</td>\n",
       "      <td>2</td>\n",
       "    </tr>\n",
       "  </tbody>\n",
       "</table>\n",
       "</div>"
      ],
      "text/plain": [
       "                      min       max заполнено уникальных\n",
       "RowNumber               1     10000     10000      10000\n",
       "CustomerId       15565701  15815690     10000      10000\n",
       "Surname             Abazu    Zuyeva     10000       2932\n",
       "CreditScore           350       850     10000        460\n",
       "Geography          France     Spain     10000          3\n",
       "Gender             Female      Male     10000          2\n",
       "Age                    18        92     10000         70\n",
       "Tenure                  0        10      9091         11\n",
       "Balance                 0    250898     10000       6382\n",
       "NumOfProducts           1         4     10000          4\n",
       "HasCrCard               0         1     10000          2\n",
       "IsActiveMember          0         1     10000          2\n",
       "EstimatedSalary     11.58    199992     10000       9999\n",
       "Exited                  0         1     10000          2"
      ]
     },
     "execution_count": 6,
     "metadata": {},
     "output_type": "execute_result"
    }
   ],
   "source": [
    "data.agg(['min', 'max', 'count', 'nunique']).T.rename(columns={'count':'заполнено','nunique':'уникальных'})"
   ]
  },
  {
   "cell_type": "markdown",
   "metadata": {},
   "source": [
    "Большинство столбцов не содержать никаких проблем: возраст, география клиентов и количество полов выглядят корректными. Булево-признаки факта расторжения договора, наличия кредитной карты и т.д. тоже содержат только 2 вида значений. Такие данные можно исследовать и создавать на их основе модель для прогнозирования. Целевой признак - факт расторжения договора. Ожидаем, что созданная модель поможет опеределять клиентов с рисками расторжения договора. Целевой признак - булевный, что означает необходимость решения задачи классификации."
   ]
  },
  {
   "cell_type": "markdown",
   "metadata": {},
   "source": [
    "### Обработка дубликатов"
   ]
  },
  {
   "cell_type": "markdown",
   "metadata": {},
   "source": [
    "Проверим наличие явных дубликатов среди строк таблицы, чтобы исключить их и исключить влияние таких выбросов на модель классификации."
   ]
  },
  {
   "cell_type": "code",
   "execution_count": 7,
   "metadata": {
    "scrolled": true
   },
   "outputs": [
    {
     "name": "stdout",
     "output_type": "stream",
     "text": [
      "Найдено явных дубликатов: 0\n"
     ]
    }
   ],
   "source": [
    "print('Найдено явных дубликатов:', data.duplicated().sum())"
   ]
  },
  {
   "cell_type": "markdown",
   "metadata": {},
   "source": [
    "### Исследование пропусков"
   ]
  },
  {
   "cell_type": "markdown",
   "metadata": {},
   "source": [
    "Предварительный анализ на этапе подготовки данных показал, что пропуски присутствуют только в столбце `Tenure`. Необходимо разобраться в возможных причинах отсутствия данных в этом столбце. Этот столбец содержит количество лет сотрудничества с клиентом, и пропуски - недопустимые значения для набора, в котором ожидается присутствие только клиентов."
   ]
  },
  {
   "cell_type": "code",
   "execution_count": 8,
   "metadata": {},
   "outputs": [
    {
     "data": {
      "text/html": [
       "<div>\n",
       "<style scoped>\n",
       "    .dataframe tbody tr th:only-of-type {\n",
       "        vertical-align: middle;\n",
       "    }\n",
       "\n",
       "    .dataframe tbody tr th {\n",
       "        vertical-align: top;\n",
       "    }\n",
       "\n",
       "    .dataframe thead th {\n",
       "        text-align: right;\n",
       "    }\n",
       "</style>\n",
       "<table border=\"1\" class=\"dataframe\">\n",
       "  <thead>\n",
       "    <tr style=\"text-align: right;\">\n",
       "      <th></th>\n",
       "      <th>RowNumber</th>\n",
       "      <th>CustomerId</th>\n",
       "      <th>Surname</th>\n",
       "      <th>CreditScore</th>\n",
       "      <th>Geography</th>\n",
       "      <th>Gender</th>\n",
       "      <th>Age</th>\n",
       "      <th>Tenure</th>\n",
       "      <th>Balance</th>\n",
       "      <th>NumOfProducts</th>\n",
       "      <th>HasCrCard</th>\n",
       "      <th>IsActiveMember</th>\n",
       "      <th>EstimatedSalary</th>\n",
       "      <th>Exited</th>\n",
       "    </tr>\n",
       "  </thead>\n",
       "  <tbody>\n",
       "    <tr>\n",
       "      <td>30</td>\n",
       "      <td>31</td>\n",
       "      <td>15589475</td>\n",
       "      <td>Azikiwe</td>\n",
       "      <td>591</td>\n",
       "      <td>Spain</td>\n",
       "      <td>Female</td>\n",
       "      <td>39</td>\n",
       "      <td>NaN</td>\n",
       "      <td>0.00</td>\n",
       "      <td>3</td>\n",
       "      <td>1</td>\n",
       "      <td>0</td>\n",
       "      <td>140469.38</td>\n",
       "      <td>1</td>\n",
       "    </tr>\n",
       "    <tr>\n",
       "      <td>48</td>\n",
       "      <td>49</td>\n",
       "      <td>15766205</td>\n",
       "      <td>Yin</td>\n",
       "      <td>550</td>\n",
       "      <td>Germany</td>\n",
       "      <td>Male</td>\n",
       "      <td>38</td>\n",
       "      <td>NaN</td>\n",
       "      <td>103391.38</td>\n",
       "      <td>1</td>\n",
       "      <td>0</td>\n",
       "      <td>1</td>\n",
       "      <td>90878.13</td>\n",
       "      <td>0</td>\n",
       "    </tr>\n",
       "    <tr>\n",
       "      <td>51</td>\n",
       "      <td>52</td>\n",
       "      <td>15768193</td>\n",
       "      <td>Trevisani</td>\n",
       "      <td>585</td>\n",
       "      <td>Germany</td>\n",
       "      <td>Male</td>\n",
       "      <td>36</td>\n",
       "      <td>NaN</td>\n",
       "      <td>146050.97</td>\n",
       "      <td>2</td>\n",
       "      <td>0</td>\n",
       "      <td>0</td>\n",
       "      <td>86424.57</td>\n",
       "      <td>0</td>\n",
       "    </tr>\n",
       "    <tr>\n",
       "      <td>53</td>\n",
       "      <td>54</td>\n",
       "      <td>15702298</td>\n",
       "      <td>Parkhill</td>\n",
       "      <td>655</td>\n",
       "      <td>Germany</td>\n",
       "      <td>Male</td>\n",
       "      <td>41</td>\n",
       "      <td>NaN</td>\n",
       "      <td>125561.97</td>\n",
       "      <td>1</td>\n",
       "      <td>0</td>\n",
       "      <td>0</td>\n",
       "      <td>164040.94</td>\n",
       "      <td>1</td>\n",
       "    </tr>\n",
       "    <tr>\n",
       "      <td>60</td>\n",
       "      <td>61</td>\n",
       "      <td>15651280</td>\n",
       "      <td>Hunter</td>\n",
       "      <td>742</td>\n",
       "      <td>Germany</td>\n",
       "      <td>Male</td>\n",
       "      <td>35</td>\n",
       "      <td>NaN</td>\n",
       "      <td>136857.00</td>\n",
       "      <td>1</td>\n",
       "      <td>0</td>\n",
       "      <td>0</td>\n",
       "      <td>84509.57</td>\n",
       "      <td>0</td>\n",
       "    </tr>\n",
       "    <tr>\n",
       "      <td>82</td>\n",
       "      <td>83</td>\n",
       "      <td>15641732</td>\n",
       "      <td>Mills</td>\n",
       "      <td>543</td>\n",
       "      <td>France</td>\n",
       "      <td>Female</td>\n",
       "      <td>36</td>\n",
       "      <td>NaN</td>\n",
       "      <td>0.00</td>\n",
       "      <td>2</td>\n",
       "      <td>0</td>\n",
       "      <td>0</td>\n",
       "      <td>26019.59</td>\n",
       "      <td>0</td>\n",
       "    </tr>\n",
       "    <tr>\n",
       "      <td>85</td>\n",
       "      <td>86</td>\n",
       "      <td>15805254</td>\n",
       "      <td>Ndukaku</td>\n",
       "      <td>652</td>\n",
       "      <td>Spain</td>\n",
       "      <td>Female</td>\n",
       "      <td>75</td>\n",
       "      <td>NaN</td>\n",
       "      <td>0.00</td>\n",
       "      <td>2</td>\n",
       "      <td>1</td>\n",
       "      <td>1</td>\n",
       "      <td>114675.75</td>\n",
       "      <td>0</td>\n",
       "    </tr>\n",
       "  </tbody>\n",
       "</table>\n",
       "</div>"
      ],
      "text/plain": [
       "    RowNumber  CustomerId    Surname  CreditScore Geography  Gender  Age  \\\n",
       "30         31    15589475    Azikiwe          591     Spain  Female   39   \n",
       "48         49    15766205        Yin          550   Germany    Male   38   \n",
       "51         52    15768193  Trevisani          585   Germany    Male   36   \n",
       "53         54    15702298   Parkhill          655   Germany    Male   41   \n",
       "60         61    15651280     Hunter          742   Germany    Male   35   \n",
       "82         83    15641732      Mills          543    France  Female   36   \n",
       "85         86    15805254    Ndukaku          652     Spain  Female   75   \n",
       "\n",
       "    Tenure    Balance  NumOfProducts  HasCrCard  IsActiveMember  \\\n",
       "30     NaN       0.00              3          1               0   \n",
       "48     NaN  103391.38              1          0               1   \n",
       "51     NaN  146050.97              2          0               0   \n",
       "53     NaN  125561.97              1          0               0   \n",
       "60     NaN  136857.00              1          0               0   \n",
       "82     NaN       0.00              2          0               0   \n",
       "85     NaN       0.00              2          1               1   \n",
       "\n",
       "    EstimatedSalary  Exited  \n",
       "30        140469.38       1  \n",
       "48         90878.13       0  \n",
       "51         86424.57       0  \n",
       "53        164040.94       1  \n",
       "60         84509.57       0  \n",
       "82         26019.59       0  \n",
       "85        114675.75       0  "
      ]
     },
     "execution_count": 8,
     "metadata": {},
     "output_type": "execute_result"
    }
   ],
   "source": [
    "# Вывод небольшого среза данных из записей с пропусками в столбце Tenure\n",
    "data[data['Tenure'].isna()].head(7)"
   ]
  },
  {
   "cell_type": "markdown",
   "metadata": {},
   "source": [
    "Оценим значения в других столбах при учете пропусков:"
   ]
  },
  {
   "cell_type": "code",
   "execution_count": 9,
   "metadata": {},
   "outputs": [
    {
     "data": {
      "text/html": [
       "<div>\n",
       "<style scoped>\n",
       "    .dataframe tbody tr th:only-of-type {\n",
       "        vertical-align: middle;\n",
       "    }\n",
       "\n",
       "    .dataframe tbody tr th {\n",
       "        vertical-align: top;\n",
       "    }\n",
       "\n",
       "    .dataframe thead th {\n",
       "        text-align: right;\n",
       "    }\n",
       "</style>\n",
       "<table border=\"1\" class=\"dataframe\">\n",
       "  <thead>\n",
       "    <tr style=\"text-align: right;\">\n",
       "      <th></th>\n",
       "      <th>min</th>\n",
       "      <th>max</th>\n",
       "      <th>заполнено</th>\n",
       "      <th>уникальных</th>\n",
       "    </tr>\n",
       "  </thead>\n",
       "  <tbody>\n",
       "    <tr>\n",
       "      <td>RowNumber</td>\n",
       "      <td>31</td>\n",
       "      <td>10000</td>\n",
       "      <td>909</td>\n",
       "      <td>909</td>\n",
       "    </tr>\n",
       "    <tr>\n",
       "      <td>CustomerId</td>\n",
       "      <td>15565806</td>\n",
       "      <td>15815690</td>\n",
       "      <td>909</td>\n",
       "      <td>909</td>\n",
       "    </tr>\n",
       "    <tr>\n",
       "      <td>Surname</td>\n",
       "      <td>Abbott</td>\n",
       "      <td>Zubarev</td>\n",
       "      <td>909</td>\n",
       "      <td>665</td>\n",
       "    </tr>\n",
       "    <tr>\n",
       "      <td>CreditScore</td>\n",
       "      <td>359</td>\n",
       "      <td>850</td>\n",
       "      <td>909</td>\n",
       "      <td>349</td>\n",
       "    </tr>\n",
       "    <tr>\n",
       "      <td>Geography</td>\n",
       "      <td>France</td>\n",
       "      <td>Spain</td>\n",
       "      <td>909</td>\n",
       "      <td>3</td>\n",
       "    </tr>\n",
       "    <tr>\n",
       "      <td>Gender</td>\n",
       "      <td>Female</td>\n",
       "      <td>Male</td>\n",
       "      <td>909</td>\n",
       "      <td>2</td>\n",
       "    </tr>\n",
       "    <tr>\n",
       "      <td>Age</td>\n",
       "      <td>18</td>\n",
       "      <td>92</td>\n",
       "      <td>909</td>\n",
       "      <td>58</td>\n",
       "    </tr>\n",
       "    <tr>\n",
       "      <td>Tenure</td>\n",
       "      <td>NaN</td>\n",
       "      <td>NaN</td>\n",
       "      <td>0</td>\n",
       "      <td>0</td>\n",
       "    </tr>\n",
       "    <tr>\n",
       "      <td>Balance</td>\n",
       "      <td>0</td>\n",
       "      <td>206664</td>\n",
       "      <td>909</td>\n",
       "      <td>576</td>\n",
       "    </tr>\n",
       "    <tr>\n",
       "      <td>NumOfProducts</td>\n",
       "      <td>1</td>\n",
       "      <td>4</td>\n",
       "      <td>909</td>\n",
       "      <td>4</td>\n",
       "    </tr>\n",
       "    <tr>\n",
       "      <td>HasCrCard</td>\n",
       "      <td>0</td>\n",
       "      <td>1</td>\n",
       "      <td>909</td>\n",
       "      <td>2</td>\n",
       "    </tr>\n",
       "    <tr>\n",
       "      <td>IsActiveMember</td>\n",
       "      <td>0</td>\n",
       "      <td>1</td>\n",
       "      <td>909</td>\n",
       "      <td>2</td>\n",
       "    </tr>\n",
       "    <tr>\n",
       "      <td>EstimatedSalary</td>\n",
       "      <td>106.67</td>\n",
       "      <td>199390</td>\n",
       "      <td>909</td>\n",
       "      <td>909</td>\n",
       "    </tr>\n",
       "    <tr>\n",
       "      <td>Exited</td>\n",
       "      <td>0</td>\n",
       "      <td>1</td>\n",
       "      <td>909</td>\n",
       "      <td>2</td>\n",
       "    </tr>\n",
       "  </tbody>\n",
       "</table>\n",
       "</div>"
      ],
      "text/plain": [
       "                      min       max заполнено уникальных\n",
       "RowNumber              31     10000       909        909\n",
       "CustomerId       15565806  15815690       909        909\n",
       "Surname            Abbott   Zubarev       909        665\n",
       "CreditScore           359       850       909        349\n",
       "Geography          France     Spain       909          3\n",
       "Gender             Female      Male       909          2\n",
       "Age                    18        92       909         58\n",
       "Tenure                NaN       NaN         0          0\n",
       "Balance                 0    206664       909        576\n",
       "NumOfProducts           1         4       909          4\n",
       "HasCrCard               0         1       909          2\n",
       "IsActiveMember          0         1       909          2\n",
       "EstimatedSalary    106.67    199390       909        909\n",
       "Exited                  0         1       909          2"
      ]
     },
     "execution_count": 9,
     "metadata": {},
     "output_type": "execute_result"
    }
   ],
   "source": [
    "data[data['Tenure'].isna()].agg(['min', 'max', 'count', 'nunique']).T.rename(\n",
    "    columns={'count':'заполнено','nunique':'уникальных'})"
   ]
  },
  {
   "cell_type": "markdown",
   "metadata": {},
   "source": [
    "Можно предположить что пропуски в столбце говорят об отсутствии договора с клиентом, но тогда не ясно как признак факта расторжения договора может принимать значение 1 для таких случаев...\n",
    "\n",
    "Мы помним, что кроме пропусков в столбце присутствуют значения от 0 до 10 (лет). И можно предположить, что пропуски - это признак сотрудничества более 10 лет. Но с уверенностью сделать такой вывод мы не можем. Оцним гистограмму значений чтобы разобраться:"
   ]
  },
  {
   "cell_type": "code",
   "execution_count": 10,
   "metadata": {},
   "outputs": [
    {
     "data": {
      "image/png": "[encoded data removed]",
      "text/plain": [
       "<Figure size 1008x360 with 1 Axes>"
      ]
     },
     "metadata": {
      "needs_background": "light"
     },
     "output_type": "display_data"
    }
   ],
   "source": [
    "plt.figure()\n",
    "data['Tenure'].value_counts().sort_index().plot(kind='bar', figsize=(14,5))\n",
    "plt.xlabel('Tenure')\n",
    "plt.ylabel('Количество повторений')\n",
    "plt.title('Гистограмма Tenure')\n",
    "plt.show() "
   ]
  },
  {
   "cell_type": "markdown",
   "metadata": {},
   "source": [
    "Гистограмма не помогла. Нельзя однозначно определить, могут ли пропущенные значения быть отнесены к какому-то из из вариантов.\n",
    "\n",
    "Оценим, долю расторгнувшив договор среди записей с пропусками и сравним с долей расторгнувших среди других записей:"
   ]
  },
  {
   "cell_type": "code",
   "execution_count": 11,
   "metadata": {
    "scrolled": false
   },
   "outputs": [
    {
     "data": {
      "text/plain": [
       "0    0.79868\n",
       "1    0.20132\n",
       "Name: Exited, dtype: float64"
      ]
     },
     "execution_count": 11,
     "metadata": {},
     "output_type": "execute_result"
    }
   ],
   "source": [
    "data[data['Tenure'].isna()]['Exited'].value_counts(normalize=True)"
   ]
  },
  {
   "cell_type": "code",
   "execution_count": 12,
   "metadata": {},
   "outputs": [
    {
     "data": {
      "text/plain": [
       "0    0.796062\n",
       "1    0.203938\n",
       "Name: Exited, dtype: float64"
      ]
     },
     "execution_count": 12,
     "metadata": {},
     "output_type": "execute_result"
    }
   ],
   "source": [
    "data[~data['Tenure'].isna()]['Exited'].value_counts(normalize=True)"
   ]
  },
  {
   "cell_type": "markdown",
   "metadata": {},
   "source": [
    "Видно, что в независимо от наличия пропусков в столбце `Tenure`, доля расторгнувших договор примерно 20%, а значит можно полагать, что если оставить пропуски в этом столбце, на результатах это значительно не отразится. С целью исключения ошибок при масштабировании значений, заполним пропуски в данном столбце числом `-9999`."
   ]
  },
  {
   "cell_type": "code",
   "execution_count": 13,
   "metadata": {},
   "outputs": [],
   "source": [
    "data['Tenure'] = data['Tenure'].fillna(-9999).astype('int')"
   ]
  },
  {
   "cell_type": "markdown",
   "metadata": {},
   "source": [
    "### Исследование адекватности значений"
   ]
  },
  {
   "cell_type": "markdown",
   "metadata": {},
   "source": [
    "Оценим уровень зарплат, чтобы не учитывать в моделировании значения, если они окажутся не реалистичными и с огромным количеством выбросов. Взглянем на гистограмму значений:"
   ]
  },
  {
   "cell_type": "code",
   "execution_count": 14,
   "metadata": {},
   "outputs": [
    {
     "data": {
      "image/png": "[encoded data removed]",
      "text/plain": [
       "<Figure size 1008x360 with 1 Axes>"
      ]
     },
     "metadata": {
      "needs_background": "light"
     },
     "output_type": "display_data"
    }
   ],
   "source": [
    "plt.figure()\n",
    "data['EstimatedSalary'].hist(bins=30,figsize=(14,5))\n",
    "plt.xlabel('Уровень зарплаты (руб.?)')\n",
    "plt.ylabel('Количество повторений')\n",
    "plt.title('Гистограмма EstimatedSalary')\n",
    "plt.show() "
   ]
  },
  {
   "cell_type": "markdown",
   "metadata": {},
   "source": [
    "Видно, что повторения распределены равномерно на интервале от 0 до 200 тысяч. Весьма странно, что уровеньт дохода клиентов распределен равномерно, однако это может говорить о подготовке выборки: клиенты целенаправленно отбирались, чтобы их уровень дохода был распределен разномерно на этом интервале.\n",
    "\n",
    "Оценим повторы в столбце, который должен содержать фамилии."
   ]
  },
  {
   "cell_type": "code",
   "execution_count": 15,
   "metadata": {
    "scrolled": true
   },
   "outputs": [
    {
     "data": {
      "text/plain": [
       "Smith       32\n",
       "Scott       29\n",
       "Martin      29\n",
       "Walker      28\n",
       "Brown       26\n",
       "            ..\n",
       "Hajek        1\n",
       "Cookson      1\n",
       "Rutledge     1\n",
       "Morrice      1\n",
       "Vale         1\n",
       "Name: Surname, Length: 2932, dtype: int64"
      ]
     },
     "execution_count": 15,
     "metadata": {},
     "output_type": "execute_result"
    }
   ],
   "source": [
    "data['Surname'].value_counts()"
   ]
  },
  {
   "cell_type": "markdown",
   "metadata": {},
   "source": [
    "Видно, что уникальных фамилий - 2932 шт. и некоторые из них повторяются до 32 раз. Вероятнее всего относить клиентов с одинаковыми фамилиями к одной категории недопустимо и потому фамилия не может являться признаком, который должен влиять на результаты прогноза. Чуть позже исключим этот столбец."
   ]
  },
  {
   "cell_type": "markdown",
   "metadata": {},
   "source": [
    "### Фильтрация колонок"
   ]
  },
  {
   "cell_type": "markdown",
   "metadata": {},
   "source": [
    "Пришло время исключить из выборки неинформативные столбцы. Удалим из датафрейма столбцы:\n",
    "\n",
    "- `RowNumber`\n",
    "\n",
    "- `CustomerId`\n",
    "- `Surname`"
   ]
  },
  {
   "cell_type": "code",
   "execution_count": 16,
   "metadata": {
    "scrolled": false
   },
   "outputs": [
    {
     "data": {
      "text/html": [
       "<div>\n",
       "<style scoped>\n",
       "    .dataframe tbody tr th:only-of-type {\n",
       "        vertical-align: middle;\n",
       "    }\n",
       "\n",
       "    .dataframe tbody tr th {\n",
       "        vertical-align: top;\n",
       "    }\n",
       "\n",
       "    .dataframe thead th {\n",
       "        text-align: right;\n",
       "    }\n",
       "</style>\n",
       "<table border=\"1\" class=\"dataframe\">\n",
       "  <thead>\n",
       "    <tr style=\"text-align: right;\">\n",
       "      <th></th>\n",
       "      <th>CreditScore</th>\n",
       "      <th>Geography</th>\n",
       "      <th>Gender</th>\n",
       "      <th>Age</th>\n",
       "      <th>Tenure</th>\n",
       "      <th>Balance</th>\n",
       "      <th>NumOfProducts</th>\n",
       "      <th>HasCrCard</th>\n",
       "      <th>IsActiveMember</th>\n",
       "      <th>EstimatedSalary</th>\n",
       "      <th>Exited</th>\n",
       "    </tr>\n",
       "  </thead>\n",
       "  <tbody>\n",
       "    <tr>\n",
       "      <td>0</td>\n",
       "      <td>619</td>\n",
       "      <td>France</td>\n",
       "      <td>Female</td>\n",
       "      <td>42</td>\n",
       "      <td>2</td>\n",
       "      <td>0.00</td>\n",
       "      <td>1</td>\n",
       "      <td>1</td>\n",
       "      <td>1</td>\n",
       "      <td>101348.88</td>\n",
       "      <td>1</td>\n",
       "    </tr>\n",
       "    <tr>\n",
       "      <td>1</td>\n",
       "      <td>608</td>\n",
       "      <td>Spain</td>\n",
       "      <td>Female</td>\n",
       "      <td>41</td>\n",
       "      <td>1</td>\n",
       "      <td>83807.86</td>\n",
       "      <td>1</td>\n",
       "      <td>0</td>\n",
       "      <td>1</td>\n",
       "      <td>112542.58</td>\n",
       "      <td>0</td>\n",
       "    </tr>\n",
       "    <tr>\n",
       "      <td>2</td>\n",
       "      <td>502</td>\n",
       "      <td>France</td>\n",
       "      <td>Female</td>\n",
       "      <td>42</td>\n",
       "      <td>8</td>\n",
       "      <td>159660.80</td>\n",
       "      <td>3</td>\n",
       "      <td>1</td>\n",
       "      <td>0</td>\n",
       "      <td>113931.57</td>\n",
       "      <td>1</td>\n",
       "    </tr>\n",
       "    <tr>\n",
       "      <td>3</td>\n",
       "      <td>699</td>\n",
       "      <td>France</td>\n",
       "      <td>Female</td>\n",
       "      <td>39</td>\n",
       "      <td>1</td>\n",
       "      <td>0.00</td>\n",
       "      <td>2</td>\n",
       "      <td>0</td>\n",
       "      <td>0</td>\n",
       "      <td>93826.63</td>\n",
       "      <td>0</td>\n",
       "    </tr>\n",
       "    <tr>\n",
       "      <td>4</td>\n",
       "      <td>850</td>\n",
       "      <td>Spain</td>\n",
       "      <td>Female</td>\n",
       "      <td>43</td>\n",
       "      <td>2</td>\n",
       "      <td>125510.82</td>\n",
       "      <td>1</td>\n",
       "      <td>1</td>\n",
       "      <td>1</td>\n",
       "      <td>79084.10</td>\n",
       "      <td>0</td>\n",
       "    </tr>\n",
       "    <tr>\n",
       "      <td>5</td>\n",
       "      <td>645</td>\n",
       "      <td>Spain</td>\n",
       "      <td>Male</td>\n",
       "      <td>44</td>\n",
       "      <td>8</td>\n",
       "      <td>113755.78</td>\n",
       "      <td>2</td>\n",
       "      <td>1</td>\n",
       "      <td>0</td>\n",
       "      <td>149756.71</td>\n",
       "      <td>1</td>\n",
       "    </tr>\n",
       "    <tr>\n",
       "      <td>6</td>\n",
       "      <td>822</td>\n",
       "      <td>France</td>\n",
       "      <td>Male</td>\n",
       "      <td>50</td>\n",
       "      <td>7</td>\n",
       "      <td>0.00</td>\n",
       "      <td>2</td>\n",
       "      <td>1</td>\n",
       "      <td>1</td>\n",
       "      <td>10062.80</td>\n",
       "      <td>0</td>\n",
       "    </tr>\n",
       "  </tbody>\n",
       "</table>\n",
       "</div>"
      ],
      "text/plain": [
       "   CreditScore Geography  Gender  Age  Tenure    Balance  NumOfProducts  \\\n",
       "0          619    France  Female   42       2       0.00              1   \n",
       "1          608     Spain  Female   41       1   83807.86              1   \n",
       "2          502    France  Female   42       8  159660.80              3   \n",
       "3          699    France  Female   39       1       0.00              2   \n",
       "4          850     Spain  Female   43       2  125510.82              1   \n",
       "5          645     Spain    Male   44       8  113755.78              2   \n",
       "6          822    France    Male   50       7       0.00              2   \n",
       "\n",
       "   HasCrCard  IsActiveMember  EstimatedSalary  Exited  \n",
       "0          1               1        101348.88       1  \n",
       "1          0               1        112542.58       0  \n",
       "2          1               0        113931.57       1  \n",
       "3          0               0         93826.63       0  \n",
       "4          1               1         79084.10       0  \n",
       "5          1               0        149756.71       1  \n",
       "6          1               1         10062.80       0  "
      ]
     },
     "execution_count": 16,
     "metadata": {},
     "output_type": "execute_result"
    }
   ],
   "source": [
    "data = data.drop(['RowNumber','CustomerId','Surname'], axis=1)\n",
    "\n",
    "# Проверка датафрейма\n",
    "data.head(7)"
   ]
  },
  {
   "cell_type": "markdown",
   "metadata": {},
   "source": [
    "Колонки успешно удалены"
   ]
  },
  {
   "cell_type": "markdown",
   "metadata": {},
   "source": [
    "### Масштабирование значений"
   ]
  },
  {
   "cell_type": "markdown",
   "metadata": {},
   "source": [
    "Для успешной классификации нужно привести текстовые признаки к индексированным категориям и затем все значения всех признаков к единому масштабу."
   ]
  },
  {
   "cell_type": "markdown",
   "metadata": {},
   "source": [
    "В первую очередь отделим целевой признак"
   ]
  },
  {
   "cell_type": "code",
   "execution_count": 17,
   "metadata": {},
   "outputs": [],
   "source": [
    "# значения целевого признака\n",
    "target = data['Exited']\n",
    "\n",
    "# ключевые признаки\n",
    "features = data.drop('Exited', axis=1)"
   ]
  },
  {
   "cell_type": "markdown",
   "metadata": {},
   "source": [
    "Применим технику прямого кодирования (_One-Hot Encoding_) для приведения текстовых признаков, применим аргумент `drop_first` для исключения первого варианта каждого столбца (избыточный для техники кодирования)"
   ]
  },
  {
   "cell_type": "code",
   "execution_count": 18,
   "metadata": {
    "scrolled": true
   },
   "outputs": [
    {
     "data": {
      "text/html": [
       "<div>\n",
       "<style scoped>\n",
       "    .dataframe tbody tr th:only-of-type {\n",
       "        vertical-align: middle;\n",
       "    }\n",
       "\n",
       "    .dataframe tbody tr th {\n",
       "        vertical-align: top;\n",
       "    }\n",
       "\n",
       "    .dataframe thead th {\n",
       "        text-align: right;\n",
       "    }\n",
       "</style>\n",
       "<table border=\"1\" class=\"dataframe\">\n",
       "  <thead>\n",
       "    <tr style=\"text-align: right;\">\n",
       "      <th></th>\n",
       "      <th>CreditScore</th>\n",
       "      <th>Age</th>\n",
       "      <th>Tenure</th>\n",
       "      <th>Balance</th>\n",
       "      <th>NumOfProducts</th>\n",
       "      <th>HasCrCard</th>\n",
       "      <th>IsActiveMember</th>\n",
       "      <th>EstimatedSalary</th>\n",
       "      <th>Geography_Germany</th>\n",
       "      <th>Geography_Spain</th>\n",
       "      <th>Gender_Male</th>\n",
       "    </tr>\n",
       "  </thead>\n",
       "  <tbody>\n",
       "    <tr>\n",
       "      <td>0</td>\n",
       "      <td>619</td>\n",
       "      <td>42</td>\n",
       "      <td>2</td>\n",
       "      <td>0.00</td>\n",
       "      <td>1</td>\n",
       "      <td>1</td>\n",
       "      <td>1</td>\n",
       "      <td>101348.88</td>\n",
       "      <td>0</td>\n",
       "      <td>0</td>\n",
       "      <td>0</td>\n",
       "    </tr>\n",
       "    <tr>\n",
       "      <td>1</td>\n",
       "      <td>608</td>\n",
       "      <td>41</td>\n",
       "      <td>1</td>\n",
       "      <td>83807.86</td>\n",
       "      <td>1</td>\n",
       "      <td>0</td>\n",
       "      <td>1</td>\n",
       "      <td>112542.58</td>\n",
       "      <td>0</td>\n",
       "      <td>1</td>\n",
       "      <td>0</td>\n",
       "    </tr>\n",
       "    <tr>\n",
       "      <td>2</td>\n",
       "      <td>502</td>\n",
       "      <td>42</td>\n",
       "      <td>8</td>\n",
       "      <td>159660.80</td>\n",
       "      <td>3</td>\n",
       "      <td>1</td>\n",
       "      <td>0</td>\n",
       "      <td>113931.57</td>\n",
       "      <td>0</td>\n",
       "      <td>0</td>\n",
       "      <td>0</td>\n",
       "    </tr>\n",
       "    <tr>\n",
       "      <td>3</td>\n",
       "      <td>699</td>\n",
       "      <td>39</td>\n",
       "      <td>1</td>\n",
       "      <td>0.00</td>\n",
       "      <td>2</td>\n",
       "      <td>0</td>\n",
       "      <td>0</td>\n",
       "      <td>93826.63</td>\n",
       "      <td>0</td>\n",
       "      <td>0</td>\n",
       "      <td>0</td>\n",
       "    </tr>\n",
       "    <tr>\n",
       "      <td>4</td>\n",
       "      <td>850</td>\n",
       "      <td>43</td>\n",
       "      <td>2</td>\n",
       "      <td>125510.82</td>\n",
       "      <td>1</td>\n",
       "      <td>1</td>\n",
       "      <td>1</td>\n",
       "      <td>79084.10</td>\n",
       "      <td>0</td>\n",
       "      <td>1</td>\n",
       "      <td>0</td>\n",
       "    </tr>\n",
       "    <tr>\n",
       "      <td>5</td>\n",
       "      <td>645</td>\n",
       "      <td>44</td>\n",
       "      <td>8</td>\n",
       "      <td>113755.78</td>\n",
       "      <td>2</td>\n",
       "      <td>1</td>\n",
       "      <td>0</td>\n",
       "      <td>149756.71</td>\n",
       "      <td>0</td>\n",
       "      <td>1</td>\n",
       "      <td>1</td>\n",
       "    </tr>\n",
       "    <tr>\n",
       "      <td>6</td>\n",
       "      <td>822</td>\n",
       "      <td>50</td>\n",
       "      <td>7</td>\n",
       "      <td>0.00</td>\n",
       "      <td>2</td>\n",
       "      <td>1</td>\n",
       "      <td>1</td>\n",
       "      <td>10062.80</td>\n",
       "      <td>0</td>\n",
       "      <td>0</td>\n",
       "      <td>1</td>\n",
       "    </tr>\n",
       "  </tbody>\n",
       "</table>\n",
       "</div>"
      ],
      "text/plain": [
       "   CreditScore  Age  Tenure    Balance  NumOfProducts  HasCrCard  \\\n",
       "0          619   42       2       0.00              1          1   \n",
       "1          608   41       1   83807.86              1          0   \n",
       "2          502   42       8  159660.80              3          1   \n",
       "3          699   39       1       0.00              2          0   \n",
       "4          850   43       2  125510.82              1          1   \n",
       "5          645   44       8  113755.78              2          1   \n",
       "6          822   50       7       0.00              2          1   \n",
       "\n",
       "   IsActiveMember  EstimatedSalary  Geography_Germany  Geography_Spain  \\\n",
       "0               1        101348.88                  0                0   \n",
       "1               1        112542.58                  0                1   \n",
       "2               0        113931.57                  0                0   \n",
       "3               0         93826.63                  0                0   \n",
       "4               1         79084.10                  0                1   \n",
       "5               0        149756.71                  0                1   \n",
       "6               1         10062.80                  0                0   \n",
       "\n",
       "   Gender_Male  \n",
       "0            0  \n",
       "1            0  \n",
       "2            0  \n",
       "3            0  \n",
       "4            0  \n",
       "5            1  \n",
       "6            1  "
      ]
     },
     "execution_count": 18,
     "metadata": {},
     "output_type": "execute_result"
    }
   ],
   "source": [
    "features = pd.get_dummies(features, drop_first=True)\n",
    "\n",
    "# Проверка датафрейма\n",
    "features.head(7)"
   ]
  },
  {
   "cell_type": "markdown",
   "metadata": {},
   "source": [
    "Создадим обучающую, валидационную и тестовую выборки с объемами в соотношении 3-1-1:"
   ]
  },
  {
   "cell_type": "code",
   "execution_count": 19,
   "metadata": {
    "scrolled": true
   },
   "outputs": [],
   "source": [
    "(\n",
    "    features_train_valid,\n",
    "    features_test,\n",
    "    target_train_valid,\n",
    "    target_test\n",
    ") = train_test_split(features, target, test_size=0.20, random_state=12345)\n",
    "\n",
    "(\n",
    "    features_train,\n",
    "    features_valid,\n",
    "    target_train,\n",
    "    target_valid\n",
    ") = train_test_split(features_train_valid, target_train_valid, test_size=0.25, random_state=12345)"
   ]
  },
  {
   "cell_type": "markdown",
   "metadata": {},
   "source": [
    "Самое время применить масштабирование значений признаков, обучив предварительно на обучающей выборке `Scaler`:"
   ]
  },
  {
   "cell_type": "code",
   "execution_count": 20,
   "metadata": {
    "scrolled": true
   },
   "outputs": [
    {
     "data": {
      "text/html": [
       "<div>\n",
       "<style scoped>\n",
       "    .dataframe tbody tr th:only-of-type {\n",
       "        vertical-align: middle;\n",
       "    }\n",
       "\n",
       "    .dataframe tbody tr th {\n",
       "        vertical-align: top;\n",
       "    }\n",
       "\n",
       "    .dataframe thead th {\n",
       "        text-align: right;\n",
       "    }\n",
       "</style>\n",
       "<table border=\"1\" class=\"dataframe\">\n",
       "  <thead>\n",
       "    <tr style=\"text-align: right;\">\n",
       "      <th></th>\n",
       "      <th>CreditScore</th>\n",
       "      <th>Age</th>\n",
       "      <th>Tenure</th>\n",
       "      <th>Balance</th>\n",
       "      <th>NumOfProducts</th>\n",
       "      <th>HasCrCard</th>\n",
       "      <th>IsActiveMember</th>\n",
       "      <th>EstimatedSalary</th>\n",
       "      <th>Geography_Germany</th>\n",
       "      <th>Geography_Spain</th>\n",
       "      <th>Gender_Male</th>\n",
       "    </tr>\n",
       "  </thead>\n",
       "  <tbody>\n",
       "    <tr>\n",
       "      <td>492</td>\n",
       "      <td>-0.134048</td>\n",
       "      <td>-0.078068</td>\n",
       "      <td>0.323646</td>\n",
       "      <td>0.076163</td>\n",
       "      <td>0.816929</td>\n",
       "      <td>-1.550255</td>\n",
       "      <td>0.968496</td>\n",
       "      <td>0.331571</td>\n",
       "      <td>-0.579146</td>\n",
       "      <td>-0.576837</td>\n",
       "      <td>-1.103311</td>\n",
       "    </tr>\n",
       "    <tr>\n",
       "      <td>6655</td>\n",
       "      <td>-1.010798</td>\n",
       "      <td>0.494555</td>\n",
       "      <td>-3.086472</td>\n",
       "      <td>0.136391</td>\n",
       "      <td>-0.896909</td>\n",
       "      <td>0.645055</td>\n",
       "      <td>0.968496</td>\n",
       "      <td>-0.727858</td>\n",
       "      <td>-0.579146</td>\n",
       "      <td>-0.576837</td>\n",
       "      <td>0.906363</td>\n",
       "    </tr>\n",
       "    <tr>\n",
       "      <td>4287</td>\n",
       "      <td>0.639554</td>\n",
       "      <td>1.353490</td>\n",
       "      <td>0.322623</td>\n",
       "      <td>0.358435</td>\n",
       "      <td>-0.896909</td>\n",
       "      <td>0.645055</td>\n",
       "      <td>0.968496</td>\n",
       "      <td>-0.477006</td>\n",
       "      <td>1.726679</td>\n",
       "      <td>-0.576837</td>\n",
       "      <td>0.906363</td>\n",
       "    </tr>\n",
       "    <tr>\n",
       "      <td>42</td>\n",
       "      <td>-0.990168</td>\n",
       "      <td>2.116987</td>\n",
       "      <td>0.322964</td>\n",
       "      <td>0.651725</td>\n",
       "      <td>-0.896909</td>\n",
       "      <td>0.645055</td>\n",
       "      <td>0.968496</td>\n",
       "      <td>-0.100232</td>\n",
       "      <td>-0.579146</td>\n",
       "      <td>-0.576837</td>\n",
       "      <td>-1.103311</td>\n",
       "    </tr>\n",
       "    <tr>\n",
       "      <td>8178</td>\n",
       "      <td>0.567351</td>\n",
       "      <td>0.685430</td>\n",
       "      <td>0.324668</td>\n",
       "      <td>0.813110</td>\n",
       "      <td>0.816929</td>\n",
       "      <td>0.645055</td>\n",
       "      <td>0.968496</td>\n",
       "      <td>0.801922</td>\n",
       "      <td>-0.579146</td>\n",
       "      <td>-0.576837</td>\n",
       "      <td>-1.103311</td>\n",
       "    </tr>\n",
       "    <tr>\n",
       "      <td>2127</td>\n",
       "      <td>0.598296</td>\n",
       "      <td>-0.459816</td>\n",
       "      <td>0.325350</td>\n",
       "      <td>0.921963</td>\n",
       "      <td>0.816929</td>\n",
       "      <td>0.645055</td>\n",
       "      <td>-1.032529</td>\n",
       "      <td>0.820416</td>\n",
       "      <td>1.726679</td>\n",
       "      <td>-0.576837</td>\n",
       "      <td>0.906363</td>\n",
       "    </tr>\n",
       "    <tr>\n",
       "      <td>2051</td>\n",
       "      <td>0.618925</td>\n",
       "      <td>-0.173505</td>\n",
       "      <td>0.322623</td>\n",
       "      <td>0.482629</td>\n",
       "      <td>0.816929</td>\n",
       "      <td>-1.550255</td>\n",
       "      <td>-1.032529</td>\n",
       "      <td>1.208574</td>\n",
       "      <td>-0.579146</td>\n",
       "      <td>-0.576837</td>\n",
       "      <td>-1.103311</td>\n",
       "    </tr>\n",
       "  </tbody>\n",
       "</table>\n",
       "</div>"
      ],
      "text/plain": [
       "      CreditScore       Age    Tenure   Balance  NumOfProducts  HasCrCard  \\\n",
       "492     -0.134048 -0.078068  0.323646  0.076163       0.816929  -1.550255   \n",
       "6655    -1.010798  0.494555 -3.086472  0.136391      -0.896909   0.645055   \n",
       "4287     0.639554  1.353490  0.322623  0.358435      -0.896909   0.645055   \n",
       "42      -0.990168  2.116987  0.322964  0.651725      -0.896909   0.645055   \n",
       "8178     0.567351  0.685430  0.324668  0.813110       0.816929   0.645055   \n",
       "2127     0.598296 -0.459816  0.325350  0.921963       0.816929   0.645055   \n",
       "2051     0.618925 -0.173505  0.322623  0.482629       0.816929  -1.550255   \n",
       "\n",
       "      IsActiveMember  EstimatedSalary  Geography_Germany  Geography_Spain  \\\n",
       "492         0.968496         0.331571          -0.579146        -0.576837   \n",
       "6655        0.968496        -0.727858          -0.579146        -0.576837   \n",
       "4287        0.968496        -0.477006           1.726679        -0.576837   \n",
       "42          0.968496        -0.100232          -0.579146        -0.576837   \n",
       "8178        0.968496         0.801922          -0.579146        -0.576837   \n",
       "2127       -1.032529         0.820416           1.726679        -0.576837   \n",
       "2051       -1.032529         1.208574          -0.579146        -0.576837   \n",
       "\n",
       "      Gender_Male  \n",
       "492     -1.103311  \n",
       "6655     0.906363  \n",
       "4287     0.906363  \n",
       "42      -1.103311  \n",
       "8178    -1.103311  \n",
       "2127     0.906363  \n",
       "2051    -1.103311  "
      ]
     },
     "execution_count": 20,
     "metadata": {},
     "output_type": "execute_result"
    }
   ],
   "source": [
    "scaler = StandardScaler()\n",
    "scaler.fit(features_train)\n",
    "features_train = pd.DataFrame(scaler.transform(features_train), columns=features_train.columns, index=target_train.index)\n",
    "features_valid = pd.DataFrame(scaler.transform(features_valid), columns=features_valid.columns, index=target_valid.index)\n",
    "features_test = pd.DataFrame(scaler.transform(features_test), columns=features_test.columns, index=target_test.index)\n",
    "\n",
    "# Проверка датафрейма\n",
    "features_train.head(7)"
   ]
  },
  {
   "cell_type": "markdown",
   "metadata": {},
   "source": [
    "## Исследование задачи"
   ]
  },
  {
   "cell_type": "markdown",
   "metadata": {},
   "source": [
    "### Баланс классов"
   ]
  },
  {
   "cell_type": "markdown",
   "metadata": {},
   "source": [
    "За кассы примем значения целевого признака. Целевой признак в данной задаче - это признак отстранения клиента путем расторжения договора с банком. В исходных данных этот признак представлен в столбце `Exited`. Чуть ранее целевой признак был выделен в переменную `target`. Оценим количество наблюдений для каждого из классов:"
   ]
  },
  {
   "cell_type": "code",
   "execution_count": 21,
   "metadata": {},
   "outputs": [
    {
     "data": {
      "text/plain": [
       "0    7963\n",
       "1    2037\n",
       "Name: Exited, dtype: int64"
      ]
     },
     "execution_count": 21,
     "metadata": {},
     "output_type": "execute_result"
    }
   ],
   "source": [
    "target_cases = target.value_counts()\n",
    "\n",
    "# Вывод результатов\n",
    "target_cases"
   ]
  },
  {
   "cell_type": "code",
   "execution_count": 22,
   "metadata": {},
   "outputs": [
    {
     "data": {
      "text/plain": [
       "3.9091801669121256"
      ]
     },
     "execution_count": 22,
     "metadata": {},
     "output_type": "execute_result"
    }
   ],
   "source": [
    "target_cases[0] / target_cases[1]"
   ]
  },
  {
   "cell_type": "markdown",
   "metadata": {},
   "source": [
    "Видно, что класс клиентов, которые еще не расторгли договор имеет в 4 раза больше случаев (записей в исходном датафрейме), подобный дисбаланс классов может отразиться на точности прогнозирования созданной модели. Однако проведем эксперимент."
   ]
  },
  {
   "cell_type": "markdown",
   "metadata": {},
   "source": [
    "### Моделирование"
   ]
  },
  {
   "cell_type": "markdown",
   "metadata": {},
   "source": [
    "#### Дерево решающих правил"
   ]
  },
  {
   "cell_type": "markdown",
   "metadata": {},
   "source": [
    "Построим модель и сравним показатели метрики F1 для различных значений гиперпараметров в цикле. Лучший результат сохраним."
   ]
  },
  {
   "cell_type": "code",
   "execution_count": 23,
   "metadata": {},
   "outputs": [
    {
     "name": "stdout",
     "output_type": "stream",
     "text": [
      "Лучший результат для DecisionTreeClassifier с гиперпараметром max_depth = 7\n",
      "F1 метрика = 0.5488958990536277\n",
      "AUC-ROC метрика = 0.796271703310216\n",
      "------- на тестовой выборке -------\n",
      "F1 метрика = 0.5640287769784172\n",
      "AUC-ROC метрика = 0.706621992016925\n"
     ]
    }
   ],
   "source": [
    "best_param = 0\n",
    "best_f1 = 0\n",
    "best_roc = 0\n",
    "\n",
    "for depth in range(2,20,1):\n",
    "    model = DecisionTreeClassifier(max_depth=depth, random_state=12345)\n",
    "    model.fit(features_train, target_train)\n",
    "    target_predicted = model.predict(features_valid)\n",
    "    f1 = f1_score(target_predicted, target_valid)\n",
    "    if(best_f1 < f1):\n",
    "        best_f1 = f1\n",
    "        best_roc = roc_auc_score(target_predicted, target_valid)\n",
    "        best_param = depth\n",
    "        \n",
    "print('Лучший результат для DecisionTreeClassifier с гиперпараметром max_depth =', best_param)\n",
    "print('F1 метрика =', best_f1)\n",
    "print('AUC-ROC метрика =', best_roc)\n",
    "print('------- на тестовой выборке -------')\n",
    "model = DecisionTreeClassifier(max_depth=best_param, random_state=12345)\n",
    "model.fit(features_train, target_train)\n",
    "target_predicted = model.predict(features_test)\n",
    "f1 = f1_score(target_test,target_predicted)\n",
    "roc = roc_auc_score(target_test,target_predicted)\n",
    "print('F1 метрика =', f1)\n",
    "print('AUC-ROC метрика =', roc)"
   ]
  },
  {
   "cell_type": "markdown",
   "metadata": {},
   "source": [
    "#### Случайный лес"
   ]
  },
  {
   "cell_type": "markdown",
   "metadata": {},
   "source": [
    "Построим модель и сравним показатели метрики F1 для различных значений гиперпараметров в цикле. Лучший результат сохраним."
   ]
  },
  {
   "cell_type": "code",
   "execution_count": 24,
   "metadata": {},
   "outputs": [
    {
     "name": "stdout",
     "output_type": "stream",
     "text": [
      "Лучший результат для RandomForestClassifier с гиперпараметром max_depth = 16\n",
      "F1 метрика = 0.5735963581183612\n"
     ]
    }
   ],
   "source": [
    "best_param = 0\n",
    "best_f1 = 0\n",
    "\n",
    "for depth in range(2,20,1):\n",
    "    model = RandomForestClassifier(n_estimators=12, max_depth=depth, random_state=12345)\n",
    "    model.fit(features_train, target_train)\n",
    "    target_predicted = model.predict(features_valid)\n",
    "    f1 = f1_score(target_predicted, target_valid)\n",
    "    if(best_f1 < f1):\n",
    "        best_f1 = f1\n",
    "        best_param = depth\n",
    "        \n",
    "print('Лучший результат для RandomForestClassifier с гиперпараметром max_depth =', best_param)\n",
    "print('F1 метрика =', best_f1)"
   ]
  },
  {
   "cell_type": "code",
   "execution_count": 25,
   "metadata": {
    "scrolled": true
   },
   "outputs": [
    {
     "name": "stdout",
     "output_type": "stream",
     "text": [
      "Лучший результат для RandomForestClassifier с гиперпараметром n_estimators = 20\n",
      "F1 метрика = 0.5770992366412213\n",
      "AUC-ROC метрика = 0.7997748219522413\n",
      "------- на тестовой выборке -------\n",
      "F1 метрика = 0.5788712011577424\n",
      "AUC-ROC метрика = 0.7138487444001602\n"
     ]
    }
   ],
   "source": [
    "best_param = 0\n",
    "best_f1 = 0\n",
    "best_roc = 0\n",
    "\n",
    "for n_est in range(5,90,5):\n",
    "    model = RandomForestClassifier(n_estimators=n_est, max_depth=16, random_state=12345)\n",
    "    model.fit(features_train, target_train)\n",
    "    target_predicted = model.predict(features_valid)\n",
    "    f1 = f1_score(target_predicted, target_valid)\n",
    "    if(best_f1 < f1):\n",
    "        best_f1 = f1\n",
    "        best_roc = roc_auc_score(target_predicted, target_valid)\n",
    "        best_param = n_est\n",
    "        \n",
    "print('Лучший результат для RandomForestClassifier с гиперпараметром n_estimators =', best_param)\n",
    "print('F1 метрика =', best_f1)\n",
    "print('AUC-ROC метрика =', best_roc)\n",
    "print('------- на тестовой выборке -------')\n",
    "model = RandomForestClassifier(n_estimators=best_param, max_depth=16, random_state=12345)\n",
    "model.fit(features_train, target_train)\n",
    "target_predicted = model.predict(features_test)\n",
    "f1 = f1_score(target_test,target_predicted)\n",
    "roc = roc_auc_score(target_test,target_predicted)\n",
    "print('F1 метрика =', f1)\n",
    "print('AUC-ROC метрика =', roc)"
   ]
  },
  {
   "cell_type": "markdown",
   "metadata": {},
   "source": [
    "#### Логистическая регрессия"
   ]
  },
  {
   "cell_type": "markdown",
   "metadata": {},
   "source": [
    "Построим модель и сравним показатели метрики F1 для различных значений гиперпараметров в цикле. Лучший результат сохраним."
   ]
  },
  {
   "cell_type": "code",
   "execution_count": 26,
   "metadata": {
    "scrolled": true
   },
   "outputs": [
    {
     "name": "stdout",
     "output_type": "stream",
     "text": [
      "Лучший результат для LogisticRegression с гиперпараметром solver = liblinear\n",
      "F1 метрика = 0.30451127819548873\n",
      "AUC-ROC метрика = 0.7038558822519543\n",
      "------- на тестовой выборке -------\n",
      "F1 метрика = 0.31088082901554404\n",
      "AUC-ROC метрика = 0.585678851699716\n"
     ]
    }
   ],
   "source": [
    "solvers = ['liblinear', 'newton-cg', 'sag', 'saga', 'lbfgs']\n",
    "\n",
    "best_param = 0\n",
    "best_f1 = 0\n",
    "best_roc = 0\n",
    "\n",
    "for i in solvers:\n",
    "    model = LogisticRegression(solver=i, random_state=12345)\n",
    "    model.fit(features_train, target_train)\n",
    "    target_predicted = model.predict(features_valid)\n",
    "    f1 = f1_score(target_predicted, target_valid)\n",
    "    if(best_f1 < f1):\n",
    "        best_f1 = f1\n",
    "        best_roc = roc_auc_score(target_predicted, target_valid)\n",
    "        best_param = i\n",
    "\n",
    "print('Лучший результат для LogisticRegression с гиперпараметром solver =', best_param)\n",
    "print('F1 метрика =', best_f1)\n",
    "print('AUC-ROC метрика =', best_roc)\n",
    "print('------- на тестовой выборке -------')\n",
    "model = LogisticRegression(solver=best_param, random_state=12345)\n",
    "model.fit(features_train, target_train)\n",
    "target_predicted = model.predict(features_test)\n",
    "f1 = f1_score(target_test,target_predicted)\n",
    "roc = roc_auc_score(target_test,target_predicted)\n",
    "print('F1 метрика =', f1)\n",
    "print('AUC-ROC метрика =', roc)"
   ]
  },
  {
   "cell_type": "markdown",
   "metadata": {},
   "source": [
    "Сравним результаты для модели со взвешиванием классов:"
   ]
  },
  {
   "cell_type": "code",
   "execution_count": 27,
   "metadata": {
    "scrolled": true
   },
   "outputs": [
    {
     "name": "stdout",
     "output_type": "stream",
     "text": [
      "Лучший результат для LogisticRegression и взвешенными классами с гиперпараметром solver = liblinear\n",
      "F1 метрика = 0.4842484248424843\n",
      "AUC-ROC метрика = 0.6391493055555556\n",
      "------- на тестовой выборке -------\n",
      "F1 метрика = 0.5042016806722689\n",
      "AUC-ROC метрика = 0.7041170453987146\n"
     ]
    }
   ],
   "source": [
    "solvers = ['liblinear', 'newton-cg', 'sag', 'saga', 'lbfgs']\n",
    "\n",
    "best_param = 0\n",
    "best_f1 = 0\n",
    "best_roc = 0\n",
    "\n",
    "for i in solvers:\n",
    "    model = LogisticRegression(solver=i, random_state=12345, class_weight='balanced')\n",
    "    model.fit(features_train, target_train)\n",
    "    target_predicted = model.predict(features_valid)\n",
    "    f1 = f1_score(target_predicted, target_valid)\n",
    "    if(best_f1 < f1):\n",
    "        best_f1 = f1\n",
    "        best_roc = roc_auc_score(target_predicted, target_valid)\n",
    "        best_param = i\n",
    "\n",
    "print('Лучший результат для LogisticRegression и взвешенными классами с гиперпараметром solver =', best_param)\n",
    "print('F1 метрика =', best_f1)\n",
    "print('AUC-ROC метрика =', best_roc)\n",
    "print('------- на тестовой выборке -------')\n",
    "model = LogisticRegression(solver=best_param, random_state=12345, class_weight='balanced')\n",
    "model.fit(features_train, target_train)\n",
    "target_predicted = model.predict(features_test)\n",
    "f1 = f1_score(target_test,target_predicted)\n",
    "roc = roc_auc_score(target_test,target_predicted)\n",
    "print('F1 метрика =', f1)\n",
    "print('AUC-ROC метрика =', roc)"
   ]
  },
  {
   "cell_type": "markdown",
   "metadata": {},
   "source": [
    "### Выводы"
   ]
  },
  {
   "cell_type": "markdown",
   "metadata": {},
   "source": [
    "Результаты показывают, что наилучшие успехи демонстрирует модель Случайные лес с гиперпараметрами: деревьев=20, максимальная глубина=16. Однако  можно добиться лучших показателей, если применить методику борьбы с дисбалансом. Предварительный анализ баланса классов показал, что выборки двух классов (0 - клиенты не расторгнувшие договор, 1 - расторгнувшие) отличаются по размеру примерно в 4 раза."
   ]
  },
  {
   "cell_type": "code",
   "execution_count": 28,
   "metadata": {
    "scrolled": true
   },
   "outputs": [
    {
     "name": "stdout",
     "output_type": "stream",
     "text": [
      "AUC-ROC метрика для лучшей модели = 0.7997748219522413\n"
     ]
    }
   ],
   "source": [
    "model = RandomForestClassifier(n_estimators=20, max_depth=16, random_state=12345)\n",
    "model.fit(features_train, target_train)\n",
    "target_predicted = model.predict(features_valid)\n",
    "print('AUC-ROC метрика для лучшей модели =',roc_auc_score(target_predicted, target_valid))"
   ]
  },
  {
   "cell_type": "markdown",
   "metadata": {},
   "source": [
    "## Борьба с дисбалансом"
   ]
  },
  {
   "cell_type": "markdown",
   "metadata": {},
   "source": [
    "Для борьбы с дисбалансом применим 2 техники: увеличения и уменьшения выборки чтобы количество записей каждого класса было примерно сопоставимо. У случае увеличения будем увеличивать выборку класса 1 в 4 раза, в случае уменьшения - уменьшать выборку класса 0 до 25% от исходного размера:"
   ]
  },
  {
   "cell_type": "code",
   "execution_count": 29,
   "metadata": {},
   "outputs": [],
   "source": [
    "# функция для увеличения выборки путем повторения repeat раз выборки для класса 1\n",
    "def upsample(features, target, repeat):\n",
    "    features_zeros = features[target == 0]\n",
    "    features_ones = features[target == 1]\n",
    "    target_zeros = target[target == 0]\n",
    "    target_ones = target[target == 1]\n",
    "\n",
    "    features_upsampled = pd.concat([features_zeros] + [features_ones] * repeat)\n",
    "    target_upsampled = pd.concat([target_zeros] + [target_ones] * repeat)\n",
    "    \n",
    "    # применим функцию shuffle для того чтобы перемешать итоговую выборку\n",
    "    features_upsampled, target_upsampled = shuffle(\n",
    "        features_upsampled, target_upsampled, random_state=12345)\n",
    "    \n",
    "    return features_upsampled, target_upsampled\n",
    "\n",
    "# функция для уменьшения выборки путем случайного выборка доли выборки класса 0\n",
    "def downsample(features, target, fraction):\n",
    "    features_zeros = features[target == 0]\n",
    "    features_ones = features[target == 1]\n",
    "    target_zeros = target[target == 0]\n",
    "    target_ones = target[target == 1]\n",
    "\n",
    "    features_downsampled = pd.concat(\n",
    "        [features_zeros.sample(frac=fraction, random_state=12345)] + [features_ones])\n",
    "    target_downsampled = pd.concat(\n",
    "        [target_zeros.sample(frac=fraction, random_state=12345)] + [target_ones])\n",
    "    \n",
    "    features_downsampled, target_downsampled = shuffle(\n",
    "        features_downsampled, target_downsampled, random_state=12345)\n",
    "    \n",
    "    return features_downsampled, target_downsampled\n",
    "\n",
    "\n",
    "features_upsampled, target_upsampled = upsample(features_train, target_train, 4)\n",
    "features_downsampled, target_downsampled = downsample(features_train, target_train, 0.25)"
   ]
  },
  {
   "cell_type": "markdown",
   "metadata": {},
   "source": [
    "## Тестирование модели"
   ]
  },
  {
   "cell_type": "markdown",
   "metadata": {},
   "source": [
    "### Тестирование моделей на увеличенной выборке"
   ]
  },
  {
   "cell_type": "markdown",
   "metadata": {},
   "source": [
    "#### Дерево решающих правил"
   ]
  },
  {
   "cell_type": "markdown",
   "metadata": {},
   "source": [
    "Построим модель и сравним показатели метрики F1 для различных значений гиперпараметров в цикле. Лучший результат сохраним."
   ]
  },
  {
   "cell_type": "code",
   "execution_count": 30,
   "metadata": {
    "scrolled": true
   },
   "outputs": [
    {
     "name": "stdout",
     "output_type": "stream",
     "text": [
      "Лучший результат для DecisionTreeClassifier с гиперпараметром max_depth = 6\n",
      "F1 метрика = 0.5587044534412956\n"
     ]
    }
   ],
   "source": [
    "best_param = 0\n",
    "best_f1 = 0\n",
    "\n",
    "for depth in range(2,20,1):\n",
    "    model = DecisionTreeClassifier(max_depth=depth, random_state=12345)\n",
    "    model.fit(features_upsampled, target_upsampled)\n",
    "    target_predicted = model.predict(features_valid)\n",
    "    f1 = f1_score(target_predicted, target_valid)\n",
    "    if(best_f1 < f1):\n",
    "        best_f1 = f1\n",
    "        best_param = depth\n",
    "        \n",
    "print('Лучший результат для DecisionTreeClassifier с гиперпараметром max_depth =', best_param)\n",
    "print('F1 метрика =', best_f1)"
   ]
  },
  {
   "cell_type": "code",
   "execution_count": 31,
   "metadata": {},
   "outputs": [
    {
     "name": "stdout",
     "output_type": "stream",
     "text": [
      "------- на тестовой выборке -------\n",
      "F1 метрика = 0.5933852140077821\n",
      "AUC-ROC метрика = 0.7630551266914903\n"
     ]
    }
   ],
   "source": [
    "print('------- на тестовой выборке -------')\n",
    "model = DecisionTreeClassifier(max_depth=6, random_state=12345)\n",
    "model.fit(features_upsampled, target_upsampled)\n",
    "predicted_test = model.predict(features_test)\n",
    "f1 = f1_score(target_test,predicted_test)\n",
    "roc = roc_auc_score(target_test, predicted_test)\n",
    "print('F1 метрика =', f1)\n",
    "print('AUC-ROC метрика =', roc)"
   ]
  },
  {
   "cell_type": "markdown",
   "metadata": {},
   "source": [
    "#### Случайный лес"
   ]
  },
  {
   "cell_type": "markdown",
   "metadata": {},
   "source": [
    "Построим модель и сравним показатели метрики F1 для различных значений гиперпараметров в цикле. Лучший результат сохраним."
   ]
  },
  {
   "cell_type": "code",
   "execution_count": 32,
   "metadata": {},
   "outputs": [
    {
     "name": "stdout",
     "output_type": "stream",
     "text": [
      "Лучший результат для RandomForestClassifier с гиперпараметром max_depth = 12\n",
      "F1 метрика = 0.5833333333333333\n"
     ]
    }
   ],
   "source": [
    "best_param = 0\n",
    "best_f1 = 0\n",
    "\n",
    "for depth in range(2,20,1):\n",
    "    model = RandomForestClassifier(n_estimators=12, max_depth=depth, random_state=12345)\n",
    "    model.fit(features_upsampled, target_upsampled)\n",
    "    target_predicted = model.predict(features_valid)\n",
    "    f1 = f1_score(target_predicted, target_valid)\n",
    "    if(best_f1 < f1):\n",
    "        best_f1 = f1\n",
    "        best_param = depth\n",
    "        \n",
    "print('Лучший результат для RandomForestClassifier с гиперпараметром max_depth =', best_param)\n",
    "print('F1 метрика =', best_f1)"
   ]
  },
  {
   "cell_type": "code",
   "execution_count": 33,
   "metadata": {
    "scrolled": true
   },
   "outputs": [
    {
     "name": "stdout",
     "output_type": "stream",
     "text": [
      "Лучший результат для RandomForestClassifier с гиперпараметром n_estimators = 50\n",
      "F1 метрика = 0.5935960591133005\n"
     ]
    }
   ],
   "source": [
    "best_param = 0\n",
    "best_f1 = 0\n",
    "\n",
    "for n_est in range(5,90,5):\n",
    "    model = RandomForestClassifier(n_estimators=n_est, max_depth=12, random_state=12345)\n",
    "    model.fit(features_upsampled, target_upsampled)\n",
    "    target_predicted = model.predict(features_valid)\n",
    "    f1 = f1_score(target_predicted, target_valid)\n",
    "    if(best_f1 < f1):\n",
    "        best_f1 = f1\n",
    "        best_param = n_est\n",
    "        \n",
    "print('Лучший результат для RandomForestClassifier с гиперпараметром n_estimators =', best_param)\n",
    "print('F1 метрика =', best_f1)"
   ]
  },
  {
   "cell_type": "code",
   "execution_count": 34,
   "metadata": {},
   "outputs": [
    {
     "name": "stdout",
     "output_type": "stream",
     "text": [
      "------- на тестовой выборке -------\n",
      "F1 метрика = 0.6237054085155351\n",
      "AUC-ROC метрика = 0.7629754745999158\n"
     ]
    }
   ],
   "source": [
    "print('------- на тестовой выборке -------')\n",
    "model = RandomForestClassifier(n_estimators=51, max_depth=12, random_state=12345)\n",
    "model.fit(features_upsampled, target_upsampled)\n",
    "predicted_test = model.predict(features_test)\n",
    "f1 = f1_score(target_test,predicted_test)\n",
    "roc = roc_auc_score(target_test, predicted_test)\n",
    "print('F1 метрика =', f1)\n",
    "print('AUC-ROC метрика =', roc)"
   ]
  },
  {
   "cell_type": "markdown",
   "metadata": {},
   "source": [
    "#### Логистическая регрессия"
   ]
  },
  {
   "cell_type": "markdown",
   "metadata": {},
   "source": [
    "Построим модель и сравним показатели метрики F1 для различных значений гиперпараметров в цикле. Лучший результат сохраним."
   ]
  },
  {
   "cell_type": "markdown",
   "metadata": {},
   "source": [
    "##### Без взвешивания классов"
   ]
  },
  {
   "cell_type": "code",
   "execution_count": 35,
   "metadata": {
    "scrolled": false
   },
   "outputs": [
    {
     "name": "stdout",
     "output_type": "stream",
     "text": [
      "Лучший результат для LogisticRegression с гиперпараметром solver = liblinear\n",
      "F1 метрика = 0.4799286351471901\n"
     ]
    }
   ],
   "source": [
    "solvers = ['liblinear', 'newton-cg', 'sag', 'saga', 'lbfgs']\n",
    "\n",
    "best_param = 0\n",
    "best_f1 = 0\n",
    "\n",
    "for i in solvers:\n",
    "    model = LogisticRegression(solver=i, random_state=12345)\n",
    "    model.fit(features_upsampled, target_upsampled)\n",
    "    target_predicted = model.predict(features_valid)\n",
    "    f1 = f1_score(target_predicted, target_valid)\n",
    "    if(best_f1 < f1):\n",
    "        best_f1 = f1\n",
    "        best_param = i\n",
    "\n",
    "print('Лучший результат для LogisticRegression с гиперпараметром solver =', best_param)\n",
    "print('F1 метрика =', best_f1)"
   ]
  },
  {
   "cell_type": "code",
   "execution_count": 36,
   "metadata": {},
   "outputs": [
    {
     "name": "stdout",
     "output_type": "stream",
     "text": [
      "Лучший результат для LogisticRegression c порогом = 0.64\n",
      "F1 метрика = 0.5024875621890547\n",
      "AUC-ROC метрика = 0.7716505144495716\n",
      "------- на тестовой выборке -------\n",
      "F1 метрика = 0.4781609195402299\n",
      "AUC-ROC метрика = 0.765676946004815\n"
     ]
    }
   ],
   "source": [
    "model = LogisticRegression(solver='liblinear', random_state=12345)\n",
    "model.fit(features_upsampled, target_upsampled)\n",
    "probabilities_valid = model.predict_proba(features_valid)\n",
    "probabilities_one_valid = probabilities_valid[:,1]\n",
    "\n",
    "best_param = 0\n",
    "best_f1 = 0\n",
    "best_roc = 0\n",
    "\n",
    "for threshold in np.arange(0.02, 1, 0.02):\n",
    "    predicted_valid = probabilities_one_valid>threshold\n",
    "    f1 = f1_score(target_valid,predicted_valid)\n",
    "    if(best_f1 < f1):\n",
    "        best_f1 = f1\n",
    "        best_roc = roc_auc_score(target_valid, probabilities_one_valid)\n",
    "        best_param = threshold\n",
    "\n",
    "print('Лучший результат для LogisticRegression c порогом =', '{:.2}'.format(best_param))\n",
    "print('F1 метрика =', best_f1)\n",
    "print('AUC-ROC метрика =', best_roc)\n",
    "print('------- на тестовой выборке -------')\n",
    "probabilities_test = model.predict_proba(features_test)\n",
    "probabilities_one_test = probabilities_test[:,1]\n",
    "predicted_test = probabilities_one_test>best_param\n",
    "f1 = f1_score(target_test,predicted_test)\n",
    "roc = roc_auc_score(target_test, probabilities_one_test)\n",
    "print('F1 метрика =', f1)\n",
    "print('AUC-ROC метрика =', roc)"
   ]
  },
  {
   "cell_type": "markdown",
   "metadata": {},
   "source": [
    "##### С взвешиванием классов"
   ]
  },
  {
   "cell_type": "code",
   "execution_count": 37,
   "metadata": {
    "scrolled": false
   },
   "outputs": [
    {
     "name": "stdout",
     "output_type": "stream",
     "text": [
      "Лучший результат для LogisticRegression с гиперпараметром solver = liblinear\n",
      "F1 метрика = 0.4842484248424843\n"
     ]
    }
   ],
   "source": [
    "solvers = ['liblinear', 'newton-cg', 'sag', 'saga', 'lbfgs']\n",
    "\n",
    "best_param = 0\n",
    "best_f1 = 0\n",
    "\n",
    "for i in solvers:\n",
    "    model = LogisticRegression(solver=i, random_state=12345, class_weight='balanced')\n",
    "    model.fit(features_upsampled, target_upsampled)\n",
    "    target_predicted = model.predict(features_valid)\n",
    "    f1 = f1_score(target_predicted, target_valid)\n",
    "    if(best_f1 < f1):\n",
    "        best_f1 = f1\n",
    "        best_param = i\n",
    "\n",
    "print('Лучший результат для LogisticRegression с гиперпараметром solver =', best_param)\n",
    "print('F1 метрика =', best_f1)"
   ]
  },
  {
   "cell_type": "code",
   "execution_count": 38,
   "metadata": {
    "scrolled": false
   },
   "outputs": [
    {
     "name": "stdout",
     "output_type": "stream",
     "text": [
      "Лучший результат для LogisticRegression c порогом = 0.64\n",
      "F1 метрика = 0.49748743718592964\n",
      "AUC-ROC метрика = 0.7715980601444242\n",
      "------- на тестовой выборке -------\n",
      "F1 метрика = 0.4779582366589327\n",
      "AUC-ROC метрика = 0.7655861277321785\n"
     ]
    }
   ],
   "source": [
    "model = LogisticRegression(solver='liblinear', random_state=12345, class_weight='balanced')\n",
    "model.fit(features_upsampled, target_upsampled)\n",
    "probabilities_valid = model.predict_proba(features_valid)\n",
    "probabilities_one_valid = probabilities_valid[:,1]\n",
    "\n",
    "best_param = 0\n",
    "best_f1 = 0\n",
    "best_roc = 0\n",
    "\n",
    "for threshold in np.arange(0.02, 1, 0.02):\n",
    "    predicted_valid = probabilities_one_valid>threshold\n",
    "    f1 = f1_score(target_valid,predicted_valid)\n",
    "    if(best_f1 < f1):\n",
    "        best_f1 = f1\n",
    "        best_roc = roc_auc_score(target_valid, probabilities_one_valid)\n",
    "        best_param = threshold\n",
    "\n",
    "print('Лучший результат для LogisticRegression c порогом =', '{:.2}'.format(best_param))\n",
    "print('F1 метрика =', best_f1)\n",
    "print('AUC-ROC метрика =', best_roc)\n",
    "print('------- на тестовой выборке -------')\n",
    "probabilities_test = model.predict_proba(features_test)\n",
    "probabilities_one_test = probabilities_test[:,1]\n",
    "predicted_test = probabilities_one_test>best_param\n",
    "f1 = f1_score(target_test,predicted_test)\n",
    "roc = roc_auc_score(target_test, probabilities_one_test)\n",
    "print('F1 метрика =', f1)\n",
    "print('AUC-ROC метрика =', roc)"
   ]
  },
  {
   "cell_type": "markdown",
   "metadata": {},
   "source": [
    "### Тестирование моделей на уменьшенной выборке"
   ]
  },
  {
   "cell_type": "markdown",
   "metadata": {},
   "source": [
    "#### Дерево решающих правил"
   ]
  },
  {
   "cell_type": "markdown",
   "metadata": {},
   "source": [
    "Построим модель и сравним показатели метрики F1 для различных значений гиперпараметров в цикле. Лучший результат сохраним."
   ]
  },
  {
   "cell_type": "code",
   "execution_count": 39,
   "metadata": {},
   "outputs": [
    {
     "name": "stdout",
     "output_type": "stream",
     "text": [
      "Лучший результат для DecisionTreeClassifier с гиперпараметром max_depth = 7\n",
      "F1 метрика = 0.5459662288930582\n"
     ]
    }
   ],
   "source": [
    "best_param = 0\n",
    "best_f1 = 0\n",
    "\n",
    "for depth in range(2,20,1):\n",
    "    model = DecisionTreeClassifier(max_depth=depth, random_state=12345)\n",
    "    model.fit(features_downsampled, target_downsampled)\n",
    "    target_predicted = model.predict(features_valid)\n",
    "    f1 = f1_score(target_predicted, target_valid)\n",
    "    if(best_f1 < f1):\n",
    "        best_f1 = f1\n",
    "        best_param = depth\n",
    "        \n",
    "print('Лучший результат для DecisionTreeClassifier с гиперпараметром max_depth =', best_param)\n",
    "print('F1 метрика =', best_f1)"
   ]
  },
  {
   "cell_type": "code",
   "execution_count": 40,
   "metadata": {},
   "outputs": [
    {
     "name": "stdout",
     "output_type": "stream",
     "text": [
      "------- на тестовой выборке -------\n",
      "F1 метрика = 0.582210242587601\n",
      "AUC-ROC метрика = 0.7643243492721883\n"
     ]
    }
   ],
   "source": [
    "print('------- на тестовой выборке -------')\n",
    "model = DecisionTreeClassifier(max_depth=7, random_state=12345)\n",
    "model.fit(features_downsampled, target_downsampled)\n",
    "predicted_test = model.predict(features_test)\n",
    "f1 = f1_score(target_test,predicted_test)\n",
    "roc = roc_auc_score(target_test, predicted_test)\n",
    "print('F1 метрика =', f1)\n",
    "print('AUC-ROC метрика =', roc)"
   ]
  },
  {
   "cell_type": "markdown",
   "metadata": {},
   "source": [
    "#### Случайный лес"
   ]
  },
  {
   "cell_type": "markdown",
   "metadata": {},
   "source": [
    "Построим модель и сравним показатели метрики F1 для различных значений гиперпараметров в цикле. Лучший результат сохраним."
   ]
  },
  {
   "cell_type": "code",
   "execution_count": 41,
   "metadata": {},
   "outputs": [
    {
     "name": "stdout",
     "output_type": "stream",
     "text": [
      "Лучший результат для RandomForestClassifier с гиперпараметром max_depth = 12\n",
      "F1 метрика = 0.5585754451733833\n"
     ]
    }
   ],
   "source": [
    "best_param = 0\n",
    "best_f1 = 0\n",
    "\n",
    "for depth in range(2,20,1):\n",
    "    model = RandomForestClassifier(n_estimators=12, max_depth=depth, random_state=12345)\n",
    "    model.fit(features_downsampled, target_downsampled)\n",
    "    target_predicted = model.predict(features_valid)\n",
    "    f1 = f1_score(target_predicted, target_valid)\n",
    "    if(best_f1 < f1):\n",
    "        best_f1 = f1\n",
    "        best_param = depth\n",
    "        \n",
    "print('Лучший результат для RandomForestClassifier с гиперпараметром max_depth =', best_param)\n",
    "print('F1 метрика =', best_f1)"
   ]
  },
  {
   "cell_type": "code",
   "execution_count": 42,
   "metadata": {
    "scrolled": true
   },
   "outputs": [
    {
     "name": "stdout",
     "output_type": "stream",
     "text": [
      "Лучший результат для RandomForestClassifier с гиперпараметром n_estimators = 75\n",
      "F1 метрика = 0.5653436592449177\n"
     ]
    }
   ],
   "source": [
    "best_param = 0\n",
    "best_f1 = 0\n",
    "\n",
    "for n_est in range(5,90,5):\n",
    "    model = RandomForestClassifier(n_estimators=n_est, max_depth=12, random_state=12345)\n",
    "    model.fit(features_downsampled, target_downsampled)\n",
    "    target_predicted = model.predict(features_valid)\n",
    "    f1 = f1_score(target_predicted, target_valid)\n",
    "    if(best_f1 < f1):\n",
    "        best_f1 = f1\n",
    "        best_param = n_est\n",
    "        \n",
    "print('Лучший результат для RandomForestClassifier с гиперпараметром n_estimators =', best_param)\n",
    "print('F1 метрика =', best_f1)"
   ]
  },
  {
   "cell_type": "code",
   "execution_count": 43,
   "metadata": {},
   "outputs": [
    {
     "name": "stdout",
     "output_type": "stream",
     "text": [
      "------- на тестовой выборке -------\n",
      "F1 метрика = 0.600896860986547\n",
      "AUC-ROC метрика = 0.7800656869211265\n"
     ]
    }
   ],
   "source": [
    "print('------- на тестовой выборке -------')\n",
    "model = RandomForestClassifier(n_estimators=75, max_depth=12, random_state=12345)\n",
    "model.fit(features_downsampled, target_downsampled)\n",
    "predicted_test = model.predict(features_test)\n",
    "f1 = f1_score(target_test,predicted_test)\n",
    "roc = roc_auc_score(target_test, predicted_test)\n",
    "print('F1 метрика =', f1)\n",
    "print('AUC-ROC метрика =', roc)"
   ]
  },
  {
   "cell_type": "markdown",
   "metadata": {},
   "source": [
    "#### Логистическая регрессия"
   ]
  },
  {
   "cell_type": "markdown",
   "metadata": {},
   "source": [
    "Построим модель и сравним показатели метрики F1 для различных значений гиперпараметров в цикле. Лучший результат сохраним."
   ]
  },
  {
   "cell_type": "markdown",
   "metadata": {},
   "source": [
    "##### Без взвешивания классов"
   ]
  },
  {
   "cell_type": "code",
   "execution_count": 44,
   "metadata": {
    "scrolled": false
   },
   "outputs": [
    {
     "name": "stdout",
     "output_type": "stream",
     "text": [
      "Лучший результат для LogisticRegression с гиперпараметром solver = newton-cg\n",
      "F1 метрика = 0.47803163444639707\n"
     ]
    }
   ],
   "source": [
    "solvers = ['liblinear', 'newton-cg', 'sag', 'saga', 'lbfgs']\n",
    "\n",
    "best_param = 0\n",
    "best_f1 = 0\n",
    "\n",
    "for i in solvers:\n",
    "    model = LogisticRegression(solver=i, random_state=12345)\n",
    "    model.fit(features_downsampled, target_downsampled)\n",
    "    target_predicted = model.predict(features_valid)\n",
    "    f1 = f1_score(target_predicted, target_valid)\n",
    "    if(best_f1 < f1):\n",
    "        best_f1 = f1\n",
    "        best_param = i\n",
    "\n",
    "print('Лучший результат для LogisticRegression с гиперпараметром solver =', best_param)\n",
    "print('F1 метрика =', best_f1)"
   ]
  },
  {
   "cell_type": "code",
   "execution_count": 45,
   "metadata": {},
   "outputs": [
    {
     "name": "stdout",
     "output_type": "stream",
     "text": [
      "Лучший результат для LogisticRegression c порогом = 0.66\n",
      "F1 метрика = 0.4980842911877395\n",
      "AUC-ROC метрика = 0.7730540644933629\n",
      "------- на тестовой выборке -------\n",
      "F1 метрика = 0.48000000000000004\n",
      "AUC-ROC метрика = 0.7675990179715962\n"
     ]
    }
   ],
   "source": [
    "model = LogisticRegression(solver='liblinear', random_state=12345)\n",
    "model.fit(features_downsampled, target_downsampled)\n",
    "probabilities_valid = model.predict_proba(features_valid)\n",
    "probabilities_one_valid = probabilities_valid[:,1]\n",
    "\n",
    "best_param = 0\n",
    "best_f1 = 0\n",
    "best_roc = 0\n",
    "\n",
    "for threshold in np.arange(0.02, 1, 0.02):\n",
    "    predicted_valid = probabilities_one_valid>threshold\n",
    "    f1 = f1_score(target_valid,predicted_valid)\n",
    "    if(best_f1 < f1):\n",
    "        best_f1 = f1\n",
    "        best_roc = roc_auc_score(target_valid, probabilities_one_valid)\n",
    "        best_param = threshold\n",
    "\n",
    "print('Лучший результат для LogisticRegression c порогом =', '{:.2}'.format(best_param))\n",
    "print('F1 метрика =', best_f1)\n",
    "print('AUC-ROC метрика =', best_roc)\n",
    "print('------- на тестовой выборке -------')\n",
    "probabilities_test = model.predict_proba(features_test)\n",
    "probabilities_one_test = probabilities_test[:,1]\n",
    "predicted_test = probabilities_one_test>best_param\n",
    "f1 = f1_score(target_test,predicted_test)\n",
    "roc = roc_auc_score(target_test, probabilities_one_test)\n",
    "print('F1 метрика =', f1)\n",
    "print('AUC-ROC метрика =', roc)"
   ]
  },
  {
   "cell_type": "markdown",
   "metadata": {},
   "source": [
    "##### С взвешиванием классов"
   ]
  },
  {
   "cell_type": "code",
   "execution_count": 46,
   "metadata": {
    "scrolled": false
   },
   "outputs": [
    {
     "name": "stdout",
     "output_type": "stream",
     "text": [
      "Лучший результат для LogisticRegression с гиперпараметром solver = liblinear\n",
      "F1 метрика = 0.48078641644325293\n"
     ]
    }
   ],
   "source": [
    "solvers = ['liblinear', 'newton-cg', 'sag', 'saga', 'lbfgs']\n",
    "\n",
    "best_param = 0\n",
    "best_f1 = 0\n",
    "\n",
    "for i in solvers:\n",
    "    model = LogisticRegression(solver=i, random_state=12345, class_weight='balanced')\n",
    "    model.fit(features_downsampled, target_downsampled)\n",
    "    target_predicted = model.predict(features_valid)\n",
    "    f1 = f1_score(target_predicted, target_valid)\n",
    "    if(best_f1 < f1):\n",
    "        best_f1 = f1\n",
    "        best_param = i\n",
    "\n",
    "print('Лучший результат для LogisticRegression с гиперпараметром solver =', best_param)\n",
    "print('F1 метрика =', best_f1)"
   ]
  },
  {
   "cell_type": "code",
   "execution_count": 47,
   "metadata": {
    "scrolled": false
   },
   "outputs": [
    {
     "name": "stdout",
     "output_type": "stream",
     "text": [
      "Лучший результат для LogisticRegression c порогом = 0.66\n",
      "F1 метрика = 0.4987146529562982\n",
      "AUC-ROC метрика = 0.7730556540177613\n",
      "------- на тестовой выборке -------\n",
      "F1 метрика = 0.468187274909964\n",
      "AUC-ROC метрика = 0.7675335097093666\n"
     ]
    }
   ],
   "source": [
    "model = LogisticRegression(solver='liblinear', random_state=12345, class_weight='balanced')\n",
    "model.fit(features_downsampled, target_downsampled)\n",
    "probabilities_valid = model.predict_proba(features_valid)\n",
    "probabilities_one_valid = probabilities_valid[:,1]\n",
    "\n",
    "best_param = 0\n",
    "best_f1 = 0\n",
    "best_roc = 0\n",
    "\n",
    "for threshold in np.arange(0.02, 1, 0.02):\n",
    "    predicted_valid = probabilities_one_valid>threshold\n",
    "    f1 = f1_score(target_valid,predicted_valid)\n",
    "    if(best_f1 < f1):\n",
    "        best_f1 = f1\n",
    "        best_roc = roc_auc_score(target_valid, probabilities_one_valid)\n",
    "        best_param = threshold\n",
    "\n",
    "print('Лучший результат для LogisticRegression c порогом =', '{:.2}'.format(best_param))\n",
    "print('F1 метрика =', best_f1)\n",
    "print('AUC-ROC метрика =', best_roc)\n",
    "print('------- на тестовой выборке -------')\n",
    "probabilities_test = model.predict_proba(features_test)\n",
    "probabilities_one_test = probabilities_test[:,1]\n",
    "predicted_test = probabilities_one_test>best_param\n",
    "f1 = f1_score(target_test,predicted_test)\n",
    "roc = roc_auc_score(target_test, probabilities_one_test)\n",
    "print('F1 метрика =', f1)\n",
    "print('AUC-ROC метрика =', roc)"
   ]
  },
  {
   "cell_type": "markdown",
   "metadata": {},
   "source": [
    "### Выводы"
   ]
  },
  {
   "cell_type": "markdown",
   "metadata": {},
   "source": [
    "Сравним значения F1 метрики для оптимальных параметров каждого типа модели:"
   ]
  },
  {
   "cell_type": "code",
   "execution_count": 48,
   "metadata": {
    "scrolled": true
   },
   "outputs": [
    {
     "data": {
      "text/html": [
       "<div>\n",
       "<style scoped>\n",
       "    .dataframe tbody tr th:only-of-type {\n",
       "        vertical-align: middle;\n",
       "    }\n",
       "\n",
       "    .dataframe tbody tr th {\n",
       "        vertical-align: top;\n",
       "    }\n",
       "\n",
       "    .dataframe thead th {\n",
       "        text-align: right;\n",
       "    }\n",
       "</style>\n",
       "<table border=\"1\" class=\"dataframe\">\n",
       "  <thead>\n",
       "    <tr style=\"text-align: right;\">\n",
       "      <th></th>\n",
       "      <th>Без корректировки дисбаланса</th>\n",
       "      <th>С увеличением выборки</th>\n",
       "      <th>С уменьшением выборки</th>\n",
       "    </tr>\n",
       "  </thead>\n",
       "  <tbody>\n",
       "    <tr>\n",
       "      <td>Дерево решающих правил</td>\n",
       "      <td>0.564029</td>\n",
       "      <td>0.593385</td>\n",
       "      <td>0.582210</td>\n",
       "    </tr>\n",
       "    <tr>\n",
       "      <td>Случайный лес</td>\n",
       "      <td>0.578871</td>\n",
       "      <td>0.623853</td>\n",
       "      <td>0.600897</td>\n",
       "    </tr>\n",
       "    <tr>\n",
       "      <td>Логистическая регрессия без взвешивания классов</td>\n",
       "      <td>0.310881</td>\n",
       "      <td>0.478161</td>\n",
       "      <td>0.480000</td>\n",
       "    </tr>\n",
       "    <tr>\n",
       "      <td>Логистическая регрессия с взвешиванием классов</td>\n",
       "      <td>0.504202</td>\n",
       "      <td>0.497487</td>\n",
       "      <td>0.468187</td>\n",
       "    </tr>\n",
       "  </tbody>\n",
       "</table>\n",
       "</div>"
      ],
      "text/plain": [
       "                                                 Без корректировки дисбаланса  \\\n",
       "Дерево решающих правил                                               0.564029   \n",
       "Случайный лес                                                        0.578871   \n",
       "Логистическая регрессия без взвешивания классов                      0.310881   \n",
       "Логистическая регрессия с взвешиванием классов                       0.504202   \n",
       "\n",
       "                                                 С увеличением выборки  \\\n",
       "Дерево решающих правил                                        0.593385   \n",
       "Случайный лес                                                 0.623853   \n",
       "Логистическая регрессия без взвешивания классов               0.478161   \n",
       "Логистическая регрессия с взвешиванием классов                0.497487   \n",
       "\n",
       "                                                 С уменьшением выборки  \n",
       "Дерево решающих правил                                        0.582210  \n",
       "Случайный лес                                                 0.600897  \n",
       "Логистическая регрессия без взвешивания классов               0.480000  \n",
       "Логистическая регрессия с взвешиванием классов                0.468187  "
      ]
     },
     "execution_count": 48,
     "metadata": {},
     "output_type": "execute_result"
    }
   ],
   "source": [
    "total_results = pd.DataFrame(columns=['Без корректировки дисбаланса','С увеличением выборки','С уменьшением выборки'],\n",
    "                             index=['Дерево решающих правил','Случайный лес',\n",
    "                                      'Логистическая регрессия без взвешивания классов',\n",
    "                                      'Логистическая регрессия с взвешиванием классов'],\n",
    "                             data=[[0.5640287769784172,0.5933852140077821,0.582210242587601],\n",
    "                                   [0.5788712011577424,0.6238532110091742,0.600896860986547],\n",
    "                                   [0.31088082901554404,0.4781609195402299,0.48000000000000004],\n",
    "                                   [0.5042016806722689,0.49748743718592964,0.468187274909964]])\n",
    "\n",
    "total_results"
   ]
  },
  {
   "cell_type": "markdown",
   "metadata": {},
   "source": [
    "Сравним значения AUC-ROC метрики для оптимальных параметров каждого типа модели:"
   ]
  },
  {
   "cell_type": "code",
   "execution_count": 49,
   "metadata": {},
   "outputs": [
    {
     "data": {
      "text/html": [
       "<div>\n",
       "<style scoped>\n",
       "    .dataframe tbody tr th:only-of-type {\n",
       "        vertical-align: middle;\n",
       "    }\n",
       "\n",
       "    .dataframe tbody tr th {\n",
       "        vertical-align: top;\n",
       "    }\n",
       "\n",
       "    .dataframe thead th {\n",
       "        text-align: right;\n",
       "    }\n",
       "</style>\n",
       "<table border=\"1\" class=\"dataframe\">\n",
       "  <thead>\n",
       "    <tr style=\"text-align: right;\">\n",
       "      <th></th>\n",
       "      <th>Без корректировки дисбаланса</th>\n",
       "      <th>С увеличением выборки</th>\n",
       "      <th>С уменьшением выборки</th>\n",
       "    </tr>\n",
       "  </thead>\n",
       "  <tbody>\n",
       "    <tr>\n",
       "      <td>Дерево решающих правил</td>\n",
       "      <td>0.706622</td>\n",
       "      <td>0.763055</td>\n",
       "      <td>0.764324</td>\n",
       "    </tr>\n",
       "    <tr>\n",
       "      <td>Случайный лес</td>\n",
       "      <td>0.713849</td>\n",
       "      <td>0.763511</td>\n",
       "      <td>0.780066</td>\n",
       "    </tr>\n",
       "    <tr>\n",
       "      <td>Логистическая регрессия без взвешивания классов</td>\n",
       "      <td>0.585679</td>\n",
       "      <td>0.765677</td>\n",
       "      <td>0.767599</td>\n",
       "    </tr>\n",
       "    <tr>\n",
       "      <td>Логистическая регрессия с взвешиванием классов</td>\n",
       "      <td>0.704117</td>\n",
       "      <td>0.771598</td>\n",
       "      <td>0.767534</td>\n",
       "    </tr>\n",
       "  </tbody>\n",
       "</table>\n",
       "</div>"
      ],
      "text/plain": [
       "                                                 Без корректировки дисбаланса  \\\n",
       "Дерево решающих правил                                               0.706622   \n",
       "Случайный лес                                                        0.713849   \n",
       "Логистическая регрессия без взвешивания классов                      0.585679   \n",
       "Логистическая регрессия с взвешиванием классов                       0.704117   \n",
       "\n",
       "                                                 С увеличением выборки  \\\n",
       "Дерево решающих правил                                        0.763055   \n",
       "Случайный лес                                                 0.763511   \n",
       "Логистическая регрессия без взвешивания классов               0.765677   \n",
       "Логистическая регрессия с взвешиванием классов                0.771598   \n",
       "\n",
       "                                                 С уменьшением выборки  \n",
       "Дерево решающих правил                                        0.764324  \n",
       "Случайный лес                                                 0.780066  \n",
       "Логистическая регрессия без взвешивания классов               0.767599  \n",
       "Логистическая регрессия с взвешиванием классов                0.767534  "
      ]
     },
     "execution_count": 49,
     "metadata": {},
     "output_type": "execute_result"
    }
   ],
   "source": [
    "total_results = pd.DataFrame(columns=['Без корректировки дисбаланса','С увеличением выборки','С уменьшением выборки'],\n",
    "                             index=['Дерево решающих правил','Случайный лес',\n",
    "                                      'Логистическая регрессия без взвешивания классов',\n",
    "                                      'Логистическая регрессия с взвешиванием классов'],\n",
    "                             data=[[0.706621992016925,0.7630551266914903,0.7643243492721883],\n",
    "                                   [0.7138487444001602,0.7635107068788142,0.7800656869211265],\n",
    "                                   [0.585678851699716,0.765676946004815,0.7675990179715962],\n",
    "                                   [0.7041170453987146,0.7715980601444242,0.7675335097093666]])\n",
    "\n",
    "total_results"
   ]
  },
  {
   "cell_type": "markdown",
   "metadata": {},
   "source": [
    "Сравнив итоговые показатели метрики F1 можно уверенно выбирать лушую модель: Случайный лес с гиперпараметрами деревьев - 50, максимальная глубина - 12 при учете корректировки дисбаланса классов. Полученный результат позволит прогнозировать расторжение договора с клиентом и вовремя принимать бизнес-решения, такие как стимулирующие акции для подобных клиентов или проведение опроса с целью установки причин недовольства.\n",
    "\n",
    "Метрика AUC-ROC показывает хорошие результаты для большинства методов, сильно уступая для модели логистической регрессии без корректировки дисбаланса классов и без взвешивания классов, но даже в этом случае она лучше чем при примитивной классификации. По оценке AUC-ROC метрики лучшая модель - случайный лес при уменьшении выборки и с гиперпараметрами максимальная глубина - 12 и деревьев - 75."
   ]
  }
 ],
 "metadata": {
  "ExecuteTimeLog": [
   {
    "duration": 555,
    "start_time": "2021-10-30T17:29:50.250Z"
   },
   {
    "duration": 792,
    "start_time": "2021-10-30T17:29:52.046Z"
   },
   {
    "duration": 12,
    "start_time": "2021-10-30T17:29:52.841Z"
   },
   {
    "duration": 31,
    "start_time": "2021-10-30T17:34:12.329Z"
   },
   {
    "duration": 21,
    "start_time": "2021-10-30T17:35:30.494Z"
   },
   {
    "duration": 6,
    "start_time": "2021-10-30T17:36:50.001Z"
   },
   {
    "duration": 6,
    "start_time": "2021-10-30T17:38:23.807Z"
   },
   {
    "duration": 39,
    "start_time": "2021-10-30T17:39:19.305Z"
   },
   {
    "duration": 11,
    "start_time": "2021-10-30T17:39:20.023Z"
   },
   {
    "duration": 38,
    "start_time": "2021-10-30T17:39:26.093Z"
   },
   {
    "duration": 12,
    "start_time": "2021-10-30T17:39:28.235Z"
   },
   {
    "duration": 19,
    "start_time": "2021-10-30T17:39:41.169Z"
   },
   {
    "duration": 7,
    "start_time": "2021-10-30T17:39:55.505Z"
   },
   {
    "duration": 6,
    "start_time": "2021-10-30T17:39:56.346Z"
   },
   {
    "duration": 7,
    "start_time": "2021-10-30T17:42:05.750Z"
   },
   {
    "duration": 7,
    "start_time": "2021-10-30T17:42:11.257Z"
   },
   {
    "duration": 7,
    "start_time": "2021-10-30T17:42:20.149Z"
   },
   {
    "duration": 12,
    "start_time": "2021-10-30T17:42:33.670Z"
   },
   {
    "duration": 422,
    "start_time": "2021-10-30T17:47:05.567Z"
   },
   {
    "duration": 21,
    "start_time": "2021-10-30T17:47:26.826Z"
   },
   {
    "duration": 47,
    "start_time": "2021-10-30T17:48:30.535Z"
   },
   {
    "duration": 38,
    "start_time": "2021-10-30T17:51:44.127Z"
   },
   {
    "duration": 33,
    "start_time": "2021-10-30T17:51:50.357Z"
   },
   {
    "duration": 33,
    "start_time": "2021-10-30T17:52:21.622Z"
   },
   {
    "duration": 764,
    "start_time": "2021-10-30T17:52:39.248Z"
   },
   {
    "duration": 12,
    "start_time": "2021-10-30T17:52:40.015Z"
   },
   {
    "duration": 29,
    "start_time": "2021-10-30T17:52:40.030Z"
   },
   {
    "duration": 6,
    "start_time": "2021-10-30T17:52:40.062Z"
   },
   {
    "duration": 8,
    "start_time": "2021-10-30T17:52:40.099Z"
   },
   {
    "duration": 8,
    "start_time": "2021-10-30T17:52:40.110Z"
   },
   {
    "duration": 11,
    "start_time": "2021-10-30T17:52:40.121Z"
   },
   {
    "duration": 19,
    "start_time": "2021-10-30T17:52:40.135Z"
   },
   {
    "duration": 78,
    "start_time": "2021-10-30T17:52:40.156Z"
   },
   {
    "duration": 562,
    "start_time": "2021-10-30T17:55:52.625Z"
   },
   {
    "duration": 29,
    "start_time": "2021-10-30T17:57:14.597Z"
   },
   {
    "duration": 499,
    "start_time": "2021-10-30T17:57:23.327Z"
   },
   {
    "duration": 778,
    "start_time": "2021-10-30T17:58:27.344Z"
   },
   {
    "duration": 12,
    "start_time": "2021-10-30T17:58:28.125Z"
   },
   {
    "duration": 30,
    "start_time": "2021-10-30T17:58:28.142Z"
   },
   {
    "duration": 6,
    "start_time": "2021-10-30T17:58:28.202Z"
   },
   {
    "duration": 8,
    "start_time": "2021-10-30T17:58:28.211Z"
   },
   {
    "duration": 6,
    "start_time": "2021-10-30T17:58:28.222Z"
   },
   {
    "duration": 14,
    "start_time": "2021-10-30T17:58:28.231Z"
   },
   {
    "duration": 68,
    "start_time": "2021-10-30T17:58:28.250Z"
   },
   {
    "duration": 37,
    "start_time": "2021-10-30T17:58:28.321Z"
   },
   {
    "duration": 659,
    "start_time": "2021-10-30T17:58:28.361Z"
   },
   {
    "duration": 575,
    "start_time": "2021-10-30T18:02:58.490Z"
   },
   {
    "duration": 6,
    "start_time": "2021-10-30T18:03:18.827Z"
   },
   {
    "duration": 26,
    "start_time": "2021-10-30T18:03:21.577Z"
   },
   {
    "duration": 7,
    "start_time": "2021-10-30T18:03:38.821Z"
   },
   {
    "duration": 12,
    "start_time": "2021-10-30T18:05:16.736Z"
   },
   {
    "duration": 28,
    "start_time": "2021-10-30T19:33:38.560Z"
   },
   {
    "duration": 16,
    "start_time": "2021-10-30T19:38:12.931Z"
   },
   {
    "duration": 18,
    "start_time": "2021-10-30T19:38:16.953Z"
   },
   {
    "duration": 13,
    "start_time": "2021-10-30T19:38:38.054Z"
   },
   {
    "duration": 21,
    "start_time": "2021-10-30T19:40:41.798Z"
   },
   {
    "duration": 434,
    "start_time": "2021-10-30T19:40:57.554Z"
   },
   {
    "duration": 813,
    "start_time": "2021-10-30T19:41:03.359Z"
   },
   {
    "duration": 12,
    "start_time": "2021-10-30T19:41:04.175Z"
   },
   {
    "duration": 30,
    "start_time": "2021-10-30T19:41:04.190Z"
   },
   {
    "duration": 5,
    "start_time": "2021-10-30T19:41:04.223Z"
   },
   {
    "duration": 19,
    "start_time": "2021-10-30T19:41:04.230Z"
   },
   {
    "duration": 49,
    "start_time": "2021-10-30T19:41:04.251Z"
   },
   {
    "duration": 450,
    "start_time": "2021-10-30T19:41:04.303Z"
   },
   {
    "duration": -64,
    "start_time": "2021-10-30T19:41:04.821Z"
   },
   {
    "duration": -65,
    "start_time": "2021-10-30T19:41:04.824Z"
   },
   {
    "duration": -65,
    "start_time": "2021-10-30T19:41:04.826Z"
   },
   {
    "duration": -65,
    "start_time": "2021-10-30T19:41:04.828Z"
   },
   {
    "duration": -67,
    "start_time": "2021-10-30T19:41:04.833Z"
   },
   {
    "duration": -70,
    "start_time": "2021-10-30T19:41:04.838Z"
   },
   {
    "duration": -71,
    "start_time": "2021-10-30T19:41:04.841Z"
   },
   {
    "duration": -70,
    "start_time": "2021-10-30T19:41:04.843Z"
   },
   {
    "duration": 29,
    "start_time": "2021-10-30T19:42:48.287Z"
   },
   {
    "duration": 1829,
    "start_time": "2021-10-30T19:43:54.968Z"
   },
   {
    "duration": 53,
    "start_time": "2021-10-30T19:44:05.484Z"
   },
   {
    "duration": 45,
    "start_time": "2021-10-30T19:44:10.627Z"
   },
   {
    "duration": 47,
    "start_time": "2021-10-30T19:44:56.044Z"
   },
   {
    "duration": 46,
    "start_time": "2021-10-30T19:45:55.710Z"
   },
   {
    "duration": 46,
    "start_time": "2021-10-30T19:46:10.243Z"
   },
   {
    "duration": 424,
    "start_time": "2021-10-30T19:46:52.853Z"
   },
   {
    "duration": 36,
    "start_time": "2021-10-30T19:47:59.918Z"
   },
   {
    "duration": 120,
    "start_time": "2021-10-30T19:48:02.375Z"
   },
   {
    "duration": 601,
    "start_time": "2021-10-30T19:48:05.341Z"
   },
   {
    "duration": 1452,
    "start_time": "2021-10-30T19:48:09.886Z"
   },
   {
    "duration": 38,
    "start_time": "2021-10-30T19:48:11.341Z"
   },
   {
    "duration": 13,
    "start_time": "2021-10-30T19:48:11.382Z"
   },
   {
    "duration": 31,
    "start_time": "2021-10-30T19:48:11.402Z"
   },
   {
    "duration": 6,
    "start_time": "2021-10-30T19:48:11.435Z"
   },
   {
    "duration": 31,
    "start_time": "2021-10-30T19:48:11.443Z"
   },
   {
    "duration": 40,
    "start_time": "2021-10-30T19:48:11.476Z"
   },
   {
    "duration": 46,
    "start_time": "2021-10-30T19:48:11.518Z"
   },
   {
    "duration": 441,
    "start_time": "2021-10-30T19:48:11.567Z"
   },
   {
    "duration": 493,
    "start_time": "2021-10-30T19:48:12.011Z"
   },
   {
    "duration": -137,
    "start_time": "2021-10-30T19:48:12.643Z"
   },
   {
    "duration": -137,
    "start_time": "2021-10-30T19:48:12.645Z"
   },
   {
    "duration": -138,
    "start_time": "2021-10-30T19:48:12.647Z"
   },
   {
    "duration": -142,
    "start_time": "2021-10-30T19:48:12.652Z"
   },
   {
    "duration": -151,
    "start_time": "2021-10-30T19:48:12.663Z"
   },
   {
    "duration": -153,
    "start_time": "2021-10-30T19:48:12.666Z"
   },
   {
    "duration": -155,
    "start_time": "2021-10-30T19:48:12.669Z"
   },
   {
    "duration": 379,
    "start_time": "2021-10-30T19:48:33.053Z"
   },
   {
    "duration": 398,
    "start_time": "2021-10-30T19:48:37.603Z"
   },
   {
    "duration": 505,
    "start_time": "2021-10-30T19:48:50.658Z"
   },
   {
    "duration": 1865,
    "start_time": "2021-10-30T19:48:54.103Z"
   },
   {
    "duration": 648,
    "start_time": "2021-10-30T19:49:06.920Z"
   },
   {
    "duration": 445,
    "start_time": "2021-10-30T19:49:14.465Z"
   },
   {
    "duration": 459,
    "start_time": "2021-10-30T19:49:35.502Z"
   },
   {
    "duration": 8,
    "start_time": "2021-10-30T19:54:15.501Z"
   },
   {
    "duration": 302,
    "start_time": "2021-10-30T19:54:32.489Z"
   },
   {
    "duration": 1364,
    "start_time": "2021-10-30T19:57:01.142Z"
   },
   {
    "duration": 40,
    "start_time": "2021-10-30T19:57:02.509Z"
   },
   {
    "duration": 11,
    "start_time": "2021-10-30T19:57:02.552Z"
   },
   {
    "duration": 48,
    "start_time": "2021-10-30T19:57:02.566Z"
   },
   {
    "duration": 5,
    "start_time": "2021-10-30T19:57:02.616Z"
   },
   {
    "duration": 19,
    "start_time": "2021-10-30T19:57:02.623Z"
   },
   {
    "duration": 21,
    "start_time": "2021-10-30T19:57:02.644Z"
   },
   {
    "duration": 518,
    "start_time": "2021-10-30T19:57:02.670Z"
   },
   {
    "duration": 54,
    "start_time": "2021-10-30T19:57:03.191Z"
   },
   {
    "duration": 480,
    "start_time": "2021-10-30T19:57:03.248Z"
   },
   {
    "duration": 493,
    "start_time": "2021-10-30T19:57:03.731Z"
   },
   {
    "duration": -80,
    "start_time": "2021-10-30T19:57:04.306Z"
   },
   {
    "duration": -81,
    "start_time": "2021-10-30T19:57:04.309Z"
   },
   {
    "duration": -81,
    "start_time": "2021-10-30T19:57:04.311Z"
   },
   {
    "duration": -84,
    "start_time": "2021-10-30T19:57:04.315Z"
   },
   {
    "duration": -88,
    "start_time": "2021-10-30T19:57:04.320Z"
   },
   {
    "duration": -87,
    "start_time": "2021-10-30T19:57:04.321Z"
   },
   {
    "duration": -88,
    "start_time": "2021-10-30T19:57:04.323Z"
   },
   {
    "duration": 336,
    "start_time": "2021-10-30T19:57:33.879Z"
   },
   {
    "duration": 366,
    "start_time": "2021-10-30T19:57:48.578Z"
   },
   {
    "duration": 353,
    "start_time": "2021-10-30T19:58:05.744Z"
   },
   {
    "duration": 362,
    "start_time": "2021-10-30T19:59:02.465Z"
   },
   {
    "duration": 351,
    "start_time": "2021-10-30T19:59:05.763Z"
   },
   {
    "duration": 362,
    "start_time": "2021-10-30T19:59:13.672Z"
   },
   {
    "duration": 357,
    "start_time": "2021-10-30T19:59:21.158Z"
   },
   {
    "duration": 350,
    "start_time": "2021-10-30T19:59:27.298Z"
   },
   {
    "duration": 343,
    "start_time": "2021-10-30T19:59:36.232Z"
   },
   {
    "duration": 350,
    "start_time": "2021-10-30T19:59:40.062Z"
   },
   {
    "duration": 363,
    "start_time": "2021-10-30T19:59:44.482Z"
   },
   {
    "duration": 759,
    "start_time": "2021-10-30T20:01:01.681Z"
   },
   {
    "duration": 416,
    "start_time": "2021-10-30T20:01:05.653Z"
   },
   {
    "duration": 340,
    "start_time": "2021-10-30T20:01:15.841Z"
   },
   {
    "duration": 355,
    "start_time": "2021-10-30T20:02:02.197Z"
   },
   {
    "duration": 355,
    "start_time": "2021-10-30T20:02:24.600Z"
   },
   {
    "duration": 10,
    "start_time": "2021-10-30T20:03:36.098Z"
   },
   {
    "duration": 308,
    "start_time": "2021-10-30T20:03:44.939Z"
   },
   {
    "duration": 1415,
    "start_time": "2021-10-31T06:11:12.597Z"
   },
   {
    "duration": 48,
    "start_time": "2021-10-31T06:11:14.015Z"
   },
   {
    "duration": 17,
    "start_time": "2021-10-31T06:11:14.067Z"
   },
   {
    "duration": 44,
    "start_time": "2021-10-31T06:11:14.087Z"
   },
   {
    "duration": 7,
    "start_time": "2021-10-31T06:11:14.133Z"
   },
   {
    "duration": 22,
    "start_time": "2021-10-31T06:11:14.142Z"
   },
   {
    "duration": 49,
    "start_time": "2021-10-31T06:11:14.166Z"
   },
   {
    "duration": 480,
    "start_time": "2021-10-31T06:11:14.219Z"
   },
   {
    "duration": 324,
    "start_time": "2021-10-31T06:11:14.701Z"
   },
   {
    "duration": 45,
    "start_time": "2021-10-31T06:11:15.028Z"
   },
   {
    "duration": 482,
    "start_time": "2021-10-31T06:11:15.076Z"
   },
   {
    "duration": 755,
    "start_time": "2021-10-31T06:11:15.561Z"
   },
   {
    "duration": -47,
    "start_time": "2021-10-31T06:11:16.366Z"
   },
   {
    "duration": -48,
    "start_time": "2021-10-31T06:11:16.369Z"
   },
   {
    "duration": -49,
    "start_time": "2021-10-31T06:11:16.372Z"
   },
   {
    "duration": -60,
    "start_time": "2021-10-31T06:11:16.385Z"
   },
   {
    "duration": -63,
    "start_time": "2021-10-31T06:11:16.390Z"
   },
   {
    "duration": -68,
    "start_time": "2021-10-31T06:11:16.397Z"
   },
   {
    "duration": -70,
    "start_time": "2021-10-31T06:11:16.400Z"
   },
   {
    "duration": 362,
    "start_time": "2021-10-31T06:13:19.702Z"
   },
   {
    "duration": 276,
    "start_time": "2021-10-31T06:13:48.505Z"
   },
   {
    "duration": 278,
    "start_time": "2021-10-31T06:14:02.025Z"
   },
   {
    "duration": 40,
    "start_time": "2021-10-31T06:24:15.435Z"
   },
   {
    "duration": 2002,
    "start_time": "2021-10-31T06:27:37.055Z"
   },
   {
    "duration": 40,
    "start_time": "2021-10-31T06:28:46.265Z"
   },
   {
    "duration": 298,
    "start_time": "2021-10-31T06:35:57.875Z"
   },
   {
    "duration": 299,
    "start_time": "2021-10-31T06:36:17.730Z"
   },
   {
    "duration": 279,
    "start_time": "2021-10-31T06:36:27.973Z"
   },
   {
    "duration": 272,
    "start_time": "2021-10-31T06:36:32.459Z"
   },
   {
    "duration": 11,
    "start_time": "2021-10-31T06:37:29.921Z"
   },
   {
    "duration": 447,
    "start_time": "2021-10-31T06:38:04.870Z"
   },
   {
    "duration": 1525,
    "start_time": "2021-10-31T06:38:25.280Z"
   },
   {
    "duration": 38,
    "start_time": "2021-10-31T06:38:26.807Z"
   },
   {
    "duration": 12,
    "start_time": "2021-10-31T06:38:26.848Z"
   },
   {
    "duration": 46,
    "start_time": "2021-10-31T06:38:26.864Z"
   },
   {
    "duration": 5,
    "start_time": "2021-10-31T06:38:26.913Z"
   },
   {
    "duration": 18,
    "start_time": "2021-10-31T06:38:26.920Z"
   },
   {
    "duration": 22,
    "start_time": "2021-10-31T06:38:26.941Z"
   },
   {
    "duration": 40,
    "start_time": "2021-10-31T06:38:27.003Z"
   },
   {
    "duration": 490,
    "start_time": "2021-10-31T06:38:27.046Z"
   },
   {
    "duration": 316,
    "start_time": "2021-10-31T06:38:27.539Z"
   },
   {
    "duration": 57,
    "start_time": "2021-10-31T06:38:27.857Z"
   },
   {
    "duration": 484,
    "start_time": "2021-10-31T06:38:27.916Z"
   },
   {
    "duration": 904,
    "start_time": "2021-10-31T06:38:28.403Z"
   },
   {
    "duration": -15,
    "start_time": "2021-10-31T06:38:29.324Z"
   },
   {
    "duration": -15,
    "start_time": "2021-10-31T06:38:29.326Z"
   },
   {
    "duration": -16,
    "start_time": "2021-10-31T06:38:29.328Z"
   },
   {
    "duration": -18,
    "start_time": "2021-10-31T06:38:29.331Z"
   },
   {
    "duration": -21,
    "start_time": "2021-10-31T06:38:29.336Z"
   },
   {
    "duration": 22,
    "start_time": "2021-10-31T06:38:32.368Z"
   },
   {
    "duration": 35,
    "start_time": "2021-10-31T06:38:33.881Z"
   },
   {
    "duration": 12,
    "start_time": "2021-10-31T06:39:04.160Z"
   },
   {
    "duration": 6,
    "start_time": "2021-10-31T06:39:18.184Z"
   },
   {
    "duration": 27,
    "start_time": "2021-10-31T06:39:27.981Z"
   },
   {
    "duration": 21077,
    "start_time": "2021-10-31T06:40:06.606Z"
   },
   {
    "duration": 1576,
    "start_time": "2021-10-31T06:40:33.688Z"
   },
   {
    "duration": 41,
    "start_time": "2021-10-31T06:40:35.267Z"
   },
   {
    "duration": 14,
    "start_time": "2021-10-31T06:40:35.312Z"
   },
   {
    "duration": 31,
    "start_time": "2021-10-31T06:40:35.329Z"
   },
   {
    "duration": 43,
    "start_time": "2021-10-31T06:40:35.362Z"
   },
   {
    "duration": 19,
    "start_time": "2021-10-31T06:40:35.407Z"
   },
   {
    "duration": 21,
    "start_time": "2021-10-31T06:40:35.428Z"
   },
   {
    "duration": 74,
    "start_time": "2021-10-31T06:40:35.453Z"
   },
   {
    "duration": 485,
    "start_time": "2021-10-31T06:40:35.530Z"
   },
   {
    "duration": 306,
    "start_time": "2021-10-31T06:40:36.018Z"
   },
   {
    "duration": 53,
    "start_time": "2021-10-31T06:40:36.327Z"
   },
   {
    "duration": 563,
    "start_time": "2021-10-31T06:40:36.383Z"
   },
   {
    "duration": 14,
    "start_time": "2021-10-31T06:40:36.949Z"
   },
   {
    "duration": 36,
    "start_time": "2021-10-31T06:40:36.966Z"
   },
   {
    "duration": 35,
    "start_time": "2021-10-31T06:40:37.005Z"
   },
   {
    "duration": 7,
    "start_time": "2021-10-31T06:40:37.042Z"
   },
   {
    "duration": 64,
    "start_time": "2021-10-31T06:40:37.051Z"
   },
   {
    "duration": 37,
    "start_time": "2021-10-31T06:46:47.338Z"
   },
   {
    "duration": 1527,
    "start_time": "2021-10-31T06:47:00.500Z"
   },
   {
    "duration": 40,
    "start_time": "2021-10-31T06:47:02.029Z"
   },
   {
    "duration": 144,
    "start_time": "2021-10-31T06:47:02.072Z"
   },
   {
    "duration": 146,
    "start_time": "2021-10-31T06:47:02.219Z"
   },
   {
    "duration": 156,
    "start_time": "2021-10-31T06:47:02.368Z"
   },
   {
    "duration": 122,
    "start_time": "2021-10-31T06:47:02.526Z"
   },
   {
    "duration": 16,
    "start_time": "2021-10-31T06:47:02.711Z"
   },
   {
    "duration": 143,
    "start_time": "2021-10-31T06:47:02.729Z"
   },
   {
    "duration": 54,
    "start_time": "2021-10-31T06:47:02.876Z"
   },
   {
    "duration": 486,
    "start_time": "2021-10-31T06:47:02.933Z"
   },
   {
    "duration": 326,
    "start_time": "2021-10-31T06:47:03.422Z"
   },
   {
    "duration": 484,
    "start_time": "2021-10-31T06:47:03.751Z"
   },
   {
    "duration": 12,
    "start_time": "2021-10-31T06:47:04.237Z"
   },
   {
    "duration": 33,
    "start_time": "2021-10-31T06:47:04.253Z"
   },
   {
    "duration": 38,
    "start_time": "2021-10-31T06:47:04.300Z"
   },
   {
    "duration": 21,
    "start_time": "2021-10-31T06:47:04.340Z"
   },
   {
    "duration": 39,
    "start_time": "2021-10-31T06:47:04.364Z"
   },
   {
    "duration": 37,
    "start_time": "2021-10-31T06:53:10.309Z"
   },
   {
    "duration": 36,
    "start_time": "2021-10-31T06:53:31.044Z"
   },
   {
    "duration": 1320,
    "start_time": "2021-10-31T06:54:04.093Z"
   },
   {
    "duration": 42,
    "start_time": "2021-10-31T06:54:05.416Z"
   },
   {
    "duration": 14,
    "start_time": "2021-10-31T06:54:05.461Z"
   },
   {
    "duration": 43,
    "start_time": "2021-10-31T06:54:05.478Z"
   },
   {
    "duration": 5,
    "start_time": "2021-10-31T06:54:05.523Z"
   },
   {
    "duration": 71,
    "start_time": "2021-10-31T06:54:05.531Z"
   },
   {
    "duration": 15,
    "start_time": "2021-10-31T06:54:05.604Z"
   },
   {
    "duration": 21,
    "start_time": "2021-10-31T06:54:05.622Z"
   },
   {
    "duration": 70,
    "start_time": "2021-10-31T06:54:05.645Z"
   },
   {
    "duration": 483,
    "start_time": "2021-10-31T06:54:05.717Z"
   },
   {
    "duration": 304,
    "start_time": "2021-10-31T06:54:06.203Z"
   },
   {
    "duration": 478,
    "start_time": "2021-10-31T06:54:06.509Z"
   },
   {
    "duration": 17,
    "start_time": "2021-10-31T06:54:06.990Z"
   },
   {
    "duration": 23,
    "start_time": "2021-10-31T06:54:07.010Z"
   },
   {
    "duration": 34,
    "start_time": "2021-10-31T06:54:07.036Z"
   },
   {
    "duration": 8,
    "start_time": "2021-10-31T06:54:07.101Z"
   },
   {
    "duration": 29,
    "start_time": "2021-10-31T06:54:07.112Z"
   },
   {
    "duration": 1344,
    "start_time": "2021-10-31T07:03:13.570Z"
   },
   {
    "duration": 38,
    "start_time": "2021-10-31T07:03:14.917Z"
   },
   {
    "duration": 12,
    "start_time": "2021-10-31T07:03:14.961Z"
   },
   {
    "duration": 51,
    "start_time": "2021-10-31T07:03:14.975Z"
   },
   {
    "duration": 16,
    "start_time": "2021-10-31T07:03:15.029Z"
   },
   {
    "duration": 69,
    "start_time": "2021-10-31T07:03:15.047Z"
   },
   {
    "duration": 16,
    "start_time": "2021-10-31T07:03:15.120Z"
   },
   {
    "duration": 21,
    "start_time": "2021-10-31T07:03:15.138Z"
   },
   {
    "duration": 67,
    "start_time": "2021-10-31T07:03:15.162Z"
   },
   {
    "duration": 472,
    "start_time": "2021-10-31T07:03:15.232Z"
   },
   {
    "duration": 317,
    "start_time": "2021-10-31T07:03:15.706Z"
   },
   {
    "duration": 478,
    "start_time": "2021-10-31T07:03:16.025Z"
   },
   {
    "duration": 12,
    "start_time": "2021-10-31T07:03:16.505Z"
   },
   {
    "duration": 26,
    "start_time": "2021-10-31T07:03:16.520Z"
   },
   {
    "duration": 9,
    "start_time": "2021-10-31T07:03:16.549Z"
   },
   {
    "duration": 1862,
    "start_time": "2021-10-31T07:03:59.149Z"
   },
   {
    "duration": 39,
    "start_time": "2021-10-31T07:04:01.014Z"
   },
   {
    "duration": 12,
    "start_time": "2021-10-31T07:04:01.056Z"
   },
   {
    "duration": 42,
    "start_time": "2021-10-31T07:04:01.070Z"
   },
   {
    "duration": 5,
    "start_time": "2021-10-31T07:04:01.114Z"
   },
   {
    "duration": 51,
    "start_time": "2021-10-31T07:04:01.121Z"
   },
   {
    "duration": 39,
    "start_time": "2021-10-31T07:04:01.174Z"
   },
   {
    "duration": 23,
    "start_time": "2021-10-31T07:04:01.217Z"
   },
   {
    "duration": 66,
    "start_time": "2021-10-31T07:04:01.242Z"
   },
   {
    "duration": 471,
    "start_time": "2021-10-31T07:04:01.310Z"
   },
   {
    "duration": 325,
    "start_time": "2021-10-31T07:04:01.784Z"
   },
   {
    "duration": 491,
    "start_time": "2021-10-31T07:04:02.112Z"
   },
   {
    "duration": 12,
    "start_time": "2021-10-31T07:04:02.605Z"
   },
   {
    "duration": 21,
    "start_time": "2021-10-31T07:04:02.620Z"
   },
   {
    "duration": 12,
    "start_time": "2021-10-31T07:04:02.643Z"
   },
   {
    "duration": 312,
    "start_time": "2021-10-31T07:04:02.657Z"
   },
   {
    "duration": 6,
    "start_time": "2021-10-31T07:04:02.971Z"
   },
   {
    "duration": 48,
    "start_time": "2021-10-31T07:04:02.979Z"
   },
   {
    "duration": 486,
    "start_time": "2021-10-31T07:04:03.029Z"
   },
   {
    "duration": 4,
    "start_time": "2021-10-31T07:04:05.948Z"
   },
   {
    "duration": 288,
    "start_time": "2021-10-31T07:04:22.194Z"
   },
   {
    "duration": 8,
    "start_time": "2021-10-31T07:04:37.933Z"
   },
   {
    "duration": 8,
    "start_time": "2021-10-31T07:04:44.988Z"
   },
   {
    "duration": 8,
    "start_time": "2021-10-31T07:04:46.805Z"
   },
   {
    "duration": 8,
    "start_time": "2021-10-31T07:05:03.616Z"
   },
   {
    "duration": 8,
    "start_time": "2021-10-31T07:05:26.630Z"
   },
   {
    "duration": 6,
    "start_time": "2021-10-31T07:05:35.776Z"
   },
   {
    "duration": 7,
    "start_time": "2021-10-31T07:05:42.982Z"
   },
   {
    "duration": 6,
    "start_time": "2021-10-31T07:06:03.724Z"
   },
   {
    "duration": 53,
    "start_time": "2021-10-31T07:10:30.506Z"
   },
   {
    "duration": 4,
    "start_time": "2021-10-31T07:25:25.699Z"
   },
   {
    "duration": 4,
    "start_time": "2021-10-31T07:26:13.378Z"
   },
   {
    "duration": 4,
    "start_time": "2021-10-31T07:28:00.097Z"
   },
   {
    "duration": 4,
    "start_time": "2021-10-31T07:28:06.363Z"
   },
   {
    "duration": 37,
    "start_time": "2021-10-31T07:30:28.047Z"
   },
   {
    "duration": 375,
    "start_time": "2021-10-31T07:31:02.555Z"
   },
   {
    "duration": 8,
    "start_time": "2021-10-31T07:31:25.079Z"
   },
   {
    "duration": 4,
    "start_time": "2021-10-31T07:32:27.216Z"
   },
   {
    "duration": 365,
    "start_time": "2021-10-31T07:34:13.716Z"
   },
   {
    "duration": 394,
    "start_time": "2021-10-31T07:34:40.442Z"
   },
   {
    "duration": 389,
    "start_time": "2021-10-31T07:34:43.370Z"
   },
   {
    "duration": 378,
    "start_time": "2021-10-31T07:34:49.775Z"
   },
   {
    "duration": 1470,
    "start_time": "2021-10-31T07:39:00.572Z"
   },
   {
    "duration": 40,
    "start_time": "2021-10-31T07:39:02.044Z"
   },
   {
    "duration": 13,
    "start_time": "2021-10-31T07:39:02.087Z"
   },
   {
    "duration": 36,
    "start_time": "2021-10-31T07:39:02.103Z"
   },
   {
    "duration": 16,
    "start_time": "2021-10-31T07:39:02.142Z"
   },
   {
    "duration": 69,
    "start_time": "2021-10-31T07:39:02.161Z"
   },
   {
    "duration": 15,
    "start_time": "2021-10-31T07:39:02.233Z"
   },
   {
    "duration": 20,
    "start_time": "2021-10-31T07:39:02.251Z"
   },
   {
    "duration": 56,
    "start_time": "2021-10-31T07:39:02.274Z"
   },
   {
    "duration": 579,
    "start_time": "2021-10-31T07:39:02.333Z"
   },
   {
    "duration": 324,
    "start_time": "2021-10-31T07:39:02.915Z"
   },
   {
    "duration": 491,
    "start_time": "2021-10-31T07:39:03.241Z"
   },
   {
    "duration": 12,
    "start_time": "2021-10-31T07:39:03.734Z"
   },
   {
    "duration": 20,
    "start_time": "2021-10-31T07:39:03.749Z"
   },
   {
    "duration": 33,
    "start_time": "2021-10-31T07:39:03.772Z"
   },
   {
    "duration": 45,
    "start_time": "2021-10-31T07:39:03.807Z"
   },
   {
    "duration": 48,
    "start_time": "2021-10-31T07:39:03.854Z"
   },
   {
    "duration": 6,
    "start_time": "2021-10-31T07:39:03.904Z"
   },
   {
    "duration": 17,
    "start_time": "2021-10-31T07:39:03.913Z"
   },
   {
    "duration": 13,
    "start_time": "2021-10-31T07:39:03.932Z"
   },
   {
    "duration": 70,
    "start_time": "2021-10-31T07:39:03.947Z"
   },
   {
    "duration": 10,
    "start_time": "2021-10-31T07:39:04.019Z"
   },
   {
    "duration": 516,
    "start_time": "2021-10-31T07:39:04.034Z"
   },
   {
    "duration": 1418,
    "start_time": "2021-10-31T07:41:29.090Z"
   },
   {
    "duration": 40,
    "start_time": "2021-10-31T07:41:30.511Z"
   },
   {
    "duration": 12,
    "start_time": "2021-10-31T07:41:30.553Z"
   },
   {
    "duration": 46,
    "start_time": "2021-10-31T07:41:30.568Z"
   },
   {
    "duration": 5,
    "start_time": "2021-10-31T07:41:30.616Z"
   },
   {
    "duration": 52,
    "start_time": "2021-10-31T07:41:30.624Z"
   },
   {
    "duration": 31,
    "start_time": "2021-10-31T07:41:30.679Z"
   },
   {
    "duration": 22,
    "start_time": "2021-10-31T07:41:30.714Z"
   },
   {
    "duration": 70,
    "start_time": "2021-10-31T07:41:30.740Z"
   },
   {
    "duration": 482,
    "start_time": "2021-10-31T07:41:30.813Z"
   },
   {
    "duration": 320,
    "start_time": "2021-10-31T07:41:31.301Z"
   },
   {
    "duration": 485,
    "start_time": "2021-10-31T07:41:31.623Z"
   },
   {
    "duration": 12,
    "start_time": "2021-10-31T07:41:32.110Z"
   },
   {
    "duration": 22,
    "start_time": "2021-10-31T07:41:32.124Z"
   },
   {
    "duration": 8,
    "start_time": "2021-10-31T07:41:32.148Z"
   },
   {
    "duration": 64,
    "start_time": "2021-10-31T07:41:32.159Z"
   },
   {
    "duration": 28,
    "start_time": "2021-10-31T07:41:32.225Z"
   },
   {
    "duration": 7,
    "start_time": "2021-10-31T07:41:32.255Z"
   },
   {
    "duration": 38,
    "start_time": "2021-10-31T07:41:32.264Z"
   },
   {
    "duration": 51,
    "start_time": "2021-10-31T07:41:32.305Z"
   },
   {
    "duration": 9,
    "start_time": "2021-10-31T07:41:32.358Z"
   },
   {
    "duration": 543,
    "start_time": "2021-10-31T07:41:32.369Z"
   },
   {
    "duration": 6,
    "start_time": "2021-10-31T07:42:53.078Z"
   },
   {
    "duration": 1383,
    "start_time": "2021-10-31T07:42:58.079Z"
   },
   {
    "duration": 40,
    "start_time": "2021-10-31T07:42:59.464Z"
   },
   {
    "duration": 12,
    "start_time": "2021-10-31T07:42:59.507Z"
   },
   {
    "duration": 29,
    "start_time": "2021-10-31T07:42:59.522Z"
   },
   {
    "duration": 5,
    "start_time": "2021-10-31T07:42:59.554Z"
   },
   {
    "duration": 80,
    "start_time": "2021-10-31T07:42:59.561Z"
   },
   {
    "duration": 15,
    "start_time": "2021-10-31T07:42:59.643Z"
   },
   {
    "duration": 45,
    "start_time": "2021-10-31T07:42:59.662Z"
   },
   {
    "duration": 40,
    "start_time": "2021-10-31T07:42:59.710Z"
   },
   {
    "duration": 469,
    "start_time": "2021-10-31T07:42:59.753Z"
   },
   {
    "duration": 321,
    "start_time": "2021-10-31T07:43:00.226Z"
   },
   {
    "duration": 5,
    "start_time": "2021-10-31T07:43:00.549Z"
   },
   {
    "duration": 544,
    "start_time": "2021-10-31T07:43:00.557Z"
   },
   {
    "duration": 12,
    "start_time": "2021-10-31T07:43:01.104Z"
   },
   {
    "duration": 32,
    "start_time": "2021-10-31T07:43:01.119Z"
   },
   {
    "duration": 6,
    "start_time": "2021-10-31T07:43:01.154Z"
   },
   {
    "duration": 48,
    "start_time": "2021-10-31T07:43:01.163Z"
   },
   {
    "duration": 27,
    "start_time": "2021-10-31T07:43:01.213Z"
   },
   {
    "duration": 9,
    "start_time": "2021-10-31T07:43:01.243Z"
   },
   {
    "duration": 11,
    "start_time": "2021-10-31T07:43:01.254Z"
   },
   {
    "duration": 63,
    "start_time": "2021-10-31T07:43:01.268Z"
   },
   {
    "duration": 8,
    "start_time": "2021-10-31T07:43:01.333Z"
   },
   {
    "duration": 62,
    "start_time": "2021-10-31T07:43:01.346Z"
   },
   {
    "duration": 56,
    "start_time": "2021-10-31T07:43:11.020Z"
   },
   {
    "duration": 5,
    "start_time": "2021-10-31T07:44:40.970Z"
   },
   {
    "duration": 5,
    "start_time": "2021-10-31T07:45:06.814Z"
   },
   {
    "duration": 56,
    "start_time": "2021-10-31T07:45:09.977Z"
   },
   {
    "duration": 266,
    "start_time": "2021-10-31T07:47:46.600Z"
   },
   {
    "duration": 177,
    "start_time": "2021-10-31T07:47:52.190Z"
   },
   {
    "duration": 139,
    "start_time": "2021-10-31T07:47:55.999Z"
   },
   {
    "duration": 97,
    "start_time": "2021-10-31T07:47:59.955Z"
   },
   {
    "duration": 28,
    "start_time": "2021-10-31T07:48:05.455Z"
   },
   {
    "duration": 36,
    "start_time": "2021-10-31T07:48:08.854Z"
   },
   {
    "duration": 73,
    "start_time": "2021-10-31T07:48:12.289Z"
   },
   {
    "duration": 71,
    "start_time": "2021-10-31T07:48:15.026Z"
   },
   {
    "duration": 74,
    "start_time": "2021-10-31T07:48:17.211Z"
   },
   {
    "duration": 75,
    "start_time": "2021-10-31T07:48:19.860Z"
   },
   {
    "duration": 80,
    "start_time": "2021-10-31T07:48:22.838Z"
   },
   {
    "duration": 85,
    "start_time": "2021-10-31T07:48:25.429Z"
   },
   {
    "duration": 89,
    "start_time": "2021-10-31T07:48:29.438Z"
   },
   {
    "duration": 96,
    "start_time": "2021-10-31T07:48:46.584Z"
   },
   {
    "duration": 60,
    "start_time": "2021-10-31T07:48:49.770Z"
   },
   {
    "duration": 65,
    "start_time": "2021-10-31T07:48:52.171Z"
   },
   {
    "duration": 512,
    "start_time": "2021-10-31T07:50:09.002Z"
   },
   {
    "duration": 371,
    "start_time": "2021-10-31T07:50:34.447Z"
   },
   {
    "duration": 4,
    "start_time": "2021-10-31T07:50:38.927Z"
   },
   {
    "duration": 199,
    "start_time": "2021-10-31T07:50:48.968Z"
   },
   {
    "duration": 1163,
    "start_time": "2021-10-31T07:50:52.686Z"
   },
   {
    "duration": 792,
    "start_time": "2021-10-31T07:51:10.007Z"
   },
   {
    "duration": 2262,
    "start_time": "2021-10-31T07:51:23.198Z"
   },
   {
    "duration": 2241,
    "start_time": "2021-10-31T07:52:32.656Z"
   },
   {
    "duration": 499,
    "start_time": "2021-10-31T07:53:16.357Z"
   },
   {
    "duration": 9362,
    "start_time": "2021-10-31T07:53:29.613Z"
   },
   {
    "duration": 2331,
    "start_time": "2021-10-31T07:53:46.164Z"
   },
   {
    "duration": 1320,
    "start_time": "2021-10-31T13:57:28.733Z"
   },
   {
    "duration": 38,
    "start_time": "2021-10-31T13:57:30.055Z"
   },
   {
    "duration": 12,
    "start_time": "2021-10-31T13:57:30.095Z"
   },
   {
    "duration": 35,
    "start_time": "2021-10-31T13:57:30.109Z"
   },
   {
    "duration": 8,
    "start_time": "2021-10-31T13:57:30.147Z"
   },
   {
    "duration": 75,
    "start_time": "2021-10-31T13:57:30.157Z"
   },
   {
    "duration": 15,
    "start_time": "2021-10-31T13:57:30.235Z"
   },
   {
    "duration": 19,
    "start_time": "2021-10-31T13:57:30.253Z"
   },
   {
    "duration": 75,
    "start_time": "2021-10-31T13:57:30.275Z"
   },
   {
    "duration": 458,
    "start_time": "2021-10-31T13:57:30.352Z"
   },
   {
    "duration": 324,
    "start_time": "2021-10-31T13:57:30.813Z"
   },
   {
    "duration": 6,
    "start_time": "2021-10-31T13:57:31.140Z"
   },
   {
    "duration": 633,
    "start_time": "2021-10-31T13:57:31.148Z"
   },
   {
    "duration": 14,
    "start_time": "2021-10-31T13:57:31.784Z"
   },
   {
    "duration": 41,
    "start_time": "2021-10-31T13:57:31.801Z"
   },
   {
    "duration": 7,
    "start_time": "2021-10-31T13:57:31.845Z"
   },
   {
    "duration": 36,
    "start_time": "2021-10-31T13:57:31.855Z"
   },
   {
    "duration": 52,
    "start_time": "2021-10-31T13:57:31.894Z"
   },
   {
    "duration": 8,
    "start_time": "2021-10-31T13:57:31.949Z"
   },
   {
    "duration": 9,
    "start_time": "2021-10-31T13:57:31.959Z"
   },
   {
    "duration": 91,
    "start_time": "2021-10-31T13:57:31.970Z"
   },
   {
    "duration": 10,
    "start_time": "2021-10-31T13:57:32.063Z"
   },
   {
    "duration": 5,
    "start_time": "2021-10-31T13:57:32.076Z"
   },
   {
    "duration": 81,
    "start_time": "2021-10-31T13:57:32.084Z"
   },
   {
    "duration": 2249,
    "start_time": "2021-10-31T13:57:32.167Z"
   },
   {
    "duration": 8968,
    "start_time": "2021-10-31T13:57:34.418Z"
   },
   {
    "duration": 2380,
    "start_time": "2021-10-31T13:58:07.411Z"
   },
   {
    "duration": 8949,
    "start_time": "2021-10-31T13:58:13.136Z"
   },
   {
    "duration": 2087,
    "start_time": "2021-10-31T14:05:39.459Z"
   },
   {
    "duration": 8944,
    "start_time": "2021-10-31T14:06:13.648Z"
   },
   {
    "duration": 9432,
    "start_time": "2021-10-31T14:06:40.702Z"
   },
   {
    "duration": 9323,
    "start_time": "2021-10-31T14:07:01.640Z"
   },
   {
    "duration": 9479,
    "start_time": "2021-10-31T14:07:49.126Z"
   },
   {
    "duration": 9702,
    "start_time": "2021-10-31T14:09:07.723Z"
   },
   {
    "duration": 11081,
    "start_time": "2021-10-31T14:09:44.702Z"
   },
   {
    "duration": 8938,
    "start_time": "2021-10-31T14:09:56.464Z"
   },
   {
    "duration": 3,
    "start_time": "2021-10-31T15:24:09.685Z"
   },
   {
    "duration": 426,
    "start_time": "2021-10-31T15:25:34.764Z"
   },
   {
    "duration": 22,
    "start_time": "2021-10-31T15:25:39.748Z"
   },
   {
    "duration": 25,
    "start_time": "2021-10-31T15:25:53.040Z"
   },
   {
    "duration": 58,
    "start_time": "2021-10-31T15:25:57.537Z"
   },
   {
    "duration": 59,
    "start_time": "2021-10-31T15:26:09.518Z"
   },
   {
    "duration": 58,
    "start_time": "2021-10-31T15:26:12.035Z"
   },
   {
    "duration": 47,
    "start_time": "2021-10-31T15:26:15.126Z"
   },
   {
    "duration": 33,
    "start_time": "2021-10-31T15:26:18.334Z"
   },
   {
    "duration": 34,
    "start_time": "2021-10-31T15:26:21.915Z"
   },
   {
    "duration": 648,
    "start_time": "2021-10-31T15:26:24.640Z"
   },
   {
    "duration": 32,
    "start_time": "2021-10-31T15:26:26.761Z"
   },
   {
    "duration": 988,
    "start_time": "2021-10-31T15:27:06.961Z"
   },
   {
    "duration": 34,
    "start_time": "2021-10-31T15:27:51.026Z"
   },
   {
    "duration": 38,
    "start_time": "2021-10-31T15:29:43.335Z"
   },
   {
    "duration": 1100,
    "start_time": "2021-10-31T15:31:10.526Z"
   },
   {
    "duration": 902,
    "start_time": "2021-10-31T15:31:40.322Z"
   },
   {
    "duration": 1018,
    "start_time": "2021-10-31T15:31:53.111Z"
   },
   {
    "duration": 501,
    "start_time": "2021-10-31T15:33:26.112Z"
   },
   {
    "duration": 8,
    "start_time": "2021-10-31T15:34:05.661Z"
   },
   {
    "duration": 305,
    "start_time": "2021-10-31T15:34:11.864Z"
   },
   {
    "duration": 24,
    "start_time": "2021-10-31T15:34:15.592Z"
   },
   {
    "duration": 7,
    "start_time": "2021-10-31T15:34:28.628Z"
   },
   {
    "duration": 632,
    "start_time": "2021-10-31T15:34:37.273Z"
   },
   {
    "duration": 8,
    "start_time": "2021-10-31T15:34:50.396Z"
   },
   {
    "duration": 32,
    "start_time": "2021-10-31T15:35:15.928Z"
   },
   {
    "duration": 11,
    "start_time": "2021-10-31T15:35:21.005Z"
   },
   {
    "duration": 40,
    "start_time": "2021-10-31T15:35:26.085Z"
   },
   {
    "duration": 6,
    "start_time": "2021-10-31T15:35:33.483Z"
   },
   {
    "duration": 7,
    "start_time": "2021-10-31T15:36:01.616Z"
   },
   {
    "duration": 9,
    "start_time": "2021-10-31T15:36:08.360Z"
   },
   {
    "duration": 1412,
    "start_time": "2021-10-31T15:38:38.810Z"
   },
   {
    "duration": 37,
    "start_time": "2021-10-31T15:38:40.226Z"
   },
   {
    "duration": 13,
    "start_time": "2021-10-31T15:38:40.269Z"
   },
   {
    "duration": 54,
    "start_time": "2021-10-31T15:38:40.284Z"
   },
   {
    "duration": 5,
    "start_time": "2021-10-31T15:38:40.343Z"
   },
   {
    "duration": 83,
    "start_time": "2021-10-31T15:38:40.352Z"
   },
   {
    "duration": 15,
    "start_time": "2021-10-31T15:38:40.438Z"
   },
   {
    "duration": 22,
    "start_time": "2021-10-31T15:38:40.455Z"
   },
   {
    "duration": 73,
    "start_time": "2021-10-31T15:38:40.479Z"
   },
   {
    "duration": 493,
    "start_time": "2021-10-31T15:38:40.554Z"
   },
   {
    "duration": 301,
    "start_time": "2021-10-31T15:38:41.051Z"
   },
   {
    "duration": 7,
    "start_time": "2021-10-31T15:38:41.355Z"
   },
   {
    "duration": 477,
    "start_time": "2021-10-31T15:38:41.364Z"
   },
   {
    "duration": 12,
    "start_time": "2021-10-31T15:38:41.844Z"
   },
   {
    "duration": 19,
    "start_time": "2021-10-31T15:38:41.859Z"
   },
   {
    "duration": 41,
    "start_time": "2021-10-31T15:38:41.881Z"
   },
   {
    "duration": 30,
    "start_time": "2021-10-31T15:38:41.927Z"
   },
   {
    "duration": 62,
    "start_time": "2021-10-31T15:38:41.969Z"
   },
   {
    "duration": 7,
    "start_time": "2021-10-31T15:38:42.034Z"
   },
   {
    "duration": 17,
    "start_time": "2021-10-31T15:38:42.043Z"
   },
   {
    "duration": 8,
    "start_time": "2021-10-31T15:38:42.062Z"
   },
   {
    "duration": 15,
    "start_time": "2021-10-31T15:38:42.072Z"
   },
   {
    "duration": 41,
    "start_time": "2021-10-31T15:38:42.089Z"
   },
   {
    "duration": 28,
    "start_time": "2021-10-31T15:38:42.132Z"
   },
   {
    "duration": 680,
    "start_time": "2021-10-31T15:38:42.163Z"
   },
   {
    "duration": 80,
    "start_time": "2021-10-31T15:38:42.845Z"
   },
   {
    "duration": 2288,
    "start_time": "2021-10-31T15:38:42.927Z"
   },
   {
    "duration": 8901,
    "start_time": "2021-10-31T15:38:45.217Z"
   },
   {
    "duration": 1107,
    "start_time": "2021-10-31T15:38:54.123Z"
   },
   {
    "duration": 101,
    "start_time": "2021-10-31T15:38:55.233Z"
   },
   {
    "duration": 16,
    "start_time": "2021-10-31T15:38:55.421Z"
   },
   {
    "duration": 8,
    "start_time": "2021-10-31T15:41:12.815Z"
   },
   {
    "duration": 24,
    "start_time": "2021-10-31T15:41:15.380Z"
   },
   {
    "duration": 700,
    "start_time": "2021-10-31T15:41:20.764Z"
   },
   {
    "duration": 61,
    "start_time": "2021-10-31T15:41:33.828Z"
   },
   {
    "duration": 2390,
    "start_time": "2021-10-31T15:41:35.208Z"
   },
   {
    "duration": 10065,
    "start_time": "2021-10-31T15:41:37.601Z"
   },
   {
    "duration": 1332,
    "start_time": "2021-10-31T15:41:51.292Z"
   },
   {
    "duration": 10398,
    "start_time": "2021-10-31T15:44:54.634Z"
   },
   {
    "duration": 1324,
    "start_time": "2021-10-31T15:45:18.301Z"
   },
   {
    "duration": 847,
    "start_time": "2021-10-31T15:53:27.316Z"
   },
   {
    "duration": 420,
    "start_time": "2021-10-31T15:53:42.637Z"
   },
   {
    "duration": 6,
    "start_time": "2021-10-31T15:54:11.554Z"
   },
   {
    "duration": 327,
    "start_time": "2021-10-31T15:54:17.284Z"
   },
   {
    "duration": 337,
    "start_time": "2021-10-31T15:54:23.476Z"
   },
   {
    "duration": 341,
    "start_time": "2021-10-31T15:54:34.574Z"
   },
   {
    "duration": 322,
    "start_time": "2021-10-31T15:54:40.460Z"
   },
   {
    "duration": 330,
    "start_time": "2021-10-31T15:54:56.370Z"
   },
   {
    "duration": 232,
    "start_time": "2021-10-31T15:55:08.619Z"
   },
   {
    "duration": 343,
    "start_time": "2021-10-31T15:55:36.414Z"
   },
   {
    "duration": 330,
    "start_time": "2021-10-31T15:57:59.518Z"
   },
   {
    "duration": 595,
    "start_time": "2021-10-31T15:58:31.104Z"
   },
   {
    "duration": 314,
    "start_time": "2021-10-31T15:58:54.018Z"
   },
   {
    "duration": 321,
    "start_time": "2021-10-31T15:58:58.806Z"
   },
   {
    "duration": 284,
    "start_time": "2021-10-31T15:59:01.453Z"
   },
   {
    "duration": 1630,
    "start_time": "2021-10-31T15:59:40.191Z"
   },
   {
    "duration": 327,
    "start_time": "2021-10-31T15:59:51.616Z"
   },
   {
    "duration": 1273,
    "start_time": "2021-10-31T15:59:58.150Z"
   },
   {
    "duration": 306,
    "start_time": "2021-10-31T16:00:01.528Z"
   },
   {
    "duration": 95,
    "start_time": "2021-10-31T16:01:41.767Z"
   },
   {
    "duration": 453,
    "start_time": "2021-10-31T16:01:53.324Z"
   },
   {
    "duration": 1301,
    "start_time": "2021-10-31T16:01:58.223Z"
   },
   {
    "duration": 300,
    "start_time": "2021-10-31T16:02:01.630Z"
   },
   {
    "duration": 309,
    "start_time": "2021-10-31T16:02:11.826Z"
   },
   {
    "duration": 1487,
    "start_time": "2021-10-31T16:02:16.742Z"
   },
   {
    "duration": 398,
    "start_time": "2021-10-31T16:02:18.232Z"
   },
   {
    "duration": 335,
    "start_time": "2021-10-31T16:02:30.999Z"
   },
   {
    "duration": 1252,
    "start_time": "2021-10-31T16:02:37.772Z"
   },
   {
    "duration": 401,
    "start_time": "2021-10-31T16:02:39.027Z"
   },
   {
    "duration": 18,
    "start_time": "2021-10-31T16:03:03.410Z"
   },
   {
    "duration": 17,
    "start_time": "2021-10-31T16:03:06.260Z"
   },
   {
    "duration": 477,
    "start_time": "2021-10-31T16:04:45.646Z"
   },
   {
    "duration": 516,
    "start_time": "2021-10-31T16:05:01.509Z"
   },
   {
    "duration": 508,
    "start_time": "2021-10-31T16:05:07.771Z"
   },
   {
    "duration": 490,
    "start_time": "2021-10-31T16:05:18.603Z"
   },
   {
    "duration": 33,
    "start_time": "2021-10-31T16:05:35.979Z"
   },
   {
    "duration": 7,
    "start_time": "2021-10-31T16:09:36.940Z"
   },
   {
    "duration": 575,
    "start_time": "2021-10-31T16:09:39.045Z"
   },
   {
    "duration": 6,
    "start_time": "2021-10-31T16:10:11.626Z"
   },
   {
    "duration": 6,
    "start_time": "2021-10-31T16:10:29.559Z"
   },
   {
    "duration": 8,
    "start_time": "2021-10-31T16:10:33.165Z"
   },
   {
    "duration": 25,
    "start_time": "2021-10-31T16:10:38.774Z"
   },
   {
    "duration": 8,
    "start_time": "2021-10-31T16:10:57.507Z"
   },
   {
    "duration": 657,
    "start_time": "2021-10-31T16:11:02.635Z"
   },
   {
    "duration": 17,
    "start_time": "2021-10-31T16:11:34.273Z"
   },
   {
    "duration": 106,
    "start_time": "2021-10-31T16:11:53.086Z"
   },
   {
    "duration": 98,
    "start_time": "2021-10-31T16:11:56.663Z"
   },
   {
    "duration": 20,
    "start_time": "2021-10-31T16:11:59.155Z"
   },
   {
    "duration": 353,
    "start_time": "2021-10-31T16:12:18.224Z"
   },
   {
    "duration": 619,
    "start_time": "2021-10-31T16:12:24.126Z"
   },
   {
    "duration": 42,
    "start_time": "2021-10-31T16:12:47.755Z"
   },
   {
    "duration": 1241,
    "start_time": "2021-10-31T16:12:53.153Z"
   },
   {
    "duration": 4959,
    "start_time": "2021-10-31T16:12:56.242Z"
   },
   {
    "duration": 910,
    "start_time": "2021-10-31T16:13:10.620Z"
   },
   {
    "duration": 286,
    "start_time": "2021-10-31T16:13:19.378Z"
   },
   {
    "duration": 1605,
    "start_time": "2021-10-31T16:13:27.319Z"
   },
   {
    "duration": 251,
    "start_time": "2021-10-31T16:13:30.347Z"
   },
   {
    "duration": 234,
    "start_time": "2021-10-31T16:13:48.863Z"
   },
   {
    "duration": 302,
    "start_time": "2021-10-31T16:13:52.291Z"
   },
   {
    "duration": 272,
    "start_time": "2021-10-31T16:13:53.714Z"
   },
   {
    "duration": 271,
    "start_time": "2021-10-31T16:13:55.830Z"
   },
   {
    "duration": 293,
    "start_time": "2021-10-31T16:14:03.979Z"
   },
   {
    "duration": 294,
    "start_time": "2021-10-31T16:14:37.695Z"
   },
   {
    "duration": 242,
    "start_time": "2021-10-31T16:14:49.853Z"
   },
   {
    "duration": 1398,
    "start_time": "2021-10-31T16:14:55.739Z"
   },
   {
    "duration": 42,
    "start_time": "2021-10-31T16:14:57.140Z"
   },
   {
    "duration": 17,
    "start_time": "2021-10-31T16:14:57.185Z"
   },
   {
    "duration": 30,
    "start_time": "2021-10-31T16:14:57.224Z"
   },
   {
    "duration": 6,
    "start_time": "2021-10-31T16:14:57.256Z"
   },
   {
    "duration": 87,
    "start_time": "2021-10-31T16:14:57.265Z"
   },
   {
    "duration": 19,
    "start_time": "2021-10-31T16:14:57.355Z"
   },
   {
    "duration": 62,
    "start_time": "2021-10-31T16:14:57.380Z"
   },
   {
    "duration": 78,
    "start_time": "2021-10-31T16:14:57.446Z"
   },
   {
    "duration": 545,
    "start_time": "2021-10-31T16:14:57.527Z"
   },
   {
    "duration": 330,
    "start_time": "2021-10-31T16:14:58.075Z"
   },
   {
    "duration": 16,
    "start_time": "2021-10-31T16:14:58.407Z"
   },
   {
    "duration": 481,
    "start_time": "2021-10-31T16:14:58.425Z"
   },
   {
    "duration": 21,
    "start_time": "2021-10-31T16:14:58.909Z"
   },
   {
    "duration": 19,
    "start_time": "2021-10-31T16:14:58.932Z"
   },
   {
    "duration": 5,
    "start_time": "2021-10-31T16:14:58.953Z"
   },
   {
    "duration": 77,
    "start_time": "2021-10-31T16:14:58.960Z"
   },
   {
    "duration": 26,
    "start_time": "2021-10-31T16:14:59.039Z"
   },
   {
    "duration": 7,
    "start_time": "2021-10-31T16:14:59.067Z"
   },
   {
    "duration": 7,
    "start_time": "2021-10-31T16:14:59.077Z"
   },
   {
    "duration": 41,
    "start_time": "2021-10-31T16:14:59.086Z"
   },
   {
    "duration": 4,
    "start_time": "2021-10-31T16:14:59.130Z"
   },
   {
    "duration": 22,
    "start_time": "2021-10-31T16:14:59.139Z"
   },
   {
    "duration": 704,
    "start_time": "2021-10-31T16:14:59.165Z"
   },
   {
    "duration": 72,
    "start_time": "2021-10-31T16:14:59.872Z"
   },
   {
    "duration": 2154,
    "start_time": "2021-10-31T16:14:59.948Z"
   },
   {
    "duration": 9141,
    "start_time": "2021-10-31T16:15:02.105Z"
   },
   {
    "duration": 1076,
    "start_time": "2021-10-31T16:15:11.248Z"
   },
   {
    "duration": 116,
    "start_time": "2021-10-31T16:15:12.328Z"
   },
   {
    "duration": 8,
    "start_time": "2021-10-31T16:15:12.446Z"
   },
   {
    "duration": 23,
    "start_time": "2021-10-31T16:15:12.456Z"
   },
   {
    "duration": 759,
    "start_time": "2021-10-31T16:15:12.482Z"
   },
   {
    "duration": 80,
    "start_time": "2021-10-31T16:15:13.243Z"
   },
   {
    "duration": 2407,
    "start_time": "2021-10-31T16:15:13.326Z"
   },
   {
    "duration": 10707,
    "start_time": "2021-10-31T16:15:15.735Z"
   },
   {
    "duration": 1287,
    "start_time": "2021-10-31T16:15:26.444Z"
   },
   {
    "duration": 497,
    "start_time": "2021-10-31T16:15:27.734Z"
   },
   {
    "duration": 1789,
    "start_time": "2021-10-31T16:15:28.234Z"
   },
   {
    "duration": 319,
    "start_time": "2021-10-31T16:15:30.026Z"
   },
   {
    "duration": 7,
    "start_time": "2021-10-31T16:15:30.348Z"
   },
   {
    "duration": 18,
    "start_time": "2021-10-31T16:15:30.358Z"
   },
   {
    "duration": 258,
    "start_time": "2021-10-31T16:15:30.379Z"
   },
   {
    "duration": 38,
    "start_time": "2021-10-31T16:15:30.640Z"
   },
   {
    "duration": 1053,
    "start_time": "2021-10-31T16:15:30.680Z"
   },
   {
    "duration": 3540,
    "start_time": "2021-10-31T16:15:31.735Z"
   },
   {
    "duration": 554,
    "start_time": "2021-10-31T16:15:35.277Z"
   },
   {
    "duration": 178,
    "start_time": "2021-10-31T16:15:35.924Z"
   },
   {
    "duration": 528,
    "start_time": "2021-10-31T16:15:36.104Z"
   },
   {
    "duration": 201,
    "start_time": "2021-10-31T16:15:36.725Z"
   },
   {
    "duration": 25,
    "start_time": "2021-10-31T16:23:25.736Z"
   },
   {
    "duration": 8,
    "start_time": "2021-10-31T16:24:10.077Z"
   },
   {
    "duration": 4,
    "start_time": "2021-10-31T16:24:57.206Z"
   },
   {
    "duration": 4,
    "start_time": "2021-10-31T16:25:37.809Z"
   },
   {
    "duration": 5,
    "start_time": "2021-10-31T16:25:45.714Z"
   },
   {
    "duration": 15,
    "start_time": "2021-10-31T16:47:44.198Z"
   },
   {
    "duration": 410,
    "start_time": "2021-10-31T16:50:14.524Z"
   },
   {
    "duration": 12,
    "start_time": "2021-10-31T16:50:32.611Z"
   },
   {
    "duration": 12,
    "start_time": "2021-10-31T16:51:01.172Z"
   },
   {
    "duration": 1747,
    "start_time": "2021-10-31T16:51:06.116Z"
   },
   {
    "duration": 78,
    "start_time": "2021-10-31T16:51:07.866Z"
   },
   {
    "duration": 12,
    "start_time": "2021-10-31T16:51:07.947Z"
   },
   {
    "duration": 71,
    "start_time": "2021-10-31T16:51:07.962Z"
   },
   {
    "duration": 5,
    "start_time": "2021-10-31T16:51:08.035Z"
   },
   {
    "duration": 61,
    "start_time": "2021-10-31T16:51:08.042Z"
   },
   {
    "duration": 30,
    "start_time": "2021-10-31T16:51:08.105Z"
   },
   {
    "duration": 38,
    "start_time": "2021-10-31T16:51:08.138Z"
   },
   {
    "duration": 66,
    "start_time": "2021-10-31T16:51:08.179Z"
   },
   {
    "duration": 466,
    "start_time": "2021-10-31T16:51:08.247Z"
   },
   {
    "duration": 312,
    "start_time": "2021-10-31T16:51:08.716Z"
   },
   {
    "duration": 5,
    "start_time": "2021-10-31T16:51:09.031Z"
   },
   {
    "duration": 811,
    "start_time": "2021-10-31T16:51:09.038Z"
   },
   {
    "duration": 11,
    "start_time": "2021-10-31T16:51:09.851Z"
   },
   {
    "duration": 29,
    "start_time": "2021-10-31T16:51:09.864Z"
   },
   {
    "duration": 30,
    "start_time": "2021-10-31T16:51:09.896Z"
   },
   {
    "duration": 45,
    "start_time": "2021-10-31T16:51:09.929Z"
   },
   {
    "duration": 46,
    "start_time": "2021-10-31T16:51:09.976Z"
   },
   {
    "duration": 10,
    "start_time": "2021-10-31T16:51:10.025Z"
   },
   {
    "duration": 18,
    "start_time": "2021-10-31T16:51:10.037Z"
   },
   {
    "duration": 23,
    "start_time": "2021-10-31T16:51:10.058Z"
   },
   {
    "duration": 19,
    "start_time": "2021-10-31T16:51:10.083Z"
   },
   {
    "duration": 42,
    "start_time": "2021-10-31T16:51:10.107Z"
   },
   {
    "duration": 770,
    "start_time": "2021-10-31T16:51:10.154Z"
   },
   {
    "duration": 63,
    "start_time": "2021-10-31T16:51:10.927Z"
   },
   {
    "duration": 2136,
    "start_time": "2021-10-31T16:51:10.993Z"
   },
   {
    "duration": 8777,
    "start_time": "2021-10-31T16:51:13.132Z"
   },
   {
    "duration": 1017,
    "start_time": "2021-10-31T16:51:21.911Z"
   },
   {
    "duration": 115,
    "start_time": "2021-10-31T16:51:22.931Z"
   },
   {
    "duration": 10,
    "start_time": "2021-10-31T16:51:23.049Z"
   },
   {
    "duration": 27,
    "start_time": "2021-10-31T16:51:23.122Z"
   },
   {
    "duration": 762,
    "start_time": "2021-10-31T16:51:23.153Z"
   },
   {
    "duration": 64,
    "start_time": "2021-10-31T16:51:23.918Z"
   },
   {
    "duration": 2438,
    "start_time": "2021-10-31T16:51:23.985Z"
   },
   {
    "duration": 10537,
    "start_time": "2021-10-31T16:51:26.425Z"
   },
   {
    "duration": 1360,
    "start_time": "2021-10-31T16:51:36.965Z"
   },
   {
    "duration": 409,
    "start_time": "2021-10-31T16:51:38.328Z"
   },
   {
    "duration": 1396,
    "start_time": "2021-10-31T16:51:38.740Z"
   },
   {
    "duration": 407,
    "start_time": "2021-10-31T16:51:40.225Z"
   },
   {
    "duration": 7,
    "start_time": "2021-10-31T16:51:40.634Z"
   },
   {
    "duration": 17,
    "start_time": "2021-10-31T16:51:40.643Z"
   },
   {
    "duration": 266,
    "start_time": "2021-10-31T16:51:40.663Z"
   },
   {
    "duration": 41,
    "start_time": "2021-10-31T16:51:40.931Z"
   },
   {
    "duration": 950,
    "start_time": "2021-10-31T16:51:40.974Z"
   },
   {
    "duration": 3452,
    "start_time": "2021-10-31T16:51:41.926Z"
   },
   {
    "duration": 545,
    "start_time": "2021-10-31T16:51:45.381Z"
   },
   {
    "duration": 196,
    "start_time": "2021-10-31T16:51:45.929Z"
   },
   {
    "duration": 503,
    "start_time": "2021-10-31T16:51:46.128Z"
   },
   {
    "duration": 180,
    "start_time": "2021-10-31T16:51:46.724Z"
   },
   {
    "duration": 5,
    "start_time": "2021-10-31T16:59:15.246Z"
   },
   {
    "duration": 336,
    "start_time": "2021-10-31T16:59:46.998Z"
   },
   {
    "duration": 343,
    "start_time": "2021-10-31T16:59:52.479Z"
   },
   {
    "duration": 841,
    "start_time": "2021-10-31T17:00:24.029Z"
   },
   {
    "duration": 319,
    "start_time": "2021-10-31T17:01:34.344Z"
   },
   {
    "duration": 352,
    "start_time": "2021-10-31T17:01:37.751Z"
   },
   {
    "duration": 374,
    "start_time": "2021-10-31T17:02:12.719Z"
   },
   {
    "duration": 1598,
    "start_time": "2021-10-31T17:03:12.966Z"
   },
   {
    "duration": 88,
    "start_time": "2021-10-31T17:03:14.568Z"
   },
   {
    "duration": 70,
    "start_time": "2021-10-31T17:03:14.661Z"
   },
   {
    "duration": 89,
    "start_time": "2021-10-31T17:03:14.735Z"
   },
   {
    "duration": 6,
    "start_time": "2021-10-31T17:03:14.828Z"
   },
   {
    "duration": 106,
    "start_time": "2021-10-31T17:03:14.836Z"
   },
   {
    "duration": 16,
    "start_time": "2021-10-31T17:03:14.944Z"
   },
   {
    "duration": 70,
    "start_time": "2021-10-31T17:03:14.963Z"
   },
   {
    "duration": 101,
    "start_time": "2021-10-31T17:03:15.036Z"
   },
   {
    "duration": 526,
    "start_time": "2021-10-31T17:03:15.140Z"
   },
   {
    "duration": 326,
    "start_time": "2021-10-31T17:03:15.668Z"
   },
   {
    "duration": 6,
    "start_time": "2021-10-31T17:03:15.996Z"
   },
   {
    "duration": 542,
    "start_time": "2021-10-31T17:03:16.004Z"
   },
   {
    "duration": 11,
    "start_time": "2021-10-31T17:03:16.549Z"
   },
   {
    "duration": 76,
    "start_time": "2021-10-31T17:03:16.563Z"
   },
   {
    "duration": 6,
    "start_time": "2021-10-31T17:03:16.641Z"
   },
   {
    "duration": 83,
    "start_time": "2021-10-31T17:03:16.649Z"
   },
   {
    "duration": 27,
    "start_time": "2021-10-31T17:03:16.735Z"
   },
   {
    "duration": 60,
    "start_time": "2021-10-31T17:03:16.764Z"
   },
   {
    "duration": 6,
    "start_time": "2021-10-31T17:03:16.827Z"
   },
   {
    "duration": 10,
    "start_time": "2021-10-31T17:03:16.836Z"
   },
   {
    "duration": 4,
    "start_time": "2021-10-31T17:03:16.849Z"
   },
   {
    "duration": 70,
    "start_time": "2021-10-31T17:03:16.859Z"
   },
   {
    "duration": 999,
    "start_time": "2021-10-31T17:03:16.932Z"
   },
   {
    "duration": 55,
    "start_time": "2021-10-31T17:03:17.933Z"
   },
   {
    "duration": 2432,
    "start_time": "2021-10-31T17:03:17.991Z"
   },
   {
    "duration": 9198,
    "start_time": "2021-10-31T17:03:20.426Z"
   },
   {
    "duration": 1099,
    "start_time": "2021-10-31T17:03:29.626Z"
   },
   {
    "duration": 116,
    "start_time": "2021-10-31T17:03:30.729Z"
   },
   {
    "duration": 9,
    "start_time": "2021-10-31T17:03:30.847Z"
   },
   {
    "duration": 29,
    "start_time": "2021-10-31T17:03:30.859Z"
   },
   {
    "duration": 760,
    "start_time": "2021-10-31T17:03:30.890Z"
   },
   {
    "duration": 79,
    "start_time": "2021-10-31T17:03:31.652Z"
   },
   {
    "duration": 2464,
    "start_time": "2021-10-31T17:03:31.734Z"
   },
   {
    "duration": 10446,
    "start_time": "2021-10-31T17:03:34.200Z"
   },
   {
    "duration": 1383,
    "start_time": "2021-10-31T17:03:44.648Z"
   },
   {
    "duration": 413,
    "start_time": "2021-10-31T17:03:46.124Z"
   },
   {
    "duration": 1489,
    "start_time": "2021-10-31T17:03:46.539Z"
   },
   {
    "duration": 402,
    "start_time": "2021-10-31T17:03:48.032Z"
   },
   {
    "duration": 7,
    "start_time": "2021-10-31T17:03:48.437Z"
   },
   {
    "duration": 17,
    "start_time": "2021-10-31T17:03:48.446Z"
   },
   {
    "duration": 262,
    "start_time": "2021-10-31T17:03:48.465Z"
   },
   {
    "duration": 36,
    "start_time": "2021-10-31T17:03:48.729Z"
   },
   {
    "duration": 1164,
    "start_time": "2021-10-31T17:03:48.767Z"
   },
   {
    "duration": 3494,
    "start_time": "2021-10-31T17:03:49.934Z"
   },
   {
    "duration": 592,
    "start_time": "2021-10-31T17:03:53.431Z"
   },
   {
    "duration": 208,
    "start_time": "2021-10-31T17:03:54.027Z"
   },
   {
    "duration": 594,
    "start_time": "2021-10-31T17:03:54.237Z"
   },
   {
    "duration": 180,
    "start_time": "2021-10-31T17:03:54.924Z"
   },
   {
    "duration": 11,
    "start_time": "2021-10-31T17:05:46.828Z"
   },
   {
    "duration": 37,
    "start_time": "2021-10-31T17:06:07.996Z"
   },
   {
    "duration": 12,
    "start_time": "2021-10-31T17:06:08.313Z"
   },
   {
    "duration": 20,
    "start_time": "2021-10-31T17:06:08.913Z"
   },
   {
    "duration": 6,
    "start_time": "2021-10-31T17:06:09.523Z"
   },
   {
    "duration": 48,
    "start_time": "2021-10-31T17:06:09.854Z"
   },
   {
    "duration": 16,
    "start_time": "2021-10-31T17:06:15.469Z"
   },
   {
    "duration": 21,
    "start_time": "2021-10-31T17:06:15.878Z"
   },
   {
    "duration": 42,
    "start_time": "2021-10-31T17:06:16.588Z"
   },
   {
    "duration": 375,
    "start_time": "2021-10-31T17:06:17.546Z"
   },
   {
    "duration": 11,
    "start_time": "2021-10-31T17:06:18.489Z"
   },
   {
    "duration": 11,
    "start_time": "2021-10-31T17:06:34.582Z"
   },
   {
    "duration": 17,
    "start_time": "2021-10-31T17:06:55.436Z"
   },
   {
    "duration": 12,
    "start_time": "2021-10-31T17:06:58.509Z"
   },
   {
    "duration": 455,
    "start_time": "2021-10-31T17:11:30.977Z"
   },
   {
    "duration": 525,
    "start_time": "2021-10-31T17:12:54.127Z"
   },
   {
    "duration": 6,
    "start_time": "2021-10-31T17:24:52.200Z"
   },
   {
    "duration": 7,
    "start_time": "2021-10-31T17:24:54.077Z"
   },
   {
    "duration": 97,
    "start_time": "2021-10-31T17:31:44.483Z"
   },
   {
    "duration": 95,
    "start_time": "2021-10-31T17:31:50.460Z"
   },
   {
    "duration": 1456,
    "start_time": "2021-10-31T17:32:36.113Z"
   },
   {
    "duration": 37,
    "start_time": "2021-10-31T17:32:37.571Z"
   },
   {
    "duration": 17,
    "start_time": "2021-10-31T17:32:37.611Z"
   },
   {
    "duration": 35,
    "start_time": "2021-10-31T17:32:37.631Z"
   },
   {
    "duration": 13,
    "start_time": "2021-10-31T17:32:37.668Z"
   },
   {
    "duration": 75,
    "start_time": "2021-10-31T17:32:37.683Z"
   },
   {
    "duration": 16,
    "start_time": "2021-10-31T17:32:37.760Z"
   },
   {
    "duration": 49,
    "start_time": "2021-10-31T17:32:37.779Z"
   },
   {
    "duration": 42,
    "start_time": "2021-10-31T17:32:37.831Z"
   },
   {
    "duration": 387,
    "start_time": "2021-10-31T17:32:37.875Z"
   },
   {
    "duration": 18,
    "start_time": "2021-10-31T17:32:38.264Z"
   },
   {
    "duration": 40,
    "start_time": "2021-10-31T17:32:38.284Z"
   },
   {
    "duration": 5,
    "start_time": "2021-10-31T17:32:38.326Z"
   },
   {
    "duration": 484,
    "start_time": "2021-10-31T17:32:38.333Z"
   },
   {
    "duration": 12,
    "start_time": "2021-10-31T17:32:38.820Z"
   },
   {
    "duration": 21,
    "start_time": "2021-10-31T17:32:38.834Z"
   },
   {
    "duration": 6,
    "start_time": "2021-10-31T17:32:38.858Z"
   },
   {
    "duration": 83,
    "start_time": "2021-10-31T17:32:38.866Z"
   },
   {
    "duration": 25,
    "start_time": "2021-10-31T17:32:38.952Z"
   },
   {
    "duration": 8,
    "start_time": "2021-10-31T17:32:38.980Z"
   },
   {
    "duration": 7,
    "start_time": "2021-10-31T17:32:39.022Z"
   },
   {
    "duration": 11,
    "start_time": "2021-10-31T17:32:39.031Z"
   },
   {
    "duration": 3,
    "start_time": "2021-10-31T17:32:39.048Z"
   },
   {
    "duration": 25,
    "start_time": "2021-10-31T17:32:39.054Z"
   },
   {
    "duration": 680,
    "start_time": "2021-10-31T17:32:39.122Z"
   },
   {
    "duration": 65,
    "start_time": "2021-10-31T17:32:39.805Z"
   },
   {
    "duration": 2217,
    "start_time": "2021-10-31T17:32:39.873Z"
   },
   {
    "duration": 9094,
    "start_time": "2021-10-31T17:32:42.092Z"
   },
   {
    "duration": 1142,
    "start_time": "2021-10-31T17:32:51.188Z"
   },
   {
    "duration": 204,
    "start_time": "2021-10-31T17:32:52.332Z"
   },
   {
    "duration": 7,
    "start_time": "2021-10-31T17:32:52.539Z"
   },
   {
    "duration": 80,
    "start_time": "2021-10-31T17:32:52.549Z"
   },
   {
    "duration": 829,
    "start_time": "2021-10-31T17:32:52.631Z"
   },
   {
    "duration": 78,
    "start_time": "2021-10-31T17:32:53.462Z"
   },
   {
    "duration": 3137,
    "start_time": "2021-10-31T17:32:53.542Z"
   },
   {
    "duration": 11302,
    "start_time": "2021-10-31T17:32:56.682Z"
   },
   {
    "duration": 1140,
    "start_time": "2021-10-31T17:33:07.987Z"
   },
   {
    "duration": 404,
    "start_time": "2021-10-31T17:33:09.131Z"
   },
   {
    "duration": 1994,
    "start_time": "2021-10-31T17:33:09.537Z"
   },
   {
    "duration": 415,
    "start_time": "2021-10-31T17:33:11.624Z"
   },
   {
    "duration": 7,
    "start_time": "2021-10-31T17:33:12.041Z"
   },
   {
    "duration": 71,
    "start_time": "2021-10-31T17:33:12.051Z"
   },
   {
    "duration": 281,
    "start_time": "2021-10-31T17:33:12.125Z"
   },
   {
    "duration": 44,
    "start_time": "2021-10-31T17:33:12.409Z"
   },
   {
    "duration": 930,
    "start_time": "2021-10-31T17:33:12.456Z"
   },
   {
    "duration": 3482,
    "start_time": "2021-10-31T17:33:13.388Z"
   },
   {
    "duration": 651,
    "start_time": "2021-10-31T17:33:16.872Z"
   },
   {
    "duration": 199,
    "start_time": "2021-10-31T17:33:17.527Z"
   },
   {
    "duration": 604,
    "start_time": "2021-10-31T17:33:17.728Z"
   },
   {
    "duration": 190,
    "start_time": "2021-10-31T17:33:18.423Z"
   },
   {
    "duration": 12,
    "start_time": "2021-10-31T17:40:23.613Z"
   },
   {
    "duration": 7,
    "start_time": "2021-10-31T17:42:21.595Z"
   },
   {
    "duration": 13,
    "start_time": "2021-10-31T17:42:38.957Z"
   },
   {
    "duration": 15,
    "start_time": "2021-10-31T17:43:57.470Z"
   },
   {
    "duration": 14,
    "start_time": "2021-10-31T17:44:05.725Z"
   },
   {
    "duration": 411,
    "start_time": "2021-10-31T17:44:43.213Z"
   },
   {
    "duration": 90,
    "start_time": "2021-10-31T17:45:45.393Z"
   },
   {
    "duration": 106,
    "start_time": "2021-10-31T17:45:47.573Z"
   },
   {
    "duration": 98,
    "start_time": "2021-10-31T17:46:04.574Z"
   },
   {
    "duration": 785,
    "start_time": "2021-10-31T17:46:10.990Z"
   },
   {
    "duration": 716,
    "start_time": "2021-10-31T17:46:25.903Z"
   },
   {
    "duration": 12,
    "start_time": "2021-10-31T17:46:32.456Z"
   },
   {
    "duration": 11,
    "start_time": "2021-10-31T17:46:39.089Z"
   },
   {
    "duration": 12,
    "start_time": "2021-10-31T17:46:43.768Z"
   },
   {
    "duration": 13,
    "start_time": "2021-10-31T17:46:53.346Z"
   },
   {
    "duration": 13,
    "start_time": "2021-10-31T17:49:21.809Z"
   },
   {
    "duration": 13,
    "start_time": "2021-10-31T17:50:24.533Z"
   },
   {
    "duration": 13,
    "start_time": "2021-10-31T17:50:30.774Z"
   },
   {
    "duration": 237,
    "start_time": "2021-10-31T17:52:14.683Z"
   },
   {
    "duration": 15,
    "start_time": "2021-10-31T17:53:21.429Z"
   },
   {
    "duration": 13,
    "start_time": "2021-10-31T17:54:18.022Z"
   },
   {
    "duration": 15,
    "start_time": "2021-10-31T17:54:54.794Z"
   },
   {
    "duration": 16,
    "start_time": "2021-10-31T17:55:25.449Z"
   },
   {
    "duration": 496,
    "start_time": "2021-10-31T17:56:15.935Z"
   },
   {
    "duration": 454,
    "start_time": "2021-10-31T17:56:18.678Z"
   },
   {
    "duration": 1473,
    "start_time": "2021-10-31T17:56:24.281Z"
   },
   {
    "duration": 38,
    "start_time": "2021-10-31T17:56:25.757Z"
   },
   {
    "duration": 12,
    "start_time": "2021-10-31T17:56:25.797Z"
   },
   {
    "duration": 23,
    "start_time": "2021-10-31T17:56:25.823Z"
   },
   {
    "duration": 9,
    "start_time": "2021-10-31T17:56:25.848Z"
   },
   {
    "duration": 80,
    "start_time": "2021-10-31T17:56:25.859Z"
   },
   {
    "duration": 16,
    "start_time": "2021-10-31T17:56:25.941Z"
   },
   {
    "duration": 22,
    "start_time": "2021-10-31T17:56:25.962Z"
   },
   {
    "duration": 41,
    "start_time": "2021-10-31T17:56:26.024Z"
   },
   {
    "duration": 407,
    "start_time": "2021-10-31T17:56:26.067Z"
   },
   {
    "duration": 18,
    "start_time": "2021-10-31T17:56:26.477Z"
   },
   {
    "duration": 28,
    "start_time": "2021-10-31T17:56:26.497Z"
   },
   {
    "duration": 6,
    "start_time": "2021-10-31T17:56:26.527Z"
   },
   {
    "duration": 483,
    "start_time": "2021-10-31T17:56:26.535Z"
   },
   {
    "duration": 12,
    "start_time": "2021-10-31T17:56:27.023Z"
   },
   {
    "duration": 18,
    "start_time": "2021-10-31T17:56:27.037Z"
   },
   {
    "duration": 5,
    "start_time": "2021-10-31T17:56:27.058Z"
   },
   {
    "duration": 79,
    "start_time": "2021-10-31T17:56:27.065Z"
   },
   {
    "duration": 26,
    "start_time": "2021-10-31T17:56:27.147Z"
   },
   {
    "duration": 8,
    "start_time": "2021-10-31T17:56:27.175Z"
   },
   {
    "duration": 40,
    "start_time": "2021-10-31T17:56:27.185Z"
   },
   {
    "duration": 10,
    "start_time": "2021-10-31T17:56:27.228Z"
   },
   {
    "duration": 4,
    "start_time": "2021-10-31T17:56:27.243Z"
   },
   {
    "duration": 27,
    "start_time": "2021-10-31T17:56:27.250Z"
   },
   {
    "duration": 774,
    "start_time": "2021-10-31T17:56:27.280Z"
   },
   {
    "duration": 68,
    "start_time": "2021-10-31T17:56:28.057Z"
   },
   {
    "duration": 2084,
    "start_time": "2021-10-31T17:56:28.128Z"
   },
   {
    "duration": 8681,
    "start_time": "2021-10-31T17:56:30.214Z"
   },
   {
    "duration": 1126,
    "start_time": "2021-10-31T17:56:38.898Z"
   },
   {
    "duration": 1496,
    "start_time": "2021-10-31T17:56:40.028Z"
   },
   {
    "duration": 121,
    "start_time": "2021-10-31T17:56:41.528Z"
   },
   {
    "duration": 24,
    "start_time": "2021-10-31T17:56:41.651Z"
   },
   {
    "duration": 50,
    "start_time": "2021-10-31T17:56:41.677Z"
   },
   {
    "duration": 736,
    "start_time": "2021-10-31T17:56:41.729Z"
   },
   {
    "duration": 73,
    "start_time": "2021-10-31T17:56:42.468Z"
   },
   {
    "duration": 2368,
    "start_time": "2021-10-31T17:56:42.544Z"
   },
   {
    "duration": 10972,
    "start_time": "2021-10-31T17:56:44.922Z"
   },
   {
    "duration": 1434,
    "start_time": "2021-10-31T17:56:55.897Z"
   },
   {
    "duration": 408,
    "start_time": "2021-10-31T17:56:57.423Z"
   },
   {
    "duration": 1390,
    "start_time": "2021-10-31T17:56:57.835Z"
   },
   {
    "duration": 398,
    "start_time": "2021-10-31T17:56:59.228Z"
   },
   {
    "duration": 7,
    "start_time": "2021-10-31T17:56:59.629Z"
   },
   {
    "duration": 16,
    "start_time": "2021-10-31T17:56:59.639Z"
   },
   {
    "duration": 266,
    "start_time": "2021-10-31T17:56:59.658Z"
   },
   {
    "duration": 37,
    "start_time": "2021-10-31T17:56:59.926Z"
   },
   {
    "duration": 943,
    "start_time": "2021-10-31T17:56:59.965Z"
   },
   {
    "duration": 3526,
    "start_time": "2021-10-31T17:57:00.911Z"
   },
   {
    "duration": 491,
    "start_time": "2021-10-31T17:57:04.440Z"
   },
   {
    "duration": 170,
    "start_time": "2021-10-31T17:57:05.023Z"
   },
   {
    "duration": 537,
    "start_time": "2021-10-31T17:57:05.195Z"
   },
   {
    "duration": 153,
    "start_time": "2021-10-31T17:57:05.823Z"
   },
   {
    "duration": 13,
    "start_time": "2021-10-31T17:57:05.979Z"
   },
   {
    "duration": 14,
    "start_time": "2021-10-31T18:01:56.134Z"
   },
   {
    "duration": 112,
    "start_time": "2021-10-31T18:08:45.323Z"
   },
   {
    "duration": 113,
    "start_time": "2021-10-31T18:08:50.138Z"
   },
   {
    "duration": 112,
    "start_time": "2021-10-31T18:09:36.977Z"
   },
   {
    "duration": 1450,
    "start_time": "2021-10-31T18:13:11.912Z"
   },
   {
    "duration": 39,
    "start_time": "2021-10-31T18:13:13.365Z"
   },
   {
    "duration": 25,
    "start_time": "2021-10-31T18:13:13.408Z"
   },
   {
    "duration": 28,
    "start_time": "2021-10-31T18:13:13.437Z"
   },
   {
    "duration": 19,
    "start_time": "2021-10-31T18:13:13.468Z"
   },
   {
    "duration": 79,
    "start_time": "2021-10-31T18:13:13.490Z"
   },
   {
    "duration": 19,
    "start_time": "2021-10-31T18:13:13.573Z"
   },
   {
    "duration": 21,
    "start_time": "2021-10-31T18:13:13.625Z"
   },
   {
    "duration": 40,
    "start_time": "2021-10-31T18:13:13.649Z"
   },
   {
    "duration": 400,
    "start_time": "2021-10-31T18:13:13.691Z"
   },
   {
    "duration": 31,
    "start_time": "2021-10-31T18:13:14.093Z"
   },
   {
    "duration": 10,
    "start_time": "2021-10-31T18:13:14.127Z"
   },
   {
    "duration": 11,
    "start_time": "2021-10-31T18:13:14.139Z"
   },
   {
    "duration": 487,
    "start_time": "2021-10-31T18:13:14.152Z"
   },
   {
    "duration": 11,
    "start_time": "2021-10-31T18:13:14.642Z"
   },
   {
    "duration": 23,
    "start_time": "2021-10-31T18:13:14.655Z"
   },
   {
    "duration": 5,
    "start_time": "2021-10-31T18:13:14.680Z"
   },
   {
    "duration": 65,
    "start_time": "2021-10-31T18:13:14.687Z"
   },
   {
    "duration": 26,
    "start_time": "2021-10-31T18:13:14.754Z"
   },
   {
    "duration": 41,
    "start_time": "2021-10-31T18:13:14.783Z"
   },
   {
    "duration": 11,
    "start_time": "2021-10-31T18:13:14.827Z"
   },
   {
    "duration": 10,
    "start_time": "2021-10-31T18:13:14.839Z"
   },
   {
    "duration": 4,
    "start_time": "2021-10-31T18:13:14.854Z"
   },
   {
    "duration": 65,
    "start_time": "2021-10-31T18:13:14.861Z"
   },
   {
    "duration": 681,
    "start_time": "2021-10-31T18:13:14.928Z"
   },
   {
    "duration": 64,
    "start_time": "2021-10-31T18:13:15.612Z"
   },
   {
    "duration": 2191,
    "start_time": "2021-10-31T18:13:15.680Z"
   },
   {
    "duration": 8958,
    "start_time": "2021-10-31T18:13:17.875Z"
   },
   {
    "duration": 994,
    "start_time": "2021-10-31T18:13:26.837Z"
   },
   {
    "duration": 1496,
    "start_time": "2021-10-31T18:13:27.834Z"
   },
   {
    "duration": 104,
    "start_time": "2021-10-31T18:13:29.424Z"
   },
   {
    "duration": 12,
    "start_time": "2021-10-31T18:13:29.530Z"
   },
   {
    "duration": 29,
    "start_time": "2021-10-31T18:13:29.544Z"
   },
   {
    "duration": 783,
    "start_time": "2021-10-31T18:13:29.576Z"
   },
   {
    "duration": 82,
    "start_time": "2021-10-31T18:13:30.362Z"
   },
   {
    "duration": 2618,
    "start_time": "2021-10-31T18:13:30.447Z"
   },
   {
    "duration": 11045,
    "start_time": "2021-10-31T18:13:33.068Z"
   },
   {
    "duration": 1308,
    "start_time": "2021-10-31T18:13:44.116Z"
   },
   {
    "duration": 437,
    "start_time": "2021-10-31T18:13:45.428Z"
   },
   {
    "duration": 1356,
    "start_time": "2021-10-31T18:13:45.868Z"
   },
   {
    "duration": 434,
    "start_time": "2021-10-31T18:13:47.228Z"
   },
   {
    "duration": 7,
    "start_time": "2021-10-31T18:13:47.665Z"
   },
   {
    "duration": 13,
    "start_time": "2021-10-31T18:13:47.675Z"
   },
   {
    "duration": 277,
    "start_time": "2021-10-31T18:13:47.691Z"
   },
   {
    "duration": 35,
    "start_time": "2021-10-31T18:13:47.971Z"
   },
   {
    "duration": 922,
    "start_time": "2021-10-31T18:13:48.008Z"
   },
   {
    "duration": 3411,
    "start_time": "2021-10-31T18:13:48.932Z"
   },
   {
    "duration": 586,
    "start_time": "2021-10-31T18:13:52.346Z"
   },
   {
    "duration": 171,
    "start_time": "2021-10-31T18:13:53.024Z"
   },
   {
    "duration": 624,
    "start_time": "2021-10-31T18:13:53.197Z"
   },
   {
    "duration": 202,
    "start_time": "2021-10-31T18:13:53.825Z"
   },
   {
    "duration": 14,
    "start_time": "2021-10-31T18:13:54.030Z"
   },
   {
    "duration": 185,
    "start_time": "2021-11-01T16:04:56.086Z"
   },
   {
    "duration": 377,
    "start_time": "2021-11-01T16:07:33.141Z"
   },
   {
    "duration": 1336,
    "start_time": "2021-11-01T16:21:08.908Z"
   },
   {
    "duration": 74,
    "start_time": "2021-11-01T16:21:10.247Z"
   },
   {
    "duration": 9,
    "start_time": "2021-11-01T16:21:10.325Z"
   },
   {
    "duration": 15,
    "start_time": "2021-11-01T16:21:10.336Z"
   },
   {
    "duration": 58,
    "start_time": "2021-11-01T16:21:10.353Z"
   },
   {
    "duration": 33,
    "start_time": "2021-11-01T16:21:10.413Z"
   },
   {
    "duration": 65,
    "start_time": "2021-11-01T16:21:10.449Z"
   },
   {
    "duration": 14,
    "start_time": "2021-11-01T16:21:10.516Z"
   },
   {
    "duration": 77,
    "start_time": "2021-11-01T16:21:10.533Z"
   },
   {
    "duration": 357,
    "start_time": "2021-11-01T16:21:10.612Z"
   },
   {
    "duration": 15,
    "start_time": "2021-11-01T16:21:10.971Z"
   },
   {
    "duration": 23,
    "start_time": "2021-11-01T16:21:10.988Z"
   },
   {
    "duration": 5,
    "start_time": "2021-11-01T16:21:11.013Z"
   },
   {
    "duration": 307,
    "start_time": "2021-11-01T16:21:11.020Z"
   },
   {
    "duration": 8,
    "start_time": "2021-11-01T16:21:11.329Z"
   },
   {
    "duration": 20,
    "start_time": "2021-11-01T16:21:11.338Z"
   },
   {
    "duration": 5,
    "start_time": "2021-11-01T16:21:11.359Z"
   },
   {
    "duration": 17,
    "start_time": "2021-11-01T16:21:11.366Z"
   },
   {
    "duration": 48,
    "start_time": "2021-11-01T16:21:11.384Z"
   },
   {
    "duration": 18,
    "start_time": "2021-11-01T16:21:11.434Z"
   },
   {
    "duration": 6,
    "start_time": "2021-11-01T16:21:11.454Z"
   },
   {
    "duration": 5,
    "start_time": "2021-11-01T16:21:11.464Z"
   },
   {
    "duration": 9,
    "start_time": "2021-11-01T16:21:11.471Z"
   },
   {
    "duration": 26,
    "start_time": "2021-11-01T16:21:11.482Z"
   },
   {
    "duration": 20,
    "start_time": "2021-11-01T16:21:11.510Z"
   },
   {
    "duration": 521,
    "start_time": "2021-11-01T16:21:11.532Z"
   },
   {
    "duration": 40,
    "start_time": "2021-11-01T16:21:12.055Z"
   },
   {
    "duration": 1553,
    "start_time": "2021-11-01T16:21:12.096Z"
   },
   {
    "duration": 6279,
    "start_time": "2021-11-01T16:21:13.651Z"
   },
   {
    "duration": 877,
    "start_time": "2021-11-01T16:21:19.931Z"
   },
   {
    "duration": 1499,
    "start_time": "2021-11-01T16:21:20.811Z"
   },
   {
    "duration": 109,
    "start_time": "2021-11-01T16:21:22.312Z"
   },
   {
    "duration": 6,
    "start_time": "2021-11-01T16:21:22.423Z"
   },
   {
    "duration": 32,
    "start_time": "2021-11-01T16:21:22.431Z"
   },
   {
    "duration": 776,
    "start_time": "2021-11-01T16:21:22.465Z"
   },
   {
    "duration": 72,
    "start_time": "2021-11-01T16:21:23.243Z"
   },
   {
    "duration": 2472,
    "start_time": "2021-11-01T16:21:23.317Z"
   },
   {
    "duration": 9126,
    "start_time": "2021-11-01T16:21:25.791Z"
   },
   {
    "duration": 1093,
    "start_time": "2021-11-01T16:21:34.919Z"
   },
   {
    "duration": 450,
    "start_time": "2021-11-01T16:21:36.015Z"
   },
   {
    "duration": 1148,
    "start_time": "2021-11-01T16:21:36.467Z"
   },
   {
    "duration": 497,
    "start_time": "2021-11-01T16:21:37.617Z"
   },
   {
    "duration": 5,
    "start_time": "2021-11-01T16:21:38.116Z"
   },
   {
    "duration": 15,
    "start_time": "2021-11-01T16:21:38.123Z"
   },
   {
    "duration": 199,
    "start_time": "2021-11-01T16:21:38.140Z"
   },
   {
    "duration": 27,
    "start_time": "2021-11-01T16:21:38.342Z"
   },
   {
    "duration": 662,
    "start_time": "2021-11-01T16:21:38.371Z"
   },
   {
    "duration": 2523,
    "start_time": "2021-11-01T16:21:39.036Z"
   },
   {
    "duration": 370,
    "start_time": "2021-11-01T16:21:41.562Z"
   },
   {
    "duration": 168,
    "start_time": "2021-11-01T16:21:42.008Z"
   },
   {
    "duration": 736,
    "start_time": "2021-11-01T16:21:42.178Z"
   },
   {
    "duration": 234,
    "start_time": "2021-11-01T16:21:42.916Z"
   },
   {
    "duration": 12,
    "start_time": "2021-11-01T16:21:43.152Z"
   },
   {
    "duration": 17,
    "start_time": "2021-11-01T16:24:30.020Z"
   },
   {
    "duration": 452,
    "start_time": "2021-11-01T16:25:47.704Z"
   },
   {
    "duration": 9,
    "start_time": "2021-11-01T16:26:24.778Z"
   },
   {
    "duration": 20,
    "start_time": "2021-11-01T16:26:27.350Z"
   },
   {
    "duration": 9,
    "start_time": "2021-11-01T16:26:33.777Z"
   },
   {
    "duration": 22,
    "start_time": "2021-11-01T16:26:36.148Z"
   },
   {
    "duration": 19,
    "start_time": "2021-11-01T16:26:38.598Z"
   },
   {
    "duration": 1253,
    "start_time": "2021-11-01T16:27:09.373Z"
   },
   {
    "duration": 30,
    "start_time": "2021-11-01T16:27:10.629Z"
   },
   {
    "duration": 21,
    "start_time": "2021-11-01T16:27:10.661Z"
   },
   {
    "duration": 32,
    "start_time": "2021-11-01T16:27:10.684Z"
   },
   {
    "duration": 19,
    "start_time": "2021-11-01T16:27:10.717Z"
   },
   {
    "duration": 56,
    "start_time": "2021-11-01T16:27:10.737Z"
   },
   {
    "duration": 10,
    "start_time": "2021-11-01T16:27:10.794Z"
   },
   {
    "duration": 17,
    "start_time": "2021-11-01T16:27:10.806Z"
   },
   {
    "duration": 24,
    "start_time": "2021-11-01T16:27:10.825Z"
   },
   {
    "duration": 235,
    "start_time": "2021-11-01T16:27:10.851Z"
   },
   {
    "duration": 23,
    "start_time": "2021-11-01T16:27:11.088Z"
   },
   {
    "duration": 17,
    "start_time": "2021-11-01T16:27:11.112Z"
   },
   {
    "duration": 8,
    "start_time": "2021-11-01T16:27:11.131Z"
   },
   {
    "duration": 292,
    "start_time": "2021-11-01T16:27:11.141Z"
   },
   {
    "duration": 9,
    "start_time": "2021-11-01T16:27:11.434Z"
   },
   {
    "duration": 34,
    "start_time": "2021-11-01T16:27:11.444Z"
   },
   {
    "duration": 15,
    "start_time": "2021-11-01T16:27:11.480Z"
   },
   {
    "duration": 26,
    "start_time": "2021-11-01T16:27:11.497Z"
   },
   {
    "duration": 34,
    "start_time": "2021-11-01T16:27:11.525Z"
   },
   {
    "duration": 439,
    "start_time": "2021-11-01T16:27:11.560Z"
   },
   {
    "duration": -166,
    "start_time": "2021-11-01T16:27:12.168Z"
   },
   {
    "duration": -174,
    "start_time": "2021-11-01T16:27:12.177Z"
   },
   {
    "duration": -181,
    "start_time": "2021-11-01T16:27:12.185Z"
   },
   {
    "duration": -184,
    "start_time": "2021-11-01T16:27:12.189Z"
   },
   {
    "duration": -189,
    "start_time": "2021-11-01T16:27:12.195Z"
   },
   {
    "duration": -194,
    "start_time": "2021-11-01T16:27:12.201Z"
   },
   {
    "duration": -198,
    "start_time": "2021-11-01T16:27:12.206Z"
   },
   {
    "duration": -202,
    "start_time": "2021-11-01T16:27:12.211Z"
   },
   {
    "duration": -206,
    "start_time": "2021-11-01T16:27:12.216Z"
   },
   {
    "duration": -210,
    "start_time": "2021-11-01T16:27:12.221Z"
   },
   {
    "duration": -213,
    "start_time": "2021-11-01T16:27:12.226Z"
   },
   {
    "duration": -216,
    "start_time": "2021-11-01T16:27:12.230Z"
   },
   {
    "duration": -221,
    "start_time": "2021-11-01T16:27:12.235Z"
   },
   {
    "duration": -225,
    "start_time": "2021-11-01T16:27:12.240Z"
   },
   {
    "duration": -229,
    "start_time": "2021-11-01T16:27:12.245Z"
   },
   {
    "duration": -233,
    "start_time": "2021-11-01T16:27:12.250Z"
   },
   {
    "duration": -236,
    "start_time": "2021-11-01T16:27:12.254Z"
   },
   {
    "duration": -247,
    "start_time": "2021-11-01T16:27:12.267Z"
   },
   {
    "duration": -252,
    "start_time": "2021-11-01T16:27:12.272Z"
   },
   {
    "duration": -256,
    "start_time": "2021-11-01T16:27:12.277Z"
   },
   {
    "duration": -260,
    "start_time": "2021-11-01T16:27:12.282Z"
   },
   {
    "duration": -263,
    "start_time": "2021-11-01T16:27:12.286Z"
   },
   {
    "duration": -268,
    "start_time": "2021-11-01T16:27:12.292Z"
   },
   {
    "duration": -272,
    "start_time": "2021-11-01T16:27:12.297Z"
   },
   {
    "duration": -277,
    "start_time": "2021-11-01T16:27:12.303Z"
   },
   {
    "duration": -282,
    "start_time": "2021-11-01T16:27:12.310Z"
   },
   {
    "duration": -288,
    "start_time": "2021-11-01T16:27:12.317Z"
   },
   {
    "duration": -293,
    "start_time": "2021-11-01T16:27:12.323Z"
   },
   {
    "duration": -299,
    "start_time": "2021-11-01T16:27:12.330Z"
   },
   {
    "duration": -306,
    "start_time": "2021-11-01T16:27:12.338Z"
   },
   {
    "duration": -312,
    "start_time": "2021-11-01T16:27:12.345Z"
   },
   {
    "duration": -317,
    "start_time": "2021-11-01T16:27:12.351Z"
   },
   {
    "duration": -322,
    "start_time": "2021-11-01T16:27:12.357Z"
   },
   {
    "duration": 351,
    "start_time": "2021-11-01T16:27:19.652Z"
   },
   {
    "duration": 10,
    "start_time": "2021-11-01T16:27:45.927Z"
   },
   {
    "duration": 20,
    "start_time": "2021-11-01T16:27:56.426Z"
   },
   {
    "duration": 1208,
    "start_time": "2021-11-01T16:31:25.558Z"
   },
   {
    "duration": 30,
    "start_time": "2021-11-01T16:31:26.768Z"
   },
   {
    "duration": 9,
    "start_time": "2021-11-01T16:31:26.800Z"
   },
   {
    "duration": 16,
    "start_time": "2021-11-01T16:31:26.811Z"
   },
   {
    "duration": 4,
    "start_time": "2021-11-01T16:31:26.828Z"
   },
   {
    "duration": 73,
    "start_time": "2021-11-01T16:31:26.834Z"
   },
   {
    "duration": 11,
    "start_time": "2021-11-01T16:31:26.909Z"
   },
   {
    "duration": 14,
    "start_time": "2021-11-01T16:31:26.922Z"
   },
   {
    "duration": 80,
    "start_time": "2021-11-01T16:31:26.938Z"
   },
   {
    "duration": 405,
    "start_time": "2021-11-01T16:31:27.020Z"
   },
   {
    "duration": 9,
    "start_time": "2021-11-01T16:31:27.427Z"
   },
   {
    "duration": 10,
    "start_time": "2021-11-01T16:31:27.438Z"
   },
   {
    "duration": 9,
    "start_time": "2021-11-01T16:31:27.449Z"
   },
   {
    "duration": 329,
    "start_time": "2021-11-01T16:31:27.460Z"
   },
   {
    "duration": 21,
    "start_time": "2021-11-01T16:31:27.791Z"
   },
   {
    "duration": 17,
    "start_time": "2021-11-01T16:31:27.813Z"
   },
   {
    "duration": 4,
    "start_time": "2021-11-01T16:31:27.832Z"
   },
   {
    "duration": 75,
    "start_time": "2021-11-01T16:31:27.837Z"
   },
   {
    "duration": 11,
    "start_time": "2021-11-01T16:31:27.913Z"
   },
   {
    "duration": 20,
    "start_time": "2021-11-01T16:31:27.925Z"
   },
   {
    "duration": 5,
    "start_time": "2021-11-01T16:31:27.947Z"
   },
   {
    "duration": 55,
    "start_time": "2021-11-01T16:31:27.954Z"
   },
   {
    "duration": 7,
    "start_time": "2021-11-01T16:31:28.013Z"
   },
   {
    "duration": 4,
    "start_time": "2021-11-01T16:31:28.023Z"
   },
   {
    "duration": 26,
    "start_time": "2021-11-01T16:31:28.028Z"
   },
   {
    "duration": 643,
    "start_time": "2021-11-01T16:31:28.106Z"
   },
   {
    "duration": 39,
    "start_time": "2021-11-01T16:31:28.751Z"
   },
   {
    "duration": 1840,
    "start_time": "2021-11-01T16:31:28.792Z"
   },
   {
    "duration": 6912,
    "start_time": "2021-11-01T16:31:30.634Z"
   },
   {
    "duration": 10060,
    "start_time": "2021-11-01T16:31:37.548Z"
   },
   {
    "duration": 10206,
    "start_time": "2021-11-01T16:31:47.610Z"
   },
   {
    "duration": 117,
    "start_time": "2021-11-01T16:31:57.908Z"
   },
   {
    "duration": 6,
    "start_time": "2021-11-01T16:31:58.027Z"
   },
   {
    "duration": 19,
    "start_time": "2021-11-01T16:31:58.034Z"
   },
   {
    "duration": 560,
    "start_time": "2021-11-01T16:31:58.055Z"
   },
   {
    "duration": 44,
    "start_time": "2021-11-01T16:31:58.617Z"
   },
   {
    "duration": 1669,
    "start_time": "2021-11-01T16:31:58.663Z"
   },
   {
    "duration": 7558,
    "start_time": "2021-11-01T16:32:00.334Z"
   },
   {
    "duration": 11221,
    "start_time": "2021-11-01T16:32:07.894Z"
   },
   {
    "duration": 398,
    "start_time": "2021-11-01T16:32:19.208Z"
   },
   {
    "duration": 13900,
    "start_time": "2021-11-01T16:32:19.608Z"
   },
   {
    "duration": 395,
    "start_time": "2021-11-01T16:32:33.512Z"
   },
   {
    "duration": 6,
    "start_time": "2021-11-01T16:32:33.909Z"
   },
   {
    "duration": 11,
    "start_time": "2021-11-01T16:32:33.916Z"
   },
   {
    "duration": 197,
    "start_time": "2021-11-01T16:32:33.928Z"
   },
   {
    "duration": 25,
    "start_time": "2021-11-01T16:32:34.127Z"
   },
   {
    "duration": 655,
    "start_time": "2021-11-01T16:32:34.154Z"
   },
   {
    "duration": 2595,
    "start_time": "2021-11-01T16:32:34.811Z"
   },
   {
    "duration": 5800,
    "start_time": "2021-11-01T16:32:37.408Z"
   },
   {
    "duration": 167,
    "start_time": "2021-11-01T16:32:43.210Z"
   },
   {
    "duration": 6630,
    "start_time": "2021-11-01T16:32:43.379Z"
   },
   {
    "duration": 169,
    "start_time": "2021-11-01T16:32:50.011Z"
   },
   {
    "duration": 26,
    "start_time": "2021-11-01T16:32:50.182Z"
   },
   {
    "duration": 579,
    "start_time": "2021-11-01T17:49:14.457Z"
   },
   {
    "duration": 115,
    "start_time": "2021-11-01T17:49:34.497Z"
   },
   {
    "duration": 89,
    "start_time": "2021-11-01T17:50:17.535Z"
   },
   {
    "duration": 7231,
    "start_time": "2021-11-01T17:51:10.938Z"
   },
   {
    "duration": 6014,
    "start_time": "2021-11-01T17:51:43.894Z"
   },
   {
    "duration": 24,
    "start_time": "2021-11-01T17:56:01.028Z"
   },
   {
    "duration": 167,
    "start_time": "2021-11-01T17:57:24.451Z"
   },
   {
    "duration": 124,
    "start_time": "2021-11-01T17:57:27.033Z"
   },
   {
    "duration": 14,
    "start_time": "2021-11-01T17:58:55.283Z"
   },
   {
    "duration": 1177,
    "start_time": "2021-11-01T18:03:01.369Z"
   },
   {
    "duration": 29,
    "start_time": "2021-11-01T18:03:02.548Z"
   },
   {
    "duration": 9,
    "start_time": "2021-11-01T18:03:02.579Z"
   },
   {
    "duration": 24,
    "start_time": "2021-11-01T18:03:02.590Z"
   },
   {
    "duration": 8,
    "start_time": "2021-11-01T18:03:02.616Z"
   },
   {
    "duration": 50,
    "start_time": "2021-11-01T18:03:02.625Z"
   },
   {
    "duration": 11,
    "start_time": "2021-11-01T18:03:02.676Z"
   },
   {
    "duration": 32,
    "start_time": "2021-11-01T18:03:02.689Z"
   },
   {
    "duration": 42,
    "start_time": "2021-11-01T18:03:02.723Z"
   },
   {
    "duration": 222,
    "start_time": "2021-11-01T18:03:02.767Z"
   },
   {
    "duration": 19,
    "start_time": "2021-11-01T18:03:02.991Z"
   },
   {
    "duration": 10,
    "start_time": "2021-11-01T18:03:03.012Z"
   },
   {
    "duration": 4,
    "start_time": "2021-11-01T18:03:03.024Z"
   },
   {
    "duration": 302,
    "start_time": "2021-11-01T18:03:03.029Z"
   },
   {
    "duration": 8,
    "start_time": "2021-11-01T18:03:03.333Z"
   },
   {
    "duration": 23,
    "start_time": "2021-11-01T18:03:03.343Z"
   },
   {
    "duration": 5,
    "start_time": "2021-11-01T18:03:03.368Z"
   },
   {
    "duration": 50,
    "start_time": "2021-11-01T18:03:03.375Z"
   },
   {
    "duration": 20,
    "start_time": "2021-11-01T18:03:03.427Z"
   },
   {
    "duration": 26,
    "start_time": "2021-11-01T18:03:03.449Z"
   },
   {
    "duration": 5,
    "start_time": "2021-11-01T18:03:03.477Z"
   },
   {
    "duration": 19,
    "start_time": "2021-11-01T18:03:03.484Z"
   },
   {
    "duration": 11,
    "start_time": "2021-11-01T18:03:03.507Z"
   },
   {
    "duration": 3,
    "start_time": "2021-11-01T18:03:03.520Z"
   },
   {
    "duration": 21,
    "start_time": "2021-11-01T18:03:03.525Z"
   },
   {
    "duration": 518,
    "start_time": "2021-11-01T18:03:03.548Z"
   },
   {
    "duration": 54,
    "start_time": "2021-11-01T18:03:04.068Z"
   },
   {
    "duration": 1461,
    "start_time": "2021-11-01T18:03:04.124Z"
   },
   {
    "duration": 6493,
    "start_time": "2021-11-01T18:03:05.587Z"
   },
   {
    "duration": 8728,
    "start_time": "2021-11-01T18:03:12.081Z"
   },
   {
    "duration": 13097,
    "start_time": "2021-11-01T18:03:20.811Z"
   },
   {
    "duration": 116,
    "start_time": "2021-11-01T18:03:33.911Z"
   },
   {
    "duration": 27,
    "start_time": "2021-11-01T18:03:34.029Z"
   },
   {
    "duration": 785,
    "start_time": "2021-11-01T18:03:34.058Z"
   },
   {
    "duration": 49,
    "start_time": "2021-11-01T18:03:34.845Z"
   },
   {
    "duration": 2061,
    "start_time": "2021-11-01T18:03:34.907Z"
   },
   {
    "duration": 9432,
    "start_time": "2021-11-01T18:03:36.970Z"
   },
   {
    "duration": 16808,
    "start_time": "2021-11-01T18:03:46.407Z"
   },
   {
    "duration": 425,
    "start_time": "2021-11-01T18:04:03.308Z"
   },
   {
    "duration": 15873,
    "start_time": "2021-11-01T18:04:03.735Z"
   },
   {
    "duration": 397,
    "start_time": "2021-11-01T18:04:19.611Z"
   },
   {
    "duration": 12,
    "start_time": "2021-11-01T18:04:20.010Z"
   },
   {
    "duration": 251,
    "start_time": "2021-11-01T18:04:20.024Z"
   },
   {
    "duration": 43,
    "start_time": "2021-11-01T18:04:20.276Z"
   },
   {
    "duration": 793,
    "start_time": "2021-11-01T18:04:20.321Z"
   },
   {
    "duration": 3549,
    "start_time": "2021-11-01T18:04:21.116Z"
   },
   {
    "duration": 7146,
    "start_time": "2021-11-01T18:04:24.667Z"
   },
   {
    "duration": 491,
    "start_time": "2021-11-01T18:04:31.816Z"
   },
   {
    "duration": 6600,
    "start_time": "2021-11-01T18:04:32.309Z"
   },
   {
    "duration": 395,
    "start_time": "2021-11-01T18:04:38.912Z"
   },
   {
    "duration": 100,
    "start_time": "2021-11-01T18:04:39.311Z"
   },
   {
    "duration": 411,
    "start_time": "2021-11-01T18:05:47.226Z"
   },
   {
    "duration": 2,
    "start_time": "2021-11-01T18:05:51.361Z"
   },
   {
    "duration": 6,
    "start_time": "2021-11-01T18:08:24.917Z"
   },
   {
    "duration": 1650,
    "start_time": "2021-11-01T18:12:10.403Z"
   },
   {
    "duration": 34,
    "start_time": "2021-11-01T18:12:12.107Z"
   },
   {
    "duration": 10,
    "start_time": "2021-11-01T18:12:12.143Z"
   },
   {
    "duration": 40,
    "start_time": "2021-11-01T18:12:12.156Z"
   },
   {
    "duration": 12,
    "start_time": "2021-11-01T18:12:12.198Z"
   },
   {
    "duration": 49,
    "start_time": "2021-11-01T18:12:12.212Z"
   },
   {
    "duration": 13,
    "start_time": "2021-11-01T18:12:12.263Z"
   },
   {
    "duration": 32,
    "start_time": "2021-11-01T18:12:12.280Z"
   },
   {
    "duration": 28,
    "start_time": "2021-11-01T18:12:12.315Z"
   },
   {
    "duration": 253,
    "start_time": "2021-11-01T18:12:12.345Z"
   },
   {
    "duration": 17,
    "start_time": "2021-11-01T18:12:12.600Z"
   },
   {
    "duration": 18,
    "start_time": "2021-11-01T18:12:12.619Z"
   },
   {
    "duration": 5,
    "start_time": "2021-11-01T18:12:12.639Z"
   },
   {
    "duration": 297,
    "start_time": "2021-11-01T18:12:12.646Z"
   },
   {
    "duration": 9,
    "start_time": "2021-11-01T18:12:12.944Z"
   },
   {
    "duration": 21,
    "start_time": "2021-11-01T18:12:12.955Z"
   },
   {
    "duration": 5,
    "start_time": "2021-11-01T18:12:12.978Z"
   },
   {
    "duration": 40,
    "start_time": "2021-11-01T18:12:12.985Z"
   },
   {
    "duration": 14,
    "start_time": "2021-11-01T18:12:13.027Z"
   },
   {
    "duration": 23,
    "start_time": "2021-11-01T18:12:13.042Z"
   },
   {
    "duration": 9,
    "start_time": "2021-11-01T18:12:13.066Z"
   },
   {
    "duration": 34,
    "start_time": "2021-11-01T18:12:13.077Z"
   },
   {
    "duration": 418,
    "start_time": "2021-11-01T18:12:13.114Z"
   },
   {
    "duration": 1220,
    "start_time": "2021-11-01T18:12:13.534Z"
   },
   {
    "duration": 5172,
    "start_time": "2021-11-01T18:12:14.756Z"
   },
   {
    "duration": 778,
    "start_time": "2021-11-01T18:12:19.930Z"
   },
   {
    "duration": 1397,
    "start_time": "2021-11-01T18:12:20.711Z"
   },
   {
    "duration": 97,
    "start_time": "2021-11-01T18:12:22.111Z"
   },
   {
    "duration": 692,
    "start_time": "2021-11-01T18:12:22.210Z"
   },
   {
    "duration": -102,
    "start_time": "2021-11-01T18:12:23.007Z"
   },
   {
    "duration": -113,
    "start_time": "2021-11-01T18:12:23.019Z"
   },
   {
    "duration": -116,
    "start_time": "2021-11-01T18:12:23.024Z"
   },
   {
    "duration": -119,
    "start_time": "2021-11-01T18:12:23.028Z"
   },
   {
    "duration": -151,
    "start_time": "2021-11-01T18:12:23.062Z"
   },
   {
    "duration": -156,
    "start_time": "2021-11-01T18:12:23.069Z"
   },
   {
    "duration": -177,
    "start_time": "2021-11-01T18:12:23.091Z"
   },
   {
    "duration": -186,
    "start_time": "2021-11-01T18:12:23.102Z"
   },
   {
    "duration": -210,
    "start_time": "2021-11-01T18:12:23.127Z"
   },
   {
    "duration": -217,
    "start_time": "2021-11-01T18:12:23.136Z"
   },
   {
    "duration": -220,
    "start_time": "2021-11-01T18:12:23.140Z"
   },
   {
    "duration": -225,
    "start_time": "2021-11-01T18:12:23.147Z"
   },
   {
    "duration": -253,
    "start_time": "2021-11-01T18:12:23.177Z"
   },
   {
    "duration": -261,
    "start_time": "2021-11-01T18:12:23.186Z"
   },
   {
    "duration": -265,
    "start_time": "2021-11-01T18:12:23.192Z"
   },
   {
    "duration": 6466,
    "start_time": "2021-11-01T18:12:45.811Z"
   },
   {
    "duration": 1032,
    "start_time": "2021-11-01T18:14:19.676Z"
   },
   {
    "duration": 1229,
    "start_time": "2021-11-01T18:14:59.012Z"
   },
   {
    "duration": 31,
    "start_time": "2021-11-01T18:15:00.244Z"
   },
   {
    "duration": 10,
    "start_time": "2021-11-01T18:15:00.280Z"
   },
   {
    "duration": 44,
    "start_time": "2021-11-01T18:15:00.292Z"
   },
   {
    "duration": 19,
    "start_time": "2021-11-01T18:15:00.338Z"
   },
   {
    "duration": 51,
    "start_time": "2021-11-01T18:15:00.359Z"
   },
   {
    "duration": 11,
    "start_time": "2021-11-01T18:15:00.413Z"
   },
   {
    "duration": 22,
    "start_time": "2021-11-01T18:15:00.426Z"
   },
   {
    "duration": 41,
    "start_time": "2021-11-01T18:15:00.450Z"
   },
   {
    "duration": 224,
    "start_time": "2021-11-01T18:15:00.493Z"
   },
   {
    "duration": 9,
    "start_time": "2021-11-01T18:15:00.719Z"
   },
   {
    "duration": 17,
    "start_time": "2021-11-01T18:15:00.730Z"
   },
   {
    "duration": 17,
    "start_time": "2021-11-01T18:15:00.749Z"
   },
   {
    "duration": 333,
    "start_time": "2021-11-01T18:15:00.768Z"
   },
   {
    "duration": 14,
    "start_time": "2021-11-01T18:15:01.104Z"
   },
   {
    "duration": 52,
    "start_time": "2021-11-01T18:15:01.120Z"
   },
   {
    "duration": 6,
    "start_time": "2021-11-01T18:15:01.175Z"
   },
   {
    "duration": 66,
    "start_time": "2021-11-01T18:15:01.183Z"
   },
   {
    "duration": 16,
    "start_time": "2021-11-01T18:15:01.251Z"
   },
   {
    "duration": 36,
    "start_time": "2021-11-01T18:15:01.269Z"
   },
   {
    "duration": 20,
    "start_time": "2021-11-01T18:15:01.307Z"
   },
   {
    "duration": 17,
    "start_time": "2021-11-01T18:15:01.330Z"
   },
   {
    "duration": 458,
    "start_time": "2021-11-01T18:15:01.349Z"
   },
   {
    "duration": 1223,
    "start_time": "2021-11-01T18:15:01.809Z"
   },
   {
    "duration": 5689,
    "start_time": "2021-11-01T18:15:03.033Z"
   },
   {
    "duration": 885,
    "start_time": "2021-11-01T18:15:08.724Z"
   },
   {
    "duration": 1398,
    "start_time": "2021-11-01T18:15:09.611Z"
   },
   {
    "duration": 97,
    "start_time": "2021-11-01T18:15:11.011Z"
   },
   {
    "duration": 767,
    "start_time": "2021-11-01T18:15:11.110Z"
   },
   {
    "duration": -68,
    "start_time": "2021-11-01T18:15:11.947Z"
   },
   {
    "duration": -73,
    "start_time": "2021-11-01T18:15:11.953Z"
   },
   {
    "duration": -80,
    "start_time": "2021-11-01T18:15:11.961Z"
   },
   {
    "duration": -84,
    "start_time": "2021-11-01T18:15:11.966Z"
   },
   {
    "duration": -89,
    "start_time": "2021-11-01T18:15:11.972Z"
   },
   {
    "duration": -92,
    "start_time": "2021-11-01T18:15:11.976Z"
   },
   {
    "duration": -96,
    "start_time": "2021-11-01T18:15:11.981Z"
   },
   {
    "duration": -98,
    "start_time": "2021-11-01T18:15:11.984Z"
   },
   {
    "duration": -102,
    "start_time": "2021-11-01T18:15:11.990Z"
   },
   {
    "duration": -106,
    "start_time": "2021-11-01T18:15:11.995Z"
   },
   {
    "duration": -109,
    "start_time": "2021-11-01T18:15:11.999Z"
   },
   {
    "duration": -112,
    "start_time": "2021-11-01T18:15:12.003Z"
   },
   {
    "duration": -117,
    "start_time": "2021-11-01T18:15:12.009Z"
   },
   {
    "duration": -122,
    "start_time": "2021-11-01T18:15:12.015Z"
   },
   {
    "duration": -125,
    "start_time": "2021-11-01T18:15:12.019Z"
   },
   {
    "duration": 149,
    "start_time": "2021-11-01T18:18:28.331Z"
   },
   {
    "duration": 141,
    "start_time": "2021-11-01T18:18:38.616Z"
   },
   {
    "duration": 616,
    "start_time": "2021-11-01T18:23:01.688Z"
   },
   {
    "duration": 1254,
    "start_time": "2021-11-01T18:23:24.596Z"
   },
   {
    "duration": 32,
    "start_time": "2021-11-01T18:23:25.852Z"
   },
   {
    "duration": 11,
    "start_time": "2021-11-01T18:23:25.886Z"
   },
   {
    "duration": 16,
    "start_time": "2021-11-01T18:23:25.907Z"
   },
   {
    "duration": 4,
    "start_time": "2021-11-01T18:23:25.924Z"
   },
   {
    "duration": 34,
    "start_time": "2021-11-01T18:23:25.930Z"
   },
   {
    "duration": 10,
    "start_time": "2021-11-01T18:23:25.966Z"
   },
   {
    "duration": 40,
    "start_time": "2021-11-01T18:23:25.978Z"
   },
   {
    "duration": 60,
    "start_time": "2021-11-01T18:23:26.020Z"
   },
   {
    "duration": 230,
    "start_time": "2021-11-01T18:23:26.083Z"
   },
   {
    "duration": 8,
    "start_time": "2021-11-01T18:23:26.315Z"
   },
   {
    "duration": 24,
    "start_time": "2021-11-01T18:23:26.325Z"
   },
   {
    "duration": 23,
    "start_time": "2021-11-01T18:23:26.351Z"
   },
   {
    "duration": 656,
    "start_time": "2021-11-01T18:23:26.376Z"
   },
   {
    "duration": 12,
    "start_time": "2021-11-01T18:23:27.034Z"
   },
   {
    "duration": 72,
    "start_time": "2021-11-01T18:23:27.048Z"
   },
   {
    "duration": 5,
    "start_time": "2021-11-01T18:23:27.122Z"
   },
   {
    "duration": 83,
    "start_time": "2021-11-01T18:23:27.129Z"
   },
   {
    "duration": 15,
    "start_time": "2021-11-01T18:23:27.214Z"
   },
   {
    "duration": 19,
    "start_time": "2021-11-01T18:23:27.231Z"
   },
   {
    "duration": 7,
    "start_time": "2021-11-01T18:23:27.252Z"
   },
   {
    "duration": 6,
    "start_time": "2021-11-01T18:23:27.307Z"
   },
   {
    "duration": 443,
    "start_time": "2021-11-01T18:23:27.317Z"
   },
   {
    "duration": 1238,
    "start_time": "2021-11-01T18:23:27.763Z"
   },
   {
    "duration": 5333,
    "start_time": "2021-11-01T18:23:29.007Z"
   },
   {
    "duration": 1067,
    "start_time": "2021-11-01T18:23:34.341Z"
   },
   {
    "duration": 1096,
    "start_time": "2021-11-01T18:23:35.411Z"
   },
   {
    "duration": 238,
    "start_time": "2021-11-01T18:23:36.511Z"
   },
   {
    "duration": 726,
    "start_time": "2021-11-01T18:23:36.751Z"
   },
   {
    "duration": -86,
    "start_time": "2021-11-01T18:23:37.565Z"
   },
   {
    "duration": -97,
    "start_time": "2021-11-01T18:23:37.577Z"
   },
   {
    "duration": -102,
    "start_time": "2021-11-01T18:23:37.583Z"
   },
   {
    "duration": -106,
    "start_time": "2021-11-01T18:23:37.588Z"
   },
   {
    "duration": -110,
    "start_time": "2021-11-01T18:23:37.593Z"
   },
   {
    "duration": -113,
    "start_time": "2021-11-01T18:23:37.597Z"
   },
   {
    "duration": -117,
    "start_time": "2021-11-01T18:23:37.603Z"
   },
   {
    "duration": -120,
    "start_time": "2021-11-01T18:23:37.607Z"
   },
   {
    "duration": -124,
    "start_time": "2021-11-01T18:23:37.612Z"
   },
   {
    "duration": -128,
    "start_time": "2021-11-01T18:23:37.617Z"
   },
   {
    "duration": -131,
    "start_time": "2021-11-01T18:23:37.621Z"
   },
   {
    "duration": -134,
    "start_time": "2021-11-01T18:23:37.625Z"
   },
   {
    "duration": -137,
    "start_time": "2021-11-01T18:23:37.629Z"
   },
   {
    "duration": -140,
    "start_time": "2021-11-01T18:23:37.634Z"
   },
   {
    "duration": -144,
    "start_time": "2021-11-01T18:23:37.639Z"
   },
   {
    "duration": 6,
    "start_time": "2021-11-01T18:25:13.600Z"
   },
   {
    "duration": 357,
    "start_time": "2021-11-01T18:25:31.901Z"
   },
   {
    "duration": 15,
    "start_time": "2021-11-01T18:25:42.013Z"
   },
   {
    "duration": 337,
    "start_time": "2021-11-01T18:25:50.595Z"
   },
   {
    "duration": 5,
    "start_time": "2021-11-01T18:25:54.134Z"
   },
   {
    "duration": 14,
    "start_time": "2021-11-01T18:26:09.767Z"
   },
   {
    "duration": 18,
    "start_time": "2021-11-01T18:28:18.723Z"
   },
   {
    "duration": 1819,
    "start_time": "2021-11-01T18:28:31.830Z"
   },
   {
    "duration": 64,
    "start_time": "2021-11-01T18:28:33.651Z"
   },
   {
    "duration": 9,
    "start_time": "2021-11-01T18:28:33.719Z"
   },
   {
    "duration": 15,
    "start_time": "2021-11-01T18:28:33.730Z"
   },
   {
    "duration": 4,
    "start_time": "2021-11-01T18:28:33.747Z"
   },
   {
    "duration": 56,
    "start_time": "2021-11-01T18:28:33.753Z"
   },
   {
    "duration": 9,
    "start_time": "2021-11-01T18:28:33.812Z"
   },
   {
    "duration": 14,
    "start_time": "2021-11-01T18:28:33.824Z"
   },
   {
    "duration": 26,
    "start_time": "2021-11-01T18:28:33.839Z"
   },
   {
    "duration": 255,
    "start_time": "2021-11-01T18:28:33.867Z"
   },
   {
    "duration": 18,
    "start_time": "2021-11-01T18:28:34.124Z"
   },
   {
    "duration": 8,
    "start_time": "2021-11-01T18:28:34.144Z"
   },
   {
    "duration": 4,
    "start_time": "2021-11-01T18:28:34.154Z"
   },
   {
    "duration": 302,
    "start_time": "2021-11-01T18:28:34.159Z"
   },
   {
    "duration": 9,
    "start_time": "2021-11-01T18:28:34.463Z"
   },
   {
    "duration": 13,
    "start_time": "2021-11-01T18:28:34.474Z"
   },
   {
    "duration": 5,
    "start_time": "2021-11-01T18:28:34.507Z"
   },
   {
    "duration": 32,
    "start_time": "2021-11-01T18:28:34.514Z"
   },
   {
    "duration": 10,
    "start_time": "2021-11-01T18:28:34.548Z"
   },
   {
    "duration": 30,
    "start_time": "2021-11-01T18:28:34.559Z"
   },
   {
    "duration": 20,
    "start_time": "2021-11-01T18:28:34.591Z"
   },
   {
    "duration": 4,
    "start_time": "2021-11-01T18:28:34.614Z"
   },
   {
    "duration": 426,
    "start_time": "2021-11-01T18:28:34.620Z"
   },
   {
    "duration": 1322,
    "start_time": "2021-11-01T18:28:35.048Z"
   },
   {
    "duration": 5240,
    "start_time": "2021-11-01T18:28:36.372Z"
   },
   {
    "duration": 796,
    "start_time": "2021-11-01T18:28:41.613Z"
   },
   {
    "duration": 1101,
    "start_time": "2021-11-01T18:28:42.411Z"
   },
   {
    "duration": 253,
    "start_time": "2021-11-01T18:28:43.514Z"
   },
   {
    "duration": 19,
    "start_time": "2021-11-01T18:28:43.769Z"
   },
   {
    "duration": 533,
    "start_time": "2021-11-01T18:28:43.789Z"
   },
   {
    "duration": 1771,
    "start_time": "2021-11-01T18:28:44.324Z"
   },
   {
    "duration": 7502,
    "start_time": "2021-11-01T18:28:46.098Z"
   },
   {
    "duration": 1510,
    "start_time": "2021-11-01T18:28:53.602Z"
   },
   {
    "duration": 383,
    "start_time": "2021-11-01T18:28:55.114Z"
   },
   {
    "duration": 1215,
    "start_time": "2021-11-01T18:28:55.499Z"
   },
   {
    "duration": 480,
    "start_time": "2021-11-01T18:28:56.717Z"
   },
   {
    "duration": 209,
    "start_time": "2021-11-01T18:28:57.207Z"
   },
   {
    "duration": 851,
    "start_time": "2021-11-01T18:28:57.418Z"
   },
   {
    "duration": 2720,
    "start_time": "2021-11-01T18:28:58.272Z"
   },
   {
    "duration": 621,
    "start_time": "2021-11-01T18:29:00.994Z"
   },
   {
    "duration": 384,
    "start_time": "2021-11-01T18:29:01.708Z"
   },
   {
    "duration": 702,
    "start_time": "2021-11-01T18:29:02.106Z"
   },
   {
    "duration": 396,
    "start_time": "2021-11-01T18:29:02.811Z"
   },
   {
    "duration": 101,
    "start_time": "2021-11-01T18:29:03.209Z"
   },
   {
    "duration": 6735,
    "start_time": "2021-11-01T18:29:28.098Z"
   },
   {
    "duration": 2501,
    "start_time": "2021-11-01T18:31:15.721Z"
   },
   {
    "duration": 1145,
    "start_time": "2021-11-01T18:31:49.273Z"
   },
   {
    "duration": 893,
    "start_time": "2021-11-01T18:32:10.716Z"
   },
   {
    "duration": 288,
    "start_time": "2021-11-01T18:32:29.702Z"
   },
   {
    "duration": 333,
    "start_time": "2021-11-01T18:33:37.775Z"
   },
   {
    "duration": 259,
    "start_time": "2021-11-01T18:33:40.152Z"
   },
   {
    "duration": 296,
    "start_time": "2021-11-01T18:33:56.410Z"
   },
   {
    "duration": 2757,
    "start_time": "2021-11-01T18:36:06.052Z"
   },
   {
    "duration": 2503,
    "start_time": "2021-11-01T18:36:49.399Z"
   },
   {
    "duration": 257,
    "start_time": "2021-11-01T18:36:55.785Z"
   },
   {
    "duration": 17,
    "start_time": "2021-11-01T18:37:26.314Z"
   },
   {
    "duration": 17,
    "start_time": "2021-11-01T18:41:09.735Z"
   },
   {
    "duration": 10,
    "start_time": "2021-11-01T18:41:35.892Z"
   },
   {
    "duration": 239,
    "start_time": "2021-11-01T18:41:50.349Z"
   },
   {
    "duration": 14,
    "start_time": "2021-11-01T18:41:51.000Z"
   },
   {
    "duration": 338,
    "start_time": "2021-11-01T18:42:37.368Z"
   },
   {
    "duration": 284,
    "start_time": "2021-11-01T18:44:28.426Z"
   },
   {
    "duration": 440,
    "start_time": "2021-11-01T18:45:32.444Z"
   },
   {
    "duration": 34,
    "start_time": "2021-11-01T18:46:07.343Z"
   },
   {
    "duration": 31,
    "start_time": "2021-11-01T18:46:18.505Z"
   },
   {
    "duration": 1491,
    "start_time": "2021-11-01T18:47:09.144Z"
   },
   {
    "duration": 1124,
    "start_time": "2021-11-01T18:51:19.994Z"
   },
   {
    "duration": 1200,
    "start_time": "2021-11-01T18:51:38.917Z"
   },
   {
    "duration": 1322,
    "start_time": "2021-11-01T18:51:59.094Z"
   },
   {
    "duration": 937,
    "start_time": "2021-11-01T18:52:41.381Z"
   },
   {
    "duration": 5281,
    "start_time": "2021-11-01T18:54:29.453Z"
   },
   {
    "duration": 436,
    "start_time": "2021-11-01T18:55:28.328Z"
   },
   {
    "duration": 1201,
    "start_time": "2021-11-01T19:05:13.753Z"
   },
   {
    "duration": 33,
    "start_time": "2021-11-01T19:05:14.956Z"
   },
   {
    "duration": 9,
    "start_time": "2021-11-01T19:05:14.991Z"
   },
   {
    "duration": 26,
    "start_time": "2021-11-01T19:05:15.002Z"
   },
   {
    "duration": 19,
    "start_time": "2021-11-01T19:05:15.030Z"
   },
   {
    "duration": 51,
    "start_time": "2021-11-01T19:05:15.051Z"
   },
   {
    "duration": 11,
    "start_time": "2021-11-01T19:05:15.104Z"
   },
   {
    "duration": 14,
    "start_time": "2021-11-01T19:05:15.118Z"
   },
   {
    "duration": 30,
    "start_time": "2021-11-01T19:05:15.134Z"
   },
   {
    "duration": 249,
    "start_time": "2021-11-01T19:05:15.166Z"
   },
   {
    "duration": 9,
    "start_time": "2021-11-01T19:05:15.417Z"
   },
   {
    "duration": 17,
    "start_time": "2021-11-01T19:05:15.428Z"
   },
   {
    "duration": 34,
    "start_time": "2021-11-01T19:05:15.447Z"
   },
   {
    "duration": 323,
    "start_time": "2021-11-01T19:05:15.483Z"
   },
   {
    "duration": 8,
    "start_time": "2021-11-01T19:05:15.808Z"
   },
   {
    "duration": 27,
    "start_time": "2021-11-01T19:05:15.818Z"
   },
   {
    "duration": 4,
    "start_time": "2021-11-01T19:05:15.847Z"
   },
   {
    "duration": 42,
    "start_time": "2021-11-01T19:05:15.853Z"
   },
   {
    "duration": 11,
    "start_time": "2021-11-01T19:05:15.897Z"
   },
   {
    "duration": 29,
    "start_time": "2021-11-01T19:05:15.910Z"
   },
   {
    "duration": 17,
    "start_time": "2021-11-01T19:05:15.942Z"
   },
   {
    "duration": 22,
    "start_time": "2021-11-01T19:05:15.961Z"
   },
   {
    "duration": 468,
    "start_time": "2021-11-01T19:05:15.987Z"
   },
   {
    "duration": 1256,
    "start_time": "2021-11-01T19:05:16.458Z"
   },
   {
    "duration": 5624,
    "start_time": "2021-11-01T19:05:17.717Z"
   },
   {
    "duration": 1075,
    "start_time": "2021-11-01T19:05:23.343Z"
   },
   {
    "duration": 1297,
    "start_time": "2021-11-01T19:05:24.420Z"
   },
   {
    "duration": 323,
    "start_time": "2021-11-01T19:05:25.719Z"
   },
   {
    "duration": 19,
    "start_time": "2021-11-01T19:05:26.044Z"
   },
   {
    "duration": 542,
    "start_time": "2021-11-01T19:05:26.065Z"
   },
   {
    "duration": 29,
    "start_time": "2021-11-01T19:05:26.609Z"
   },
   {
    "duration": 1900,
    "start_time": "2021-11-01T19:05:26.640Z"
   },
   {
    "duration": 6648,
    "start_time": "2021-11-01T19:05:28.542Z"
   },
   {
    "duration": 457,
    "start_time": "2021-11-01T19:05:35.192Z"
   },
   {
    "duration": 1262,
    "start_time": "2021-11-01T19:05:35.650Z"
   },
   {
    "duration": 396,
    "start_time": "2021-11-01T19:05:36.915Z"
   },
   {
    "duration": 1400,
    "start_time": "2021-11-01T19:05:37.314Z"
   },
   {
    "duration": 691,
    "start_time": "2021-11-01T19:05:38.716Z"
   },
   {
    "duration": 361,
    "start_time": "2021-11-01T19:05:39.418Z"
   },
   {
    "duration": 17,
    "start_time": "2021-11-01T19:05:39.780Z"
   },
   {
    "duration": 694,
    "start_time": "2021-11-01T19:05:39.806Z"
   },
   {
    "duration": 2737,
    "start_time": "2021-11-01T19:05:40.506Z"
   },
   {
    "duration": 275,
    "start_time": "2021-11-01T19:05:43.245Z"
   },
   {
    "duration": 693,
    "start_time": "2021-11-01T19:05:43.522Z"
   },
   {
    "duration": 491,
    "start_time": "2021-11-01T19:05:44.217Z"
   },
   {
    "duration": 607,
    "start_time": "2021-11-01T19:05:44.711Z"
   },
   {
    "duration": 394,
    "start_time": "2021-11-01T19:05:45.320Z"
   },
   {
    "duration": 93,
    "start_time": "2021-11-01T19:05:45.716Z"
   },
   {
    "duration": 101,
    "start_time": "2021-11-01T19:05:45.812Z"
   },
   {
    "duration": 10,
    "start_time": "2021-11-01T19:07:37.802Z"
   },
   {
    "duration": 10,
    "start_time": "2021-11-01T19:08:30.353Z"
   },
   {
    "duration": 11,
    "start_time": "2021-11-01T19:08:32.047Z"
   },
   {
    "duration": 276,
    "start_time": "2022-01-25T22:56:50.474Z"
   },
   {
    "duration": 1140,
    "start_time": "2022-01-25T22:56:57.488Z"
   },
   {
    "duration": 26,
    "start_time": "2022-01-25T22:56:58.630Z"
   },
   {
    "duration": 8,
    "start_time": "2022-01-25T22:56:58.658Z"
   },
   {
    "duration": 16,
    "start_time": "2022-01-25T22:56:58.668Z"
   },
   {
    "duration": 4,
    "start_time": "2022-01-25T22:56:58.685Z"
   },
   {
    "duration": 50,
    "start_time": "2022-01-25T22:56:58.690Z"
   },
   {
    "duration": 9,
    "start_time": "2022-01-25T22:56:58.741Z"
   },
   {
    "duration": 11,
    "start_time": "2022-01-25T22:56:58.753Z"
   },
   {
    "duration": 22,
    "start_time": "2022-01-25T22:56:58.766Z"
   },
   {
    "duration": 231,
    "start_time": "2022-01-25T22:56:58.812Z"
   },
   {
    "duration": 8,
    "start_time": "2022-01-25T22:56:59.045Z"
   },
   {
    "duration": 8,
    "start_time": "2022-01-25T22:56:59.055Z"
   },
   {
    "duration": 4,
    "start_time": "2022-01-25T22:56:59.064Z"
   },
   {
    "duration": 301,
    "start_time": "2022-01-25T22:56:59.069Z"
   },
   {
    "duration": 7,
    "start_time": "2022-01-25T22:56:59.372Z"
   },
   {
    "duration": 11,
    "start_time": "2022-01-25T22:56:59.381Z"
   },
   {
    "duration": 20,
    "start_time": "2022-01-25T22:56:59.393Z"
   },
   {
    "duration": 23,
    "start_time": "2022-01-25T22:56:59.414Z"
   },
   {
    "duration": 9,
    "start_time": "2022-01-25T22:56:59.439Z"
   },
   {
    "duration": 19,
    "start_time": "2022-01-25T22:56:59.450Z"
   },
   {
    "duration": 5,
    "start_time": "2022-01-25T22:56:59.470Z"
   },
   {
    "duration": 36,
    "start_time": "2022-01-25T22:56:59.476Z"
   },
   {
    "duration": 398,
    "start_time": "2022-01-25T22:56:59.515Z"
   },
   {
    "duration": 1145,
    "start_time": "2022-01-25T22:56:59.915Z"
   },
   {
    "duration": 4962,
    "start_time": "2022-01-25T22:57:01.062Z"
   },
   {
    "duration": 1293,
    "start_time": "2022-01-25T22:57:06.026Z"
   },
   {
    "duration": 1299,
    "start_time": "2022-01-25T22:57:07.321Z"
   },
   {
    "duration": 390,
    "start_time": "2022-01-25T22:57:08.622Z"
   },
   {
    "duration": 21,
    "start_time": "2022-01-25T22:57:09.015Z"
   },
   {
    "duration": 512,
    "start_time": "2022-01-25T22:57:09.038Z"
   },
   {
    "duration": 28,
    "start_time": "2022-01-25T22:57:09.551Z"
   },
   {
    "duration": 1533,
    "start_time": "2022-01-25T22:57:09.581Z"
   },
   {
    "duration": 6149,
    "start_time": "2022-01-25T22:57:11.116Z"
   },
   {
    "duration": 446,
    "start_time": "2022-01-25T22:57:17.267Z"
   },
   {
    "duration": 1207,
    "start_time": "2022-01-25T22:57:17.715Z"
   },
   {
    "duration": 404,
    "start_time": "2022-01-25T22:57:19.014Z"
   },
   {
    "duration": 1396,
    "start_time": "2022-01-25T22:57:19.420Z"
   },
   {
    "duration": 397,
    "start_time": "2022-01-25T22:57:20.818Z"
   },
   {
    "duration": 320,
    "start_time": "2022-01-25T22:57:21.218Z"
   },
   {
    "duration": 15,
    "start_time": "2022-01-25T22:57:21.540Z"
   },
   {
    "duration": 656,
    "start_time": "2022-01-25T22:57:21.556Z"
   },
   {
    "duration": 2366,
    "start_time": "2022-01-25T22:57:22.213Z"
   },
   {
    "duration": 246,
    "start_time": "2022-01-25T22:57:24.581Z"
   },
   {
    "duration": 784,
    "start_time": "2022-01-25T22:57:24.829Z"
   },
   {
    "duration": 397,
    "start_time": "2022-01-25T22:57:25.616Z"
   },
   {
    "duration": 897,
    "start_time": "2022-01-25T22:57:26.016Z"
   },
   {
    "duration": 398,
    "start_time": "2022-01-25T22:57:26.915Z"
   },
   {
    "duration": 105,
    "start_time": "2022-01-25T22:57:27.316Z"
   },
   {
    "duration": 10,
    "start_time": "2022-01-25T22:57:27.422Z"
   }
  ],
  "kernelspec": {
   "display_name": "Python 3",
   "language": "python",
   "name": "python3"
  },
  "language_info": {
   "codemirror_mode": {
    "name": "ipython",
    "version": 3
   },
   "file_extension": ".py",
   "mimetype": "text/x-python",
   "name": "python",
   "nbconvert_exporter": "python",
   "pygments_lexer": "ipython3",
   "version": "3.7.8"
  },
  "toc": {
   "base_numbering": 1,
   "nav_menu": {},
   "number_sections": true,
   "sideBar": true,
   "skip_h1_title": true,
   "title_cell": "Содержание",
   "title_sidebar": "Contents",
   "toc_cell": true,
   "toc_position": {
    "height": "calc(100% - 180px)",
    "left": "10px",
    "top": "150px",
    "width": "260px"
   },
   "toc_section_display": true,
   "toc_window_display": true
  }
 },
 "nbformat": 4,
 "nbformat_minor": 2
}
